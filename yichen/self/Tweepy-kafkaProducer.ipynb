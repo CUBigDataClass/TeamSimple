{
 "cells": [
  {
   "cell_type": "markdown",
   "metadata": {},
   "source": [
    "# Ingesting realtime tweets using Apache Kafka, Tweepy and Python\n",
    "\n",
    "### Purpose:\n",
    "- main data source for the lambda architecture pipeline\n",
    "- uses twitter streaming API to simulate new events coming in every minute\n",
    "- Kafka Producer sends the tweets as records to the Kafka Broker\n",
    "\n",
    "### Contents: \n",
    "- [Twitter setup](#1)\n",
    "- [Defining the Kafka producer](#2)\n",
    "- [Producing and sending records to the Kafka Broker](#3)\n",
    "- [Deployment](#4)"
   ]
  },
  {
   "cell_type": "markdown",
   "metadata": {},
   "source": [
    "### Required libraries"
   ]
  },
  {
   "cell_type": "code",
   "execution_count": 1,
   "metadata": {},
   "outputs": [],
   "source": [
    "import tweepy\n",
    "import time\n",
    "from kafka import KafkaConsumer, KafkaProducer"
   ]
  },
  {
   "cell_type": "markdown",
   "metadata": {},
   "source": [
    "<a id=\"1\"></a>\n",
    "### Twitter setup\n",
    "- getting the API object using authorization information\n",
    "- you can find more details on how to get the authorization here:\n",
    "https://developer.twitter.com/en/docs/basics/authentication/overview"
   ]
  },
  {
   "cell_type": "code",
   "execution_count": 2,
   "metadata": {},
   "outputs": [],
   "source": [
    "# twitter setup\n",
    "ACCESS_TOKEN = '799844067701977088-qrHMnTaYFUcqBbeG5yT3G8GTieLJt6N'\n",
    "ACCESS_SECRET = 'kRtA7MsTjvAqmft9BdtE7z2FtAouYsOY8OlAvByIy5m1l'\n",
    "CONSUMER_KEY = 'yZUmKJQxfGmpLtvVTmGTHPKiD'\n",
    "CONSUMER_SECRET = '1bwO3JIc664KkObN5LJYVpALDi63NBExoLSKsaMrJ7KPYKYiXM'\n",
    "# Setup tweepy to authenticate with Twitter credentials:\n",
    "auth = tweepy.OAuthHandler(CONSUMER_KEY, CONSUMER_SECRET)\n",
    "auth.set_access_token(ACCESS_TOKEN, ACCESS_SECRET)\n",
    "# Creating the API object by passing in auth information\n",
    "api = tweepy.API(auth) \n"
   ]
  },
  {
   "cell_type": "markdown",
   "metadata": {},
   "source": [
    "A helper function to normalize the time a tweet was created with the time of our system"
   ]
  },
  {
   "cell_type": "code",
   "execution_count": 3,
   "metadata": {},
   "outputs": [],
   "source": [
    "from datetime import datetime, timedelta\n",
    "\n",
    "def normalize_timestamp(time):\n",
    "    mytime = datetime.strptime(time, \"%Y-%m-%d %H:%M:%S\")\n",
    "    mytime += timedelta(hours=1)   # the tweets are timestamped in GMT timezone, while I am in +1 timezone\n",
    "    return (mytime.strftime(\"%Y-%m-%d %H:%M:%S\")) "
   ]
  },
  {
   "cell_type": "markdown",
   "metadata": {},
   "source": [
    "<a id=\"2\"></a>\n",
    "### Defining the Kafka producer\n",
    "- specify the Kafka Broker\n",
    "- specify the topic name\n",
    "- optional: specify partitioning strategy"
   ]
  },
  {
   "cell_type": "code",
   "execution_count": 4,
   "metadata": {},
   "outputs": [],
   "source": [
    "producer = KafkaProducer(bootstrap_servers='localhost:9092')\n",
    "topic_name = 'tweets-kafka-test'"
   ]
  },
  {
   "cell_type": "markdown",
   "metadata": {},
   "source": [
    "<a id=\"3\"></a>\n",
    "### Producing and sending records to the Kafka Broker\n",
    "- querying the Twitter API Object\n",
    "- extracting relevant information from the response\n",
    "- formatting and sending the data to proper topic on the Kafka Broker\n",
    "- resulting tweets have following attributes:\n",
    "    - id \n",
    "    - created_at\n",
    "    - followers_count\n",
    "    - location\n",
    "    - favorite_count\n",
    "    - retweet_count"
   ]
  },
  {
   "cell_type": "code",
   "execution_count": 5,
   "metadata": {},
   "outputs": [],
   "source": [
    "def get_twitter_data():\n",
    "    res = api.search(\"Apple OR iphone OR iPhone\")\n",
    "    j=0\n",
    "    for i in res:\n",
    "        record = ''\n",
    "        record += str(i.user.id_str)\n",
    "        record += ';'\n",
    "        record += str(normalize_timestamp(str(i.created_at)))\n",
    "        record += ';'\n",
    "        record += str(i.user.followers_count)\n",
    "        record += ';'\n",
    "        record += str(i.user.location)\n",
    "        record += ';'\n",
    "        record += str(i.favorite_count)\n",
    "        record += ';'\n",
    "        record += str(i.retweet_count)\n",
    "        record += ';'\n",
    "        producer.send(topic_name, str.encode(record))\n",
    "        if j==0:\n",
    "            print(record)\n",
    "            j+=1"
   ]
  },
  {
   "cell_type": "code",
   "execution_count": 6,
   "metadata": {},
   "outputs": [
    {
     "name": "stdout",
     "output_type": "stream",
     "text": [
      "705122059;2019-03-22 05:26:24;352;Bandung, West Java, Indonesia;0;0;\n"
     ]
    }
   ],
   "source": [
    "get_twitter_data()"
   ]
  },
  {
   "cell_type": "markdown",
   "metadata": {},
   "source": [
    "<a id=\"4\"></a>\n",
    "### Deployment \n",
    "- perform the task every couple of minutes and wait in between"
   ]
  },
  {
   "cell_type": "code",
   "execution_count": 7,
   "metadata": {},
   "outputs": [],
   "source": [
    "def periodic_work(interval):\n",
    "    while True:\n",
    "        get_twitter_data()\n",
    "        #interval should be an integer, the number of seconds to wait\n",
    "        time.sleep(interval)\n"
   ]
  },
  {
   "cell_type": "code",
   "execution_count": null,
   "metadata": {},
   "outputs": [
    {
     "name": "stdout",
     "output_type": "stream",
     "text": [
      "2698991357;2019-03-22 05:54:52;2712;jerusalem palestine;0;0;\n",
      "2698991357;2019-03-22 05:54:52;2712;jerusalem palestine;0;0;\n",
      "2698991357;2019-03-22 05:54:52;2712;jerusalem palestine;0;0;\n",
      "2698991357;2019-03-22 05:54:52;2712;jerusalem palestine;0;0;\n",
      "571302152;2019-03-22 05:55:17;2183;Kampala;0;9;\n",
      "571302152;2019-03-22 05:55:17;2183;Kampala;0;9;\n",
      "571302152;2019-03-22 05:55:17;2183;Kampala;0;9;\n",
      "571302152;2019-03-22 05:55:17;2183;Kampala;0;9;\n",
      "732626491222175744;2019-03-22 05:55:42;41;Lithuania;0;19;\n",
      "732626491222175744;2019-03-22 05:55:42;41;Lithuania;0;19;\n",
      "732626491222175744;2019-03-22 05:55:42;41;Lithuania;0;19;\n",
      "343228023;2019-03-22 05:56:02;499;;0;0;\n",
      "343228023;2019-03-22 05:56:02;499;;0;0;\n",
      "343228023;2019-03-22 05:56:02;499;;0;0;\n",
      "343228023;2019-03-22 05:56:02;499;;0;0;\n",
      "2522015179;2019-03-22 05:56:26;492;;0;185;\n",
      "2522015179;2019-03-22 05:56:26;492;;0;185;\n",
      "2522015179;2019-03-22 05:56:26;492;;0;185;\n",
      "2522015179;2019-03-22 05:56:26;492;;0;188;\n",
      "2309107896;2019-03-22 05:56:52;145;kenuchi;0;0;\n",
      "2309107896;2019-03-22 05:56:52;145;kenuchi;0;0;\n",
      "2309107896;2019-03-22 05:56:52;145;kenuchi;0;0;\n",
      "2309107896;2019-03-22 05:56:52;145;kenuchi;0;0;\n",
      "1284335042;2019-03-22 05:57:17;2085;Houston, TX;0;2574;\n",
      "1284335042;2019-03-22 05:57:17;2085;Houston, TX;0;2576;\n",
      "1284335042;2019-03-22 05:57:17;2085;Houston, TX;0;2578;\n",
      "1284335042;2019-03-22 05:57:17;2085;Houston, TX;0;2581;\n",
      "585490397;2019-03-22 05:57:43;51148;;0;0;\n",
      "585490397;2019-03-22 05:57:43;51148;;0;0;\n",
      "585490397;2019-03-22 05:57:43;51148;;0;0;\n",
      "585490397;2019-03-22 05:57:43;51148;;0;0;\n",
      "3022692013;2019-03-22 05:58:08;114;月のチコ・クレーター;0;0;\n",
      "3022692013;2019-03-22 05:58:08;114;月のチコ・クレーター;0;0;\n",
      "3022692013;2019-03-22 05:58:08;114;月のチコ・クレーター;0;0;\n",
      "3022692013;2019-03-22 05:58:08;114;月のチコ・クレーター;0;0;\n",
      "452027095;2019-03-22 05:58:33;90;;0;501;\n",
      "452027095;2019-03-22 05:58:33;90;;0;501;\n",
      "452027095;2019-03-22 05:58:33;90;;0;501;\n",
      "452027095;2019-03-22 05:58:33;90;;0;501;\n",
      "1685839548;2019-03-22 05:58:58;442;5𝓗𝓘𝓝𝓮𝓮 & 𝓝𝓒𝓣;0;7158;\n",
      "1685839548;2019-03-22 05:58:58;442;5𝓗𝓘𝓝𝓮𝓮 & 𝓝𝓒𝓣;0;7158;\n",
      "1685839548;2019-03-22 05:58:58;442;5𝓗𝓘𝓝𝓮𝓮 & 𝓝𝓒𝓣;0;7158;\n",
      "1685839548;2019-03-22 05:58:58;442;5𝓗𝓘𝓝𝓮𝓮 & 𝓝𝓒𝓣;0;7158;\n",
      "829333637581533185;2019-03-22 05:59:23;17;;0;0;\n",
      "829333637581533185;2019-03-22 05:59:23;17;;0;0;\n",
      "829333637581533185;2019-03-22 05:59:23;17;;0;0;\n",
      "829333637581533185;2019-03-22 05:59:23;17;;0;0;\n",
      "405347694;2019-03-22 05:59:49;520;Desde San Juan, PR;0;0;\n",
      "405347694;2019-03-22 05:59:49;520;Desde San Juan, PR;0;0;\n",
      "405347694;2019-03-22 05:59:49;520;Desde San Juan, PR;0;0;\n",
      "405347694;2019-03-22 05:59:49;520;Desde San Juan, PR;0;0;\n",
      "997416128;2019-03-22 06:00:15;1033;;0;2623;\n",
      "997416128;2019-03-22 06:00:15;1033;;0;2624;\n",
      "997416128;2019-03-22 06:00:15;1033;;0;2625;\n",
      "997416128;2019-03-22 06:00:15;1033;;0;2625;\n",
      "3094788571;2019-03-22 06:00:40;39;Longview, Tx;0;0;\n",
      "3094788571;2019-03-22 06:00:40;39;Longview, Tx;0;0;\n",
      "3094788571;2019-03-22 06:00:40;39;Longview, Tx;0;0;\n",
      "3094788571;2019-03-22 06:00:40;39;Longview, Tx;0;0;\n",
      "778226054653579265;2019-03-22 06:01:05;1542;;0;0;\n",
      "778226054653579265;2019-03-22 06:01:05;1542;;0;0;\n",
      "778226054653579265;2019-03-22 06:01:05;1542;;0;0;\n",
      "778226054653579265;2019-03-22 06:01:05;1542;;0;0;\n",
      "731583915433943040;2019-03-22 06:01:31;19;;0;0;\n",
      "731583915433943040;2019-03-22 06:01:31;19;;0;0;\n",
      "731583915433943040;2019-03-22 06:01:31;19;;0;0;\n",
      "731583915433943040;2019-03-22 06:01:31;19;;0;0;\n",
      "701063846866190336;2019-03-22 06:01:56;245;;0;56;\n",
      "701063846866190336;2019-03-22 06:01:56;245;;0;56;\n",
      "701063846866190336;2019-03-22 06:01:56;245;;0;56;\n",
      "701063846866190336;2019-03-22 06:01:56;245;;0;56;\n",
      "2467614001;2019-03-22 06:02:21;728;;0;1143;\n",
      "2467614001;2019-03-22 06:02:21;728;;0;1148;\n",
      "2467614001;2019-03-22 06:02:21;728;;0;1145;\n",
      "2467614001;2019-03-22 06:02:21;728;;0;1151;\n",
      "721554485252853760;2019-03-22 06:02:46;655;Philadelphia, PA;0;2;\n",
      "721554485252853760;2019-03-22 06:02:46;655;Philadelphia, PA;0;2;\n",
      "721554485252853760;2019-03-22 06:02:46;655;Philadelphia, PA;0;2;\n",
      "721554485252853760;2019-03-22 06:02:46;655;Philadelphia, PA;0;2;\n",
      "2528460133;2019-03-22 06:03:12;300;#RANGERSLEADTHEWAY;0;0;\n",
      "2528460133;2019-03-22 06:03:12;300;#RANGERSLEADTHEWAY;0;0;\n",
      "2528460133;2019-03-22 06:03:12;300;#RANGERSLEADTHEWAY;0;0;\n",
      "2528460133;2019-03-22 06:03:12;300;#RANGERSLEADTHEWAY;0;0;\n",
      "134690783;2019-03-22 06:03:37;166;619;0;9;\n",
      "134690783;2019-03-22 06:03:37;166;619;0;9;\n",
      "134690783;2019-03-22 06:03:37;166;619;0;9;\n",
      "134690783;2019-03-22 06:03:37;166;619;0;9;\n",
      "781861082;2019-03-22 06:04:02;456;กรุงเทพมหานคร, ประเทศไทย;0;603;\n",
      "781861082;2019-03-22 06:04:02;456;กรุงเทพมหานคร, ประเทศไทย;0;603;\n",
      "781861082;2019-03-22 06:04:02;456;กรุงเทพมหานคร, ประเทศไทย;0;603;\n",
      "781861082;2019-03-22 06:04:02;456;กรุงเทพมหานคร, ประเทศไทย;0;603;\n",
      "482661020;2019-03-22 06:04:28;353;Minneapolis, MN;0;469;\n",
      "482661020;2019-03-22 06:04:28;353;Minneapolis, MN;0;469;\n",
      "482661020;2019-03-22 06:04:28;353;Minneapolis, MN;0;469;\n",
      "482661020;2019-03-22 06:04:28;353;Minneapolis, MN;0;469;\n",
      "540528327;2019-03-22 06:04:52;805;You're my 花樣年華 ◡̈ ;0;2262;\n",
      "540528327;2019-03-22 06:04:52;805;You're my 花樣年華 ◡̈ ;0;2262;\n",
      "540528327;2019-03-22 06:04:52;805;You're my 花樣年華 ◡̈ ;0;2262;\n",
      "540528327;2019-03-22 06:04:52;805;You're my 花樣年華 ◡̈ ;0;2262;\n",
      "947374798295875584;2019-03-22 06:05:18;255;福岡のお土産といえばひよこやろ;0;0;\n",
      "947374798295875584;2019-03-22 06:05:18;255;福岡のお土産といえばひよこやろ;0;0;\n",
      "947374798295875584;2019-03-22 06:05:18;255;福岡のお土産といえばひよこやろ;0;0;\n",
      "947374798295875584;2019-03-22 06:05:18;255;福岡のお土産といえばひよこやろ;0;0;\n",
      "966254823581532160;2019-03-22 06:05:43;150;;0;238;\n",
      "966254823581532160;2019-03-22 06:05:43;150;;0;238;\n",
      "966254823581532160;2019-03-22 06:05:43;150;;0;238;\n",
      "966254823581532160;2019-03-22 06:05:43;150;;0;238;\n",
      "314791926;2019-03-22 06:06:08;785;CHI✈️STL;0;2723;\n",
      "314791926;2019-03-22 06:06:08;785;CHI✈️STL;0;2724;\n",
      "314791926;2019-03-22 06:06:08;785;CHI✈️STL;0;2728;\n",
      "314791926;2019-03-22 06:06:08;785;CHI✈️STL;0;2729;\n",
      "541192738;2019-03-22 06:06:33;2727;Lake Villa, IL;0;0;\n",
      "541192738;2019-03-22 06:06:33;2727;Lake Villa, IL;0;0;\n",
      "541192738;2019-03-22 06:06:33;2727;Lake Villa, IL;0;0;\n",
      "541192738;2019-03-22 06:06:33;2727;Lake Villa, IL;0;0;\n",
      "875729775092011009;2019-03-22 06:06:59;1396;;0;0;\n",
      "875729775092011009;2019-03-22 06:06:59;1396;;0;0;\n",
      "875729775092011009;2019-03-22 06:06:59;1396;;0;0;\n",
      "875729775092011009;2019-03-22 06:06:59;1396;;0;0;\n",
      "978051700740145152;2019-03-22 06:07:25;82;1日1回配信！;0;0;\n",
      "978051700740145152;2019-03-22 06:07:25;82;1日1回配信！;0;0;\n",
      "978051700740145152;2019-03-22 06:07:25;82;1日1回配信！;0;0;\n",
      "978051700740145152;2019-03-22 06:07:25;82;1日1回配信！;0;0;\n",
      "27618632;2019-03-22 06:07:49;239;Bangkok, Thailand;0;628;\n",
      "27618632;2019-03-22 06:07:49;239;Bangkok, Thailand;0;630;\n",
      "27618632;2019-03-22 06:07:49;239;Bangkok, Thailand;0;632;\n",
      "27618632;2019-03-22 06:07:49;239;Bangkok, Thailand;0;634;\n",
      "965149322605084672;2019-03-22 06:08:15;817;Semarang;0;5617;\n",
      "965149322605084672;2019-03-22 06:08:15;817;Semarang;0;5618;\n",
      "965149322605084672;2019-03-22 06:08:15;817;Semarang;0;5617;\n",
      "965149322605084672;2019-03-22 06:08:15;817;Semarang;0;5618;\n",
      "2174021802;2019-03-22 06:08:40;101;;0;0;\n",
      "2174021802;2019-03-22 06:08:40;101;;0;0;\n",
      "2174021802;2019-03-22 06:08:40;101;;0;0;\n",
      "2174021802;2019-03-22 06:08:40;101;;0;0;\n",
      "978435544790323204;2019-03-22 06:09:06;2189;j l d;0;0;\n",
      "978435544790323204;2019-03-22 06:09:06;2189;j l d;0;0;\n",
      "978435544790323204;2019-03-22 06:09:06;2189;j l d;0;0;\n",
      "978435544790323204;2019-03-22 06:09:06;2189;j l d;0;0;\n",
      "40145348;2019-03-22 06:09:31;658;she/they bi @ crocodile heaven;0;18;\n"
     ]
    }
   ],
   "source": [
    "periodic_work(60 * 0.1)  # get data every couple of minutes"
   ]
  },
  {
   "cell_type": "code",
   "execution_count": null,
   "metadata": {},
   "outputs": [],
   "source": []
  }
 ],
 "metadata": {
  "kernelspec": {
   "display_name": "Python 3",
   "language": "python",
   "name": "python3"
  },
  "language_info": {
   "codemirror_mode": {
    "name": "ipython",
    "version": 3
   },
   "file_extension": ".py",
   "mimetype": "text/x-python",
   "name": "python",
   "nbconvert_exporter": "python",
   "pygments_lexer": "ipython3",
   "version": "3.6.5"
  }
 },
 "nbformat": 4,
 "nbformat_minor": 2
}

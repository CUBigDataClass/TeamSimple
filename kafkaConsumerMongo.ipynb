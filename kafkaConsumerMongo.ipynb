{
 "cells": [
  {
   "cell_type": "code",
   "execution_count": 7,
   "metadata": {},
   "outputs": [],
   "source": [
    "import threading, logging, time, json,pymongo\n",
    "from kafka import KafkaConsumer, KafkaProducer\n",
    "from pymongo import MongoClient\n",
    "import json\n"
   ]
  },
  {
   "cell_type": "code",
   "execution_count": 8,
   "metadata": {},
   "outputs": [],
   "source": [
    "client = MongoClient('localhost', 27017)\n",
    "mydb = client['mydatabase']\n",
    "mycollection = mydb['tweets_test']\n",
    "consumer = KafkaConsumer(bootstrap_servers='localhost:9092',\n",
    "                         auto_offset_reset='earliest',\n",
    "                         group_id='mongo'\n",
    "                        )\n",
    "consumer.subscribe('tweepy-kafka-test')"
   ]
  },
  {
   "cell_type": "code",
   "execution_count": 9,
   "metadata": {},
   "outputs": [
    {
     "name": "stdout",
     "output_type": "stream",
     "text": [
      "b'{\"created_at\":\"2019-03-26 17:22:09\",\"text\":\"RT @ftrickxHP: How many followers you want ?\\\\n\\\\ud83c\\\\udf41\\\\ud83c\\\\udf41\\\\ud83c\\\\udf41\\\\ud83c\\\\udf41\\\\ud83c\\\\udf41\\\\ud83c\\\\udf41\\\\ud83c\\\\udf41\\\\ud83c\\\\udf41\\\\ud83c\\\\udf41\\\\n5k\\\\n10k\\\\n20k\\\\n30k\\\\n40k\\\\n50k\\\\n100k\\\\n\\\\ud83c\\\\udf41\\\\ud83c\\\\udf41\\\\ud83c\\\\udf41\\\\ud83c\\\\udf41\\\\nREPLY With \\'\\' \\\\ud83c\\\\udf41  \\'\\' Follow Whoever Likes ur Reply!\\\\u2026\",\"user_id\":\"14923564\",\"user_timezone\":\"None\",\"user_location\":\"19.4326009,-99.1333416\",\"loc_lat\":19.4326009,\"loc_long\":-99.1333416,\"followers_count\":\"44612\",\"language\":\"en\"}'\n",
      "b'{\"created_at\":\"2019-03-26 17:22:09\",\"text\":\"RT @WakandaSensei: #IKOKAZIKE A lady Friend is looking for a Job.She has a degree in Geography and is experienced In Geography, Surveying,\\\\u2026\",\"user_id\":\"350940354\",\"user_timezone\":\"None\",\"user_location\":\"-1.2832533,36.8172449\",\"loc_lat\":-1.2832533,\"loc_long\":36.8172449,\"followers_count\":\"395\",\"language\":\"en\"}'\n",
      "b'{\"created_at\":\"2019-03-26 17:22:09\",\"text\":\"Indonesia: Hivos EoI : In-Country Researcher: Creating Spaces for Engagement between Citizens and the State - https://t.co/UJ0Xx1KQhq\",\"user_id\":\"3535576593\",\"user_timezone\":\"None\",\"user_location\":\"13.2904027,108.4265113\",\"loc_lat\":13.2904027,\"loc_long\":108.4265113,\"followers_count\":\"904\",\"language\":\"en\"}'\n",
      "b'{\"created_at\":\"2019-03-26 17:22:09\",\"text\":\"Just called @SenatorRomney and @SenMikeLee to let them know I support Red Flag laws to prevent suicide, domestic vi\\\\u2026 https://t.co/6wFmt6KXTv\",\"user_id\":\"48204988\",\"user_timezone\":\"None\",\"user_location\":\"33.3841541,-111.8540448\",\"loc_lat\":33.3841541,\"loc_long\":-111.8540448,\"followers_count\":\"2091\",\"language\":\"en\"}'\n",
      "b'{\"created_at\":\"2019-03-26 17:22:09\",\"text\":\"RT @insolategogh: THIS IS THE CUTEST THING EVER OJ MY GOD SEUNGKWAN SURPRISING DK WITH FOOD AND HIS REACTION WAS THE PUREST THING EVER IM A\\\\u2026\",\"user_id\":\"2789069246\",\"user_timezone\":\"None\",\"user_location\":\"61.0666922,-107.9917071\",\"loc_lat\":61.0666922,\"loc_long\":-107.9917071,\"followers_count\":\"108\",\"language\":\"en\"}'\n",
      "b'{\"created_at\":\"2019-03-26 17:22:09\",\"text\":\"@KymGrosso come back and we\\\\u2019ll ride together ;-)\",\"user_id\":\"20274779\",\"user_timezone\":\"None\",\"user_location\":\"39.9524152,-75.1635755\",\"loc_lat\":39.9524152,\"loc_long\":-75.1635755,\"followers_count\":\"896\",\"language\":\"en\"}'\n",
      "b'{\"created_at\":\"2019-03-26 17:22:09\",\"text\":\"RT @OnTruck: RIP: Bill MacKinnon, 90 - a true industry pioneer and key builder in the success and growth of @OnTruck for over 50 years. htt\\\\u2026\",\"user_id\":\"1012472807903592454\",\"user_timezone\":\"None\",\"user_location\":\"50.000678,-86.000977\",\"loc_lat\":50.000678,\"loc_long\":-86.000977,\"followers_count\":\"215\",\"language\":\"en\"}'\n",
      "b'{\"created_at\":\"2019-03-26 17:22:09\",\"text\":\"RT @a_h_reaume: Congrats to @WordsandGuitar on launching her book today! So exciting. This book is amazing and you should read it. Here\\\\u2019s s\\\\u2026\",\"user_id\":\"1065662669997264896\",\"user_timezone\":\"None\",\"user_location\":\"64.4989922,-165.398799443163\",\"loc_lat\":64.4989922,\"loc_long\":-165.398799443163,\"followers_count\":\"3345\",\"language\":\"en\"}'\n",
      "b'{\"created_at\":\"2019-03-26 17:22:35\",\"text\":\"RT @papers_we_love: `mov` is Turing-complete - Stephen Dolan https://t.co/QBBycV4Zcf\\\\n\\\\nIt is well-known that the #x86 instruction set is ove\\\\u2026\",\"user_id\":\"66358123\",\"user_timezone\":\"None\",\"user_location\":\"12.9791198,77.5912997\",\"loc_lat\":12.9791198,\"loc_long\":77.5912997,\"followers_count\":\"79\",\"language\":\"en\"}'\n",
      "b'{\"created_at\":\"2019-03-26 17:22:35\",\"text\":\"@itbejonathan LMFAOO I CANT GROW HAIR??? Then what is this??? Ik I don\\\\u2019t have to prove shit bc just bc I made the d\\\\u2026 https://t.co/FKAeN9Es4B\",\"user_id\":\"887135798415380480\",\"user_timezone\":\"None\",\"user_location\":\"36.7014631,-118.7559974\",\"loc_lat\":36.7014631,\"loc_long\":-118.7559974,\"followers_count\":\"473\",\"language\":\"en\"}'\n",
      "b'{\"created_at\":\"2019-03-26 17:22:35\",\"text\":\"RT @uk_domain_names: So basically the UK is putting Ireland into an impossible rock-and-a-hard-place position.\\\\n\\\\nHere\\'s the official guidanc\\\\u2026\",\"user_id\":\"104329090\",\"user_timezone\":\"None\",\"user_location\":\"-24.6423816,25.9131082\",\"loc_lat\":-24.6423816,\"loc_long\":25.9131082,\"followers_count\":\"352\",\"language\":\"en\"}'\n",
      "b'{\"created_at\":\"2019-03-26 17:22:35\",\"text\":\"RT @taroncochrane: Watch my chat with Jason Plumb of @studioonercrdng on the @CBCSask @CBCSaskatoon &amp; @CBCMusic Facebook pages and want to\\\\u2026\",\"user_id\":\"1110526657478213633\",\"user_timezone\":\"None\",\"user_location\":\"50.285829,-107.800598\",\"loc_lat\":50.285829,\"loc_long\":-107.800598,\"followers_count\":\"0\",\"language\":\"en\"}'\n",
      "b'{\"created_at\":\"2019-03-26 17:22:35\",\"text\":\"Debaters tonight take to the podium, from left to right; MCP\\'s Sidik Mia, UDF\\'s Frank Mwenifumbo and UTM\\'s Dr. Mich\\\\u2026 https://t.co/05H2SDBehh\",\"user_id\":\"449663977\",\"user_timezone\":\"None\",\"user_location\":\"-13.2687204,33.9301963\",\"loc_lat\":-13.2687204,\"loc_long\":33.9301963,\"followers_count\":\"56082\",\"language\":\"en\"}'\n",
      "b'{\"created_at\":\"2019-03-26 17:22:35\",\"text\":\"RT @yvonnethebird12: My dad has been really depressed ever since our family dog passed away and today I surprised him with a new puppy \\\\ud83d\\\\ude0a\\\\ud83d\\\\ude2d h\\\\u2026\",\"user_id\":\"195642232\",\"user_timezone\":\"None\",\"user_location\":\"27.7567667,-81.4639835\",\"loc_lat\":27.7567667,\"loc_long\":-81.4639835,\"followers_count\":\"230\",\"language\":\"en\"}'\n",
      "b'{\"created_at\":\"2019-03-26 17:22:35\",\"text\":\"RT @Mark__Porter: As a High School football player, if I could do something all over again.\\\\n\\\\nI would ask the track coach to \\\\\"let\\\\\" me on the\\\\u2026\",\"user_id\":\"2351990517\",\"user_timezone\":\"None\",\"user_location\":\"40.0757384,-74.4041622\",\"loc_lat\":40.0757384,\"loc_long\":-74.4041622,\"followers_count\":\"1791\",\"language\":\"en\"}'\n",
      "b'{\"created_at\":\"2019-03-26 17:22:35\",\"text\":\"RT @toothicktexas: I\\\\u2019m kind of sad that I\\\\u2019m turning 22 this year. I\\\\u2019m still in college, living wit my momma &amp; daddy. Got a boo boo job and\\\\u2026\",\"user_id\":\"521050576\",\"user_timezone\":\"None\",\"user_location\":\"34.0536834,-118.2427669\",\"loc_lat\":34.0536834,\"loc_long\":-118.2427669,\"followers_count\":\"1244\",\"language\":\"en\"}'\n",
      "b'{\"created_at\":\"2019-03-26 17:22:35\",\"text\":\"RT @istockhistory: Check out Geraniums and cats by Pierre-Auguste Renoir Giclee Print Repro on Canvas https://t.co/lkEkIB4REg #art #fineart\\\\u2026\",\"user_id\":\"960756196457070592\",\"user_timezone\":\"None\",\"user_location\":\"32.7174209,-117.1627714\",\"loc_lat\":32.7174209,\"loc_long\":-117.1627714,\"followers_count\":\"41238\",\"language\":\"en\"}'\n",
      "b'{\"created_at\":\"2019-03-26 17:22:35\",\"text\":\"\\\\ud83d\\\\udc85\\\\ud83c\\\\udffdAriah LOVES fashion, nail polish, and getting her hair done, all at the age of 3. When I was sick with pneumonia\\\\u2026 https://t.co/CF0UkaD4Vj\",\"user_id\":\"2490487997\",\"user_timezone\":\"None\",\"user_location\":\"34.0536834,-118.2427669\",\"loc_lat\":34.0536834,\"loc_long\":-118.2427669,\"followers_count\":\"1893\",\"language\":\"en\"}'\n",
      "b'{\"created_at\":\"2019-03-26 17:22:35\",\"text\":\"RT @papers_we_love: `mov` is Turing-complete - Stephen Dolan https://t.co/QBBycV4Zcf\\\\n\\\\nIt is well-known that the #x86 instruction set is ove\\\\u2026\",\"user_id\":\"66358123\",\"user_timezone\":\"None\",\"user_location\":\"12.9791198,77.5912997\",\"loc_lat\":12.9791198,\"loc_long\":77.5912997,\"followers_count\":\"79\",\"language\":\"en\"}'\n",
      "b'{\"created_at\":\"2019-03-26 17:22:35\",\"text\":\"@itbejonathan LMFAOO I CANT GROW HAIR??? Then what is this??? Ik I don\\\\u2019t have to prove shit bc just bc I made the d\\\\u2026 https://t.co/FKAeN9Es4B\",\"user_id\":\"887135798415380480\",\"user_timezone\":\"None\",\"user_location\":\"36.7014631,-118.7559974\",\"loc_lat\":36.7014631,\"loc_long\":-118.7559974,\"followers_count\":\"473\",\"language\":\"en\"}'\n",
      "b'{\"created_at\":\"2019-03-26 17:22:35\",\"text\":\"RT @uk_domain_names: So basically the UK is putting Ireland into an impossible rock-and-a-hard-place position.\\\\n\\\\nHere\\'s the official guidanc\\\\u2026\",\"user_id\":\"104329090\",\"user_timezone\":\"None\",\"user_location\":\"-24.6423816,25.9131082\",\"loc_lat\":-24.6423816,\"loc_long\":25.9131082,\"followers_count\":\"352\",\"language\":\"en\"}'\n",
      "b'{\"created_at\":\"2019-03-26 17:22:35\",\"text\":\"RT @taroncochrane: Watch my chat with Jason Plumb of @studioonercrdng on the @CBCSask @CBCSaskatoon &amp; @CBCMusic Facebook pages and want to\\\\u2026\",\"user_id\":\"1110526657478213633\",\"user_timezone\":\"None\",\"user_location\":\"50.285829,-107.800598\",\"loc_lat\":50.285829,\"loc_long\":-107.800598,\"followers_count\":\"0\",\"language\":\"en\"}'\n",
      "b'{\"created_at\":\"2019-03-26 17:22:35\",\"text\":\"Debaters tonight take to the podium, from left to right; MCP\\'s Sidik Mia, UDF\\'s Frank Mwenifumbo and UTM\\'s Dr. Mich\\\\u2026 https://t.co/05H2SDBehh\",\"user_id\":\"449663977\",\"user_timezone\":\"None\",\"user_location\":\"-13.2687204,33.9301963\",\"loc_lat\":-13.2687204,\"loc_long\":33.9301963,\"followers_count\":\"56082\",\"language\":\"en\"}'\n",
      "b'{\"created_at\":\"2019-03-26 17:22:35\",\"text\":\"RT @yvonnethebird12: My dad has been really depressed ever since our family dog passed away and today I surprised him with a new puppy \\\\ud83d\\\\ude0a\\\\ud83d\\\\ude2d h\\\\u2026\",\"user_id\":\"195642232\",\"user_timezone\":\"None\",\"user_location\":\"27.7567667,-81.4639835\",\"loc_lat\":27.7567667,\"loc_long\":-81.4639835,\"followers_count\":\"230\",\"language\":\"en\"}'\n",
      "b'{\"created_at\":\"2019-03-26 17:22:35\",\"text\":\"RT @Mark__Porter: As a High School football player, if I could do something all over again.\\\\n\\\\nI would ask the track coach to \\\\\"let\\\\\" me on the\\\\u2026\",\"user_id\":\"2351990517\",\"user_timezone\":\"None\",\"user_location\":\"40.0757384,-74.4041622\",\"loc_lat\":40.0757384,\"loc_long\":-74.4041622,\"followers_count\":\"1791\",\"language\":\"en\"}'\n",
      "b'{\"created_at\":\"2019-03-26 17:22:35\",\"text\":\"RT @toothicktexas: I\\\\u2019m kind of sad that I\\\\u2019m turning 22 this year. I\\\\u2019m still in college, living wit my momma &amp; daddy. Got a boo boo job and\\\\u2026\",\"user_id\":\"521050576\",\"user_timezone\":\"None\",\"user_location\":\"34.0536834,-118.2427669\",\"loc_lat\":34.0536834,\"loc_long\":-118.2427669,\"followers_count\":\"1244\",\"language\":\"en\"}'\n",
      "b'{\"created_at\":\"2019-03-26 17:22:35\",\"text\":\"RT @istockhistory: Check out Geraniums and cats by Pierre-Auguste Renoir Giclee Print Repro on Canvas https://t.co/lkEkIB4REg #art #fineart\\\\u2026\",\"user_id\":\"960756196457070592\",\"user_timezone\":\"None\",\"user_location\":\"32.7174209,-117.1627714\",\"loc_lat\":32.7174209,\"loc_long\":-117.1627714,\"followers_count\":\"41238\",\"language\":\"en\"}'\n",
      "b'{\"created_at\":\"2019-03-26 17:22:35\",\"text\":\"\\\\ud83d\\\\udc85\\\\ud83c\\\\udffdAriah LOVES fashion, nail polish, and getting her hair done, all at the age of 3. When I was sick with pneumonia\\\\u2026 https://t.co/CF0UkaD4Vj\",\"user_id\":\"2490487997\",\"user_timezone\":\"None\",\"user_location\":\"34.0536834,-118.2427669\",\"loc_lat\":34.0536834,\"loc_long\":-118.2427669,\"followers_count\":\"1893\",\"language\":\"en\"}'\n",
      "b'{\"created_at\":\"2019-03-26 17:23:05\",\"text\":\"RT @_NewSlang: New episode of the podcast is out. It\\\\u2019s w/ @ColterWall. Listen and subscribe here. \\\\n\\\\n\\\\ud83d\\\\udcf8:@TimCastleman \\\\nhttps://t.co/NM9zhMA1M\\\\u2026\",\"user_id\":\"1110526657478213633\",\"user_timezone\":\"None\",\"user_location\":\"50.285829,-107.800598\",\"loc_lat\":50.285829,\"loc_long\":-107.800598,\"followers_count\":\"0\",\"language\":\"en\"}'\n"
     ]
    },
    {
     "name": "stdout",
     "output_type": "stream",
     "text": [
      "b'{\"created_at\":\"2019-03-26 17:23:05\",\"text\":\"RT @drathax: @ryanjespersen , are you going to have any open line on the UCP education platform today?  I\\'ve seen @LukaszukAB and @kdlang c\\\\u2026\",\"user_id\":\"810689153260224513\",\"user_timezone\":\"None\",\"user_location\":\"53.622532,-113.126440120549\",\"loc_lat\":53.622532,\"loc_long\":-113.126440120549,\"followers_count\":\"110\",\"language\":\"en\"}'\n",
      "b'{\"created_at\":\"2019-03-26 17:23:05\",\"text\":\"How many players do you remember watching? And what is the best line from this? https://t.co/weFExd3NA2\",\"user_id\":\"2288826498\",\"user_timezone\":\"None\",\"user_location\":\"45.5202471,-122.6741949\",\"loc_lat\":45.5202471,\"loc_long\":-122.6741949,\"followers_count\":\"1497\",\"language\":\"en\"}'\n",
      "b'{\"created_at\":\"2019-03-26 17:23:05\",\"text\":\"Win a copy of Sunwise and a corn dolly made with my own fair (ahem) hands... https://t.co/DOjQzraEYy\",\"user_id\":\"3290818128\",\"user_timezone\":\"None\",\"user_location\":\"52.7954791,-0.540240286617432\",\"loc_lat\":52.7954791,\"loc_long\":-0.540240286617432,\"followers_count\":\"654\",\"language\":\"en\"}'\n"
     ]
    },
    {
     "ename": "KeyboardInterrupt",
     "evalue": "",
     "output_type": "error",
     "traceback": [
      "\u001b[0;31m---------------------------------------------------------------------------\u001b[0m",
      "\u001b[0;31mKeyboardInterrupt\u001b[0m                         Traceback (most recent call last)",
      "\u001b[0;32m<ipython-input-9-e17901063a01>\u001b[0m in \u001b[0;36m<module>\u001b[0;34m()\u001b[0m\n\u001b[0;32m----> 1\u001b[0;31m \u001b[0;32mfor\u001b[0m \u001b[0mmsg\u001b[0m \u001b[0;32min\u001b[0m \u001b[0mconsumer\u001b[0m\u001b[0;34m:\u001b[0m\u001b[0;34m\u001b[0m\u001b[0m\n\u001b[0m\u001b[1;32m      2\u001b[0m     \u001b[0mprint\u001b[0m\u001b[0;34m(\u001b[0m\u001b[0mmsg\u001b[0m\u001b[0;34m.\u001b[0m\u001b[0mvalue\u001b[0m\u001b[0;34m)\u001b[0m\u001b[0;34m\u001b[0m\u001b[0m\n\u001b[1;32m      3\u001b[0m     \u001b[0mbyteText\u001b[0m \u001b[0;34m=\u001b[0m \u001b[0mmsg\u001b[0m\u001b[0;34m.\u001b[0m\u001b[0mvalue\u001b[0m\u001b[0;34m\u001b[0m\u001b[0m\n\u001b[1;32m      4\u001b[0m     \u001b[0mtext\u001b[0m \u001b[0;34m=\u001b[0m \u001b[0mstr\u001b[0m\u001b[0;34m(\u001b[0m\u001b[0mbyteText\u001b[0m\u001b[0;34m,\u001b[0m\u001b[0;34m\"utf-8\"\u001b[0m\u001b[0;34m)\u001b[0m\u001b[0;34m\u001b[0m\u001b[0m\n\u001b[1;32m      5\u001b[0m     \u001b[0;31m#text = json\u001b[0m\u001b[0;34m\u001b[0m\u001b[0;34m\u001b[0m\u001b[0m\n",
      "\u001b[0;32m~/anaconda3/lib/python3.6/site-packages/kafka/consumer/group.py\u001b[0m in \u001b[0;36m__next__\u001b[0;34m(self)\u001b[0m\n\u001b[1;32m   1073\u001b[0m         \u001b[0mself\u001b[0m\u001b[0;34m.\u001b[0m\u001b[0m_set_consumer_timeout\u001b[0m\u001b[0;34m(\u001b[0m\u001b[0;34m)\u001b[0m\u001b[0;34m\u001b[0m\u001b[0m\n\u001b[1;32m   1074\u001b[0m         \u001b[0;32mtry\u001b[0m\u001b[0;34m:\u001b[0m\u001b[0;34m\u001b[0m\u001b[0m\n\u001b[0;32m-> 1075\u001b[0;31m             \u001b[0;32mreturn\u001b[0m \u001b[0mnext\u001b[0m\u001b[0;34m(\u001b[0m\u001b[0mself\u001b[0m\u001b[0;34m.\u001b[0m\u001b[0m_iterator\u001b[0m\u001b[0;34m)\u001b[0m\u001b[0;34m\u001b[0m\u001b[0m\n\u001b[0m\u001b[1;32m   1076\u001b[0m         \u001b[0;32mexcept\u001b[0m \u001b[0mStopIteration\u001b[0m\u001b[0;34m:\u001b[0m\u001b[0;34m\u001b[0m\u001b[0m\n\u001b[1;32m   1077\u001b[0m             \u001b[0mself\u001b[0m\u001b[0;34m.\u001b[0m\u001b[0m_iterator\u001b[0m \u001b[0;34m=\u001b[0m \u001b[0;32mNone\u001b[0m\u001b[0;34m\u001b[0m\u001b[0m\n",
      "\u001b[0;32m~/anaconda3/lib/python3.6/site-packages/kafka/consumer/group.py\u001b[0m in \u001b[0;36m_message_generator\u001b[0;34m(self)\u001b[0m\n\u001b[1;32m   1011\u001b[0m             \u001b[0;32mif\u001b[0m \u001b[0;32mnot\u001b[0m \u001b[0mself\u001b[0m\u001b[0;34m.\u001b[0m\u001b[0m_fetcher\u001b[0m\u001b[0;34m.\u001b[0m\u001b[0min_flight_fetches\u001b[0m\u001b[0;34m(\u001b[0m\u001b[0;34m)\u001b[0m\u001b[0;34m:\u001b[0m\u001b[0;34m\u001b[0m\u001b[0m\n\u001b[1;32m   1012\u001b[0m                 \u001b[0mpoll_ms\u001b[0m \u001b[0;34m=\u001b[0m \u001b[0;36m0\u001b[0m\u001b[0;34m\u001b[0m\u001b[0m\n\u001b[0;32m-> 1013\u001b[0;31m             \u001b[0mself\u001b[0m\u001b[0;34m.\u001b[0m\u001b[0m_client\u001b[0m\u001b[0;34m.\u001b[0m\u001b[0mpoll\u001b[0m\u001b[0;34m(\u001b[0m\u001b[0mtimeout_ms\u001b[0m\u001b[0;34m=\u001b[0m\u001b[0mpoll_ms\u001b[0m\u001b[0;34m)\u001b[0m\u001b[0;34m\u001b[0m\u001b[0m\n\u001b[0m\u001b[1;32m   1014\u001b[0m \u001b[0;34m\u001b[0m\u001b[0m\n\u001b[1;32m   1015\u001b[0m             \u001b[0;31m# We need to make sure we at least keep up with scheduled tasks,\u001b[0m\u001b[0;34m\u001b[0m\u001b[0;34m\u001b[0m\u001b[0m\n",
      "\u001b[0;32m~/anaconda3/lib/python3.6/site-packages/kafka/client_async.py\u001b[0m in \u001b[0;36mpoll\u001b[0;34m(self, timeout_ms, future, delayed_tasks)\u001b[0m\n\u001b[1;32m    552\u001b[0m                 \u001b[0mtimeout\u001b[0m \u001b[0;34m=\u001b[0m \u001b[0mmax\u001b[0m\u001b[0;34m(\u001b[0m\u001b[0;36m0\u001b[0m\u001b[0;34m,\u001b[0m \u001b[0mtimeout\u001b[0m \u001b[0;34m/\u001b[0m \u001b[0;36m1000.0\u001b[0m\u001b[0;34m)\u001b[0m  \u001b[0;31m# avoid negative timeouts\u001b[0m\u001b[0;34m\u001b[0m\u001b[0m\n\u001b[1;32m    553\u001b[0m \u001b[0;34m\u001b[0m\u001b[0m\n\u001b[0;32m--> 554\u001b[0;31m             \u001b[0mresponses\u001b[0m\u001b[0;34m.\u001b[0m\u001b[0mextend\u001b[0m\u001b[0;34m(\u001b[0m\u001b[0mself\u001b[0m\u001b[0;34m.\u001b[0m\u001b[0m_poll\u001b[0m\u001b[0;34m(\u001b[0m\u001b[0mtimeout\u001b[0m\u001b[0;34m)\u001b[0m\u001b[0;34m)\u001b[0m\u001b[0;34m\u001b[0m\u001b[0m\n\u001b[0m\u001b[1;32m    555\u001b[0m \u001b[0;34m\u001b[0m\u001b[0m\n\u001b[1;32m    556\u001b[0m             \u001b[0;31m# If all we had was a timeout (future is None) - only do one poll\u001b[0m\u001b[0;34m\u001b[0m\u001b[0;34m\u001b[0m\u001b[0m\n",
      "\u001b[0;32m~/anaconda3/lib/python3.6/site-packages/kafka/client_async.py\u001b[0m in \u001b[0;36m_poll\u001b[0;34m(self, timeout)\u001b[0m\n\u001b[1;32m    566\u001b[0m \u001b[0;34m\u001b[0m\u001b[0m\n\u001b[1;32m    567\u001b[0m         \u001b[0mstart_select\u001b[0m \u001b[0;34m=\u001b[0m \u001b[0mtime\u001b[0m\u001b[0;34m.\u001b[0m\u001b[0mtime\u001b[0m\u001b[0;34m(\u001b[0m\u001b[0;34m)\u001b[0m\u001b[0;34m\u001b[0m\u001b[0m\n\u001b[0;32m--> 568\u001b[0;31m         \u001b[0mready\u001b[0m \u001b[0;34m=\u001b[0m \u001b[0mself\u001b[0m\u001b[0;34m.\u001b[0m\u001b[0m_selector\u001b[0m\u001b[0;34m.\u001b[0m\u001b[0mselect\u001b[0m\u001b[0;34m(\u001b[0m\u001b[0mtimeout\u001b[0m\u001b[0;34m)\u001b[0m\u001b[0;34m\u001b[0m\u001b[0m\n\u001b[0m\u001b[1;32m    569\u001b[0m         \u001b[0mend_select\u001b[0m \u001b[0;34m=\u001b[0m \u001b[0mtime\u001b[0m\u001b[0;34m.\u001b[0m\u001b[0mtime\u001b[0m\u001b[0;34m(\u001b[0m\u001b[0;34m)\u001b[0m\u001b[0;34m\u001b[0m\u001b[0m\n\u001b[1;32m    570\u001b[0m         \u001b[0;32mif\u001b[0m \u001b[0mself\u001b[0m\u001b[0;34m.\u001b[0m\u001b[0m_sensors\u001b[0m\u001b[0;34m:\u001b[0m\u001b[0;34m\u001b[0m\u001b[0m\n",
      "\u001b[0;32m~/anaconda3/lib/python3.6/selectors.py\u001b[0m in \u001b[0;36mselect\u001b[0;34m(self, timeout)\u001b[0m\n\u001b[1;32m    443\u001b[0m             \u001b[0mready\u001b[0m \u001b[0;34m=\u001b[0m \u001b[0;34m[\u001b[0m\u001b[0;34m]\u001b[0m\u001b[0;34m\u001b[0m\u001b[0m\n\u001b[1;32m    444\u001b[0m             \u001b[0;32mtry\u001b[0m\u001b[0;34m:\u001b[0m\u001b[0;34m\u001b[0m\u001b[0m\n\u001b[0;32m--> 445\u001b[0;31m                 \u001b[0mfd_event_list\u001b[0m \u001b[0;34m=\u001b[0m \u001b[0mself\u001b[0m\u001b[0;34m.\u001b[0m\u001b[0m_epoll\u001b[0m\u001b[0;34m.\u001b[0m\u001b[0mpoll\u001b[0m\u001b[0;34m(\u001b[0m\u001b[0mtimeout\u001b[0m\u001b[0;34m,\u001b[0m \u001b[0mmax_ev\u001b[0m\u001b[0;34m)\u001b[0m\u001b[0;34m\u001b[0m\u001b[0m\n\u001b[0m\u001b[1;32m    446\u001b[0m             \u001b[0;32mexcept\u001b[0m \u001b[0mInterruptedError\u001b[0m\u001b[0;34m:\u001b[0m\u001b[0;34m\u001b[0m\u001b[0m\n\u001b[1;32m    447\u001b[0m                 \u001b[0;32mreturn\u001b[0m \u001b[0mready\u001b[0m\u001b[0;34m\u001b[0m\u001b[0m\n",
      "\u001b[0;31mKeyboardInterrupt\u001b[0m: "
     ]
    }
   ],
   "source": [
    "for msg in consumer:\n",
    "    print(msg.value)\n",
    "    byteText = msg.value   \n",
    "    text = str(byteText,\"utf-8\")\n",
    "    #text = json\n",
    "    data_to_insert = json.loads(text, strict=False)\n",
    "    x = mycollection.insert_one(data_to_insert)"
   ]
  },
  {
   "cell_type": "code",
   "execution_count": null,
   "metadata": {},
   "outputs": [],
   "source": []
  },
  {
   "cell_type": "code",
   "execution_count": null,
   "metadata": {},
   "outputs": [],
   "source": []
  },
  {
   "cell_type": "code",
   "execution_count": null,
   "metadata": {},
   "outputs": [],
   "source": []
  },
  {
   "cell_type": "code",
   "execution_count": null,
   "metadata": {},
   "outputs": [],
   "source": []
  },
  {
   "cell_type": "code",
   "execution_count": null,
   "metadata": {},
   "outputs": [],
   "source": []
  },
  {
   "cell_type": "code",
   "execution_count": null,
   "metadata": {},
   "outputs": [],
   "source": []
  },
  {
   "cell_type": "code",
   "execution_count": null,
   "metadata": {},
   "outputs": [],
   "source": []
  }
 ],
 "metadata": {
  "kernelspec": {
   "display_name": "Python 3",
   "language": "python",
   "name": "python3"
  },
  "language_info": {
   "codemirror_mode": {
    "name": "ipython",
    "version": 3
   },
   "file_extension": ".py",
   "mimetype": "text/x-python",
   "name": "python",
   "nbconvert_exporter": "python",
   "pygments_lexer": "ipython3",
   "version": "3.6.5"
  }
 },
 "nbformat": 4,
 "nbformat_minor": 2
}

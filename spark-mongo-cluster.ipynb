{
 "cells": [
  {
   "cell_type": "code",
   "execution_count": null,
   "metadata": {},
   "outputs": [],
   "source": []
  },
  {
   "cell_type": "code",
   "execution_count": 86,
   "metadata": {},
   "outputs": [
    {
     "name": "stdout",
     "output_type": "stream",
     "text": [
      "root\n",
      " |-- _id: struct (nullable = true)\n",
      " |    |-- oid: string (nullable = true)\n",
      " |-- created_at: string (nullable = true)\n",
      " |-- followers_count: string (nullable = true)\n",
      " |-- language: string (nullable = true)\n",
      " |-- loc_lat: double (nullable = true)\n",
      " |-- loc_long: double (nullable = true)\n",
      " |-- text: string (nullable = true)\n",
      " |-- user_id: string (nullable = true)\n",
      " |-- user_location: string (nullable = true)\n",
      " |-- user_timezone: string (nullable = true)\n",
      "\n"
     ]
    }
   ],
   "source": [
    "from pyspark.sql import SparkSession\n",
    "my_spark = SparkSession \\\n",
    "    .builder \\\n",
    "    .appName(\"myApp\") \\\n",
    "    .config(\"spark.mongodb.input.uri\", \"mongodb://127.0.0.1/mydatabase.tweets_test\") \\\n",
    "    .config(\"spark.mongodb.output.uri\", \"mongodb://127.0.0.1/mydatabase.tweets_test\") \\\n",
    "    .config(\"spark.io.compression.codec\", \"snappy\").getOrCreate() #this line's config is for solving lz4 error\n",
    "dataFrame=my_spark.read.format(\"com.mongodb.spark.sql.DefaultSource\").load()\n",
    "dataFrame.printSchema()"
   ]
  },
  {
   "cell_type": "code",
   "execution_count": 67,
   "metadata": {},
   "outputs": [],
   "source": [
    "from pyspark.sql.functions import udf, col,split\n",
    "from pyspark.ml.clustering import KMeans\n",
    "#split = udf(lambda x: x.split(','))\n",
    "#df.withColumn(\"user_location\", split_udf(col(\"user_location\"))).show()\n",
    "\n",
    "df=dataFrame.withColumn(\n",
    "    \"user_location\",\n",
    "    split(col(\"user_location\"), \",\\s*\").cast(\"array<float>\").alias(\"user_location\")\n",
    ")\n",
    "df_loc = df.select('user_location')"
   ]
  },
  {
   "cell_type": "code",
   "execution_count": 90,
   "metadata": {},
   "outputs": [
    {
     "name": "stdout",
     "output_type": "stream",
     "text": [
      "+-----------+-----------------+--------------------+\n",
      "|    loc_lat|         loc_long|            features|\n",
      "+-----------+-----------------+--------------------+\n",
      "| 19.4326009|      -99.1333416|[19.4326009,-99.1...|\n",
      "| -1.2832533|       36.8172449|[-1.2832533,36.81...|\n",
      "| 13.2904027|      108.4265113|[13.2904027,108.4...|\n",
      "| 33.3841541|     -111.8540448|[33.3841541,-111....|\n",
      "| 61.0666922|     -107.9917071|[61.0666922,-107....|\n",
      "| 39.9524152|      -75.1635755|[39.9524152,-75.1...|\n",
      "|  50.000678|       -86.000977|[50.000678,-86.00...|\n",
      "| 64.4989922|-165.398799443163|[64.4989922,-165....|\n",
      "| 12.9791198|       77.5912997|[12.9791198,77.59...|\n",
      "| 36.7014631|     -118.7559974|[36.7014631,-118....|\n",
      "|-24.6423816|       25.9131082|[-24.6423816,25.9...|\n",
      "|  50.285829|      -107.800598|[50.285829,-107.8...|\n",
      "|-13.2687204|       33.9301963|[-13.2687204,33.9...|\n",
      "| 27.7567667|      -81.4639835|[27.7567667,-81.4...|\n",
      "| 40.0757384|      -74.4041622|[40.0757384,-74.4...|\n",
      "| 34.0536834|     -118.2427669|[34.0536834,-118....|\n",
      "| 32.7174209|     -117.1627714|[32.7174209,-117....|\n",
      "| 34.0536834|     -118.2427669|[34.0536834,-118....|\n",
      "| 12.9791198|       77.5912997|[12.9791198,77.59...|\n",
      "| 36.7014631|     -118.7559974|[36.7014631,-118....|\n",
      "+-----------+-----------------+--------------------+\n",
      "only showing top 20 rows\n",
      "\n"
     ]
    }
   ],
   "source": [
    "from pyspark.ml.linalg import Vectors\n",
    "from pyspark.ml.feature import VectorAssembler\n",
    "df = dataFrame.select('loc_lat','loc_long')\n",
    "assembler = VectorAssembler(\n",
    "    inputCols=['loc_lat','loc_long'],\n",
    "    outputCol='features')\n",
    "trainingData = assembler.transform(df)\n",
    "#trainingData.show()"
   ]
  },
  {
   "cell_type": "code",
   "execution_count": 94,
   "metadata": {},
   "outputs": [
    {
     "name": "stdout",
     "output_type": "stream",
     "text": [
      "Cluster Centers: \n",
      "[ 1.65985157 46.61919159]\n",
      "[  42.75016289 -118.0784741 ]\n",
      "[ 35.00724347 -81.71916936]\n"
     ]
    }
   ],
   "source": [
    "kmeans = KMeans(k=3,seed=1)\n",
    "model = kmeans.fit(trainingData)\n",
    "\n",
    "# Shows the result.\n",
    "centers = model.clusterCenters()\n",
    "print(\"Cluster Centers: \")\n",
    "for center in centers:\n",
    "    print(center)"
   ]
  },
  {
   "cell_type": "code",
   "execution_count": 95,
   "metadata": {
    "scrolled": true
   },
   "outputs": [
    {
     "data": {
      "text/plain": [
       "[Row(loc_lat=19.4326009, loc_long=-99.1333416, features=DenseVector([19.4326, -99.1333]), prediction=2),\n",
       " Row(loc_lat=-1.2832533, loc_long=36.8172449, features=DenseVector([-1.2833, 36.8172]), prediction=0),\n",
       " Row(loc_lat=13.2904027, loc_long=108.4265113, features=DenseVector([13.2904, 108.4265]), prediction=0),\n",
       " Row(loc_lat=33.3841541, loc_long=-111.8540448, features=DenseVector([33.3842, -111.854]), prediction=1),\n",
       " Row(loc_lat=61.0666922, loc_long=-107.9917071, features=DenseVector([61.0667, -107.9917]), prediction=1),\n",
       " Row(loc_lat=39.9524152, loc_long=-75.1635755, features=DenseVector([39.9524, -75.1636]), prediction=2),\n",
       " Row(loc_lat=50.000678, loc_long=-86.000977, features=DenseVector([50.0007, -86.001]), prediction=2),\n",
       " Row(loc_lat=64.4989922, loc_long=-165.398799443163, features=DenseVector([64.499, -165.3988]), prediction=1),\n",
       " Row(loc_lat=12.9791198, loc_long=77.5912997, features=DenseVector([12.9791, 77.5913]), prediction=0),\n",
       " Row(loc_lat=36.7014631, loc_long=-118.7559974, features=DenseVector([36.7015, -118.756]), prediction=1),\n",
       " Row(loc_lat=-24.6423816, loc_long=25.9131082, features=DenseVector([-24.6424, 25.9131]), prediction=0),\n",
       " Row(loc_lat=50.285829, loc_long=-107.800598, features=DenseVector([50.2858, -107.8006]), prediction=1),\n",
       " Row(loc_lat=-13.2687204, loc_long=33.9301963, features=DenseVector([-13.2687, 33.9302]), prediction=0),\n",
       " Row(loc_lat=27.7567667, loc_long=-81.4639835, features=DenseVector([27.7568, -81.464]), prediction=2),\n",
       " Row(loc_lat=40.0757384, loc_long=-74.4041622, features=DenseVector([40.0757, -74.4042]), prediction=2),\n",
       " Row(loc_lat=34.0536834, loc_long=-118.2427669, features=DenseVector([34.0537, -118.2428]), prediction=1),\n",
       " Row(loc_lat=32.7174209, loc_long=-117.1627714, features=DenseVector([32.7174, -117.1628]), prediction=1),\n",
       " Row(loc_lat=34.0536834, loc_long=-118.2427669, features=DenseVector([34.0537, -118.2428]), prediction=1),\n",
       " Row(loc_lat=12.9791198, loc_long=77.5912997, features=DenseVector([12.9791, 77.5913]), prediction=0),\n",
       " Row(loc_lat=36.7014631, loc_long=-118.7559974, features=DenseVector([36.7015, -118.756]), prediction=1),\n",
       " Row(loc_lat=-24.6423816, loc_long=25.9131082, features=DenseVector([-24.6424, 25.9131]), prediction=0),\n",
       " Row(loc_lat=50.285829, loc_long=-107.800598, features=DenseVector([50.2858, -107.8006]), prediction=1),\n",
       " Row(loc_lat=-13.2687204, loc_long=33.9301963, features=DenseVector([-13.2687, 33.9302]), prediction=0),\n",
       " Row(loc_lat=27.7567667, loc_long=-81.4639835, features=DenseVector([27.7568, -81.464]), prediction=2),\n",
       " Row(loc_lat=40.0757384, loc_long=-74.4041622, features=DenseVector([40.0757, -74.4042]), prediction=2),\n",
       " Row(loc_lat=34.0536834, loc_long=-118.2427669, features=DenseVector([34.0537, -118.2428]), prediction=1),\n",
       " Row(loc_lat=32.7174209, loc_long=-117.1627714, features=DenseVector([32.7174, -117.1628]), prediction=1),\n",
       " Row(loc_lat=34.0536834, loc_long=-118.2427669, features=DenseVector([34.0537, -118.2428]), prediction=1),\n",
       " Row(loc_lat=50.285829, loc_long=-107.800598, features=DenseVector([50.2858, -107.8006]), prediction=1),\n",
       " Row(loc_lat=53.622532, loc_long=-113.126440120549, features=DenseVector([53.6225, -113.1264]), prediction=1),\n",
       " Row(loc_lat=45.5202471, loc_long=-122.6741949, features=DenseVector([45.5202, -122.6742]), prediction=1),\n",
       " Row(loc_lat=52.7954791, loc_long=-0.540240286617432, features=DenseVector([52.7955, -0.5402]), prediction=0)]"
      ]
     },
     "execution_count": 95,
     "metadata": {},
     "output_type": "execute_result"
    }
   ],
   "source": [
    "cluster_ind = model.transform(trainingData)\n",
    "cluster_ind.collect()"
   ]
  },
  {
   "cell_type": "code",
   "execution_count": 100,
   "metadata": {
    "scrolled": true
   },
   "outputs": [
    {
     "data": {
      "text/plain": [
       "array(DataFrame[features: vector], dtype=object)"
      ]
     },
     "execution_count": 100,
     "metadata": {},
     "output_type": "execute_result"
    }
   ],
   "source": [
    "import numpy as np\n",
    "np.array(cluster_ind.select('features'))"
   ]
  },
  {
   "cell_type": "code",
   "execution_count": 97,
   "metadata": {},
   "outputs": [],
   "source": [
    "from gmplot import gmplot\n",
    "\n",
    "# Place map\n",
    "gmap = gmplot.GoogleMapPlotter(37.766956, -122.438481, 13)\n",
    "\n",
    "# Polygon\n",
    "golden_gate_park_lats, golden_gate_park_lons = zip(*[\n",
    "    (37.771269, -122.511015),\n",
    "    (37.773495, -122.464830),\n",
    "    (37.774797, -122.454538),\n",
    "    (37.771988, -122.454018),\n",
    "    (37.773646, -122.440979),\n",
    "    (37.772742, -122.440797),\n",
    "    (37.771096, -122.453889),\n",
    "    (37.768669, -122.453518),\n",
    "    (37.766227, -122.460213),\n",
    "    (37.764028, -122.510347),\n",
    "    (37.771269, -122.511015)\n",
    "    ])\n",
    "gmap.plot(golden_gate_park_lats, golden_gate_park_lons, 'cornflowerblue', edge_width=10)\n",
    "\n",
    "# Scatter points\n",
    "top_attraction_lats, top_attraction_lons = zip(*[\n",
    "    (37.769901, -122.498331),\n",
    "    (37.768645, -122.475328),\n",
    "    (37.771478, -122.468677),\n",
    "    (37.769867, -122.466102),\n",
    "    (37.767187, -122.467496),\n",
    "    (37.770104, -122.470436)\n",
    "    ])\n",
    "gmap.scatter(top_attraction_lats, top_attraction_lons, '#3B0B39', size=40, marker=False)\n",
    "\n",
    "# Marker\n",
    "hidden_gem_lat, hidden_gem_lon = 37.770776, -122.461689\n",
    "gmap.marker(hidden_gem_lat, hidden_gem_lon, 'cornflowerblue')\n",
    "\n",
    "# Draw\n",
    "gmap.draw(\"my_map.html\")"
   ]
  },
  {
   "cell_type": "code",
   "execution_count": null,
   "metadata": {},
   "outputs": [],
   "source": []
  }
 ],
 "metadata": {
  "kernelspec": {
   "display_name": "Python 3",
   "language": "python",
   "name": "python3"
  },
  "language_info": {
   "codemirror_mode": {
    "name": "ipython",
    "version": 3
   },
   "file_extension": ".py",
   "mimetype": "text/x-python",
   "name": "python",
   "nbconvert_exporter": "python",
   "pygments_lexer": "ipython3",
   "version": "3.6.5"
  }
 },
 "nbformat": 4,
 "nbformat_minor": 2
}

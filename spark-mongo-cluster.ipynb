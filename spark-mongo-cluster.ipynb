{
 "cells": [
  {
   "cell_type": "code",
   "execution_count": 2,
   "metadata": {},
   "outputs": [],
   "source": [
    "from pyspark.sql.functions import udf, col,split\n",
    "from pyspark.ml.clustering import KMeans\n",
    "import json\n",
    "import elasticsearch\n",
    "from elasticsearch import Elasticsearch\n",
    "from elasticsearch import helpers"
   ]
  },
  {
   "cell_type": "code",
   "execution_count": 3,
   "metadata": {},
   "outputs": [
    {
     "name": "stdout",
     "output_type": "stream",
     "text": [
      "root\n",
      " |-- _id: struct (nullable = true)\n",
      " |    |-- oid: string (nullable = true)\n",
      " |-- created_at: string (nullable = true)\n",
      " |-- loc_lat: double (nullable = true)\n",
      " |-- loc_long: double (nullable = true)\n",
      " |-- text: string (nullable = true)\n",
      "\n"
     ]
    }
   ],
   "source": [
    "from pyspark.sql import SparkSession\n",
    "my_spark = SparkSession \\\n",
    "    .builder \\\n",
    "    .appName(\"myApp\") \\\n",
    "    .config(\"spark.mongodb.input.uri\", \"mongodb://127.0.0.1/mydatabase.tweets_test\") \\\n",
    "    .config(\"spark.mongodb.output.uri\", \"mongodb://127.0.0.1/mydatabase.tweets_test\") \\\n",
    "    .config(\"spark.io.compression.codec\", \"snappy\").getOrCreate() #this line's config is for solving lz4 error\n",
    "dataFrame=my_spark.read.format(\"com.mongodb.spark.sql.DefaultSource\").load()\n",
    "dataFrame.printSchema()"
   ]
  },
  {
   "cell_type": "code",
   "execution_count": 4,
   "metadata": {},
   "outputs": [],
   "source": [
    "#split = udf(lambda x: x.split(','))\n",
    "#df.withColumn(\"user_location\", split_udf(col(\"user_location\"))).show()\n",
    "#df=dataFrame.withColumn(\"user_location\",\n",
    "   # split(col(\"user_location\"), \",\\s*\").cast(\"array<float>\").alias(\"user_location\")\n",
    "#)\n",
    "#df_loc = df.select('user_location')"
   ]
  },
  {
   "cell_type": "code",
   "execution_count": 5,
   "metadata": {},
   "outputs": [],
   "source": [
    "from pyspark.ml.linalg import Vectors\n",
    "from pyspark.ml.feature import VectorAssembler\n",
    "assembler = VectorAssembler(\n",
    "    inputCols=['loc_lat','loc_long'],\n",
    "    outputCol='features')\n",
    "trainingData = assembler.transform(dataFrame)\n",
    "#trainingData.show()"
   ]
  },
  {
   "cell_type": "code",
   "execution_count": 6,
   "metadata": {},
   "outputs": [
    {
     "name": "stdout",
     "output_type": "stream",
     "text": [
      "Cluster Centers: \n",
      "[54.7023545 -3.2765753]\n",
      "[43.4773251 65.9795093]\n",
      "[ 34.86553795 -85.3075054 ]\n"
     ]
    }
   ],
   "source": [
    "kmeans = KMeans(k=3,seed=1)\n",
    "model = kmeans.fit(trainingData)\n",
    "# Shows the result.\n",
    "centers = model.clusterCenters()\n",
    "print(\"Cluster Centers: \")\n",
    "for center in centers:\n",
    "    print(center)"
   ]
  },
  {
   "cell_type": "code",
   "execution_count": 7,
   "metadata": {
    "scrolled": true
   },
   "outputs": [],
   "source": [
    "cluster_ind = model.transform(trainingData)\n",
    "dataToKibana = cluster_ind.toPandas().to_dict('record')\n",
    "for item in dataToKibana:\n",
    "    item['created_at'] =item['created_at'][:10]+'T'+item['created_at'][11:]+'Z'\n",
    "    \n",
    "for item in dataToKibana:\n",
    "    item['loc_lat'] =round(item['loc_lat'],2)\n",
    "    item['loc_long'] =round(item['loc_long'],2)"
   ]
  },
  {
   "cell_type": "code",
   "execution_count": 8,
   "metadata": {
    "scrolled": false
   },
   "outputs": [
    {
     "data": {
      "text/plain": [
       "[{'_id': Row(oid='5c9b0b44566b181e0f151227'),\n",
       "  'created_at': '2019-03-27T05:33:33Z',\n",
       "  'features': DenseVector([57.255, 59.4294]),\n",
       "  'loc_lat': 57.25,\n",
       "  'loc_long': 59.43,\n",
       "  'prediction': 1,\n",
       "  'text': 'my whole life i’ve been scared to fully be me bc i always felt i had to be humble or that i had too big of a person… https://t.co/V2na5uK00V'},\n",
       " {'_id': Row(oid='5c9b0b44566b181e0f151228'),\n",
       "  'created_at': '2019-03-27T05:33:33Z',\n",
       "  'features': DenseVector([40.1353, -79.8955]),\n",
       "  'loc_lat': 40.14,\n",
       "  'loc_long': -79.9,\n",
       "  'prediction': 2,\n",
       "  'text': '@TheBat2019 @Tully_of_rivia I literally had a vcr in a closet for years and years and years until I finally threw it out maybe 5 years ago'},\n",
       " {'_id': Row(oid='5c9b0b44566b181e0f151229'),\n",
       "  'created_at': '2019-03-27T05:33:33Z',\n",
       "  'features': DenseVector([29.5958, -90.7195]),\n",
       "  'loc_lat': 29.6,\n",
       "  'loc_long': -90.72,\n",
       "  'prediction': 2,\n",
       "  'text': 'RT @kenliedavis: nice teeth are (and i cannot stress this enough) EVERYTHING'},\n",
       " {'_id': Row(oid='5c9b0b44566b181e0f15122a'),\n",
       "  'created_at': '2019-03-27T05:33:33Z',\n",
       "  'features': DenseVector([29.6997, 72.5297]),\n",
       "  'loc_lat': 29.7,\n",
       "  'loc_long': 72.53,\n",
       "  'prediction': 1,\n",
       "  'text': 'RT @hyunjinphotos: 190109\\n\\nHE CUT HIS HAIR AND IT LOOKS SO GOOD\\n\\n©️in the flames https://t.co/j3inVXidM0'},\n",
       " {'_id': Row(oid='5c9b0b44566b181e0f15122b'),\n",
       "  'created_at': '2019-03-27T05:33:33Z',\n",
       "  'features': DenseVector([54.7024, -3.2766]),\n",
       "  'loc_lat': 54.7,\n",
       "  'loc_long': -3.28,\n",
       "  'prediction': 0,\n",
       "  'text': 'In #Doha today with @SafeToNet and our @ooredoo friends for the #OoredooInnovate roadshow. Here to keep @qatar chil… https://t.co/ut4mgyJVQB'},\n",
       " {'_id': Row(oid='5c9b0b4d566b181e0f15122c'),\n",
       "  'created_at': '2019-03-27T05:33:33Z',\n",
       "  'features': DenseVector([57.255, 59.4294]),\n",
       "  'loc_lat': 57.25,\n",
       "  'loc_long': 59.43,\n",
       "  'prediction': 1,\n",
       "  'text': 'my whole life i’ve been scared to fully be me bc i always felt i had to be humble or that i had too big of a person… https://t.co/V2na5uK00V'},\n",
       " {'_id': Row(oid='5c9b0b4e566b181e0f15122d'),\n",
       "  'created_at': '2019-03-27T05:33:33Z',\n",
       "  'features': DenseVector([40.1353, -79.8955]),\n",
       "  'loc_lat': 40.14,\n",
       "  'loc_long': -79.9,\n",
       "  'prediction': 2,\n",
       "  'text': '@TheBat2019 @Tully_of_rivia I literally had a vcr in a closet for years and years and years until I finally threw it out maybe 5 years ago'},\n",
       " {'_id': Row(oid='5c9b0b4e566b181e0f15122e'),\n",
       "  'created_at': '2019-03-27T05:33:33Z',\n",
       "  'features': DenseVector([29.5958, -90.7195]),\n",
       "  'loc_lat': 29.6,\n",
       "  'loc_long': -90.72,\n",
       "  'prediction': 2,\n",
       "  'text': 'RT @kenliedavis: nice teeth are (and i cannot stress this enough) EVERYTHING'},\n",
       " {'_id': Row(oid='5c9b0b4f566b181e0f15122f'),\n",
       "  'created_at': '2019-03-27T05:33:33Z',\n",
       "  'features': DenseVector([29.6997, 72.5297]),\n",
       "  'loc_lat': 29.7,\n",
       "  'loc_long': 72.53,\n",
       "  'prediction': 1,\n",
       "  'text': 'RT @hyunjinphotos: 190109\\n\\nHE CUT HIS HAIR AND IT LOOKS SO GOOD\\n\\n©️in the flames https://t.co/j3inVXidM0'},\n",
       " {'_id': Row(oid='5c9b0b51566b181e0f151230'),\n",
       "  'created_at': '2019-03-27T05:33:33Z',\n",
       "  'features': DenseVector([54.7024, -3.2766]),\n",
       "  'loc_lat': 54.7,\n",
       "  'loc_long': -3.28,\n",
       "  'prediction': 0,\n",
       "  'text': 'In #Doha today with @SafeToNet and our @ooredoo friends for the #OoredooInnovate roadshow. Here to keep @qatar chil… https://t.co/ut4mgyJVQB'}]"
      ]
     },
     "execution_count": 8,
     "metadata": {},
     "output_type": "execute_result"
    }
   ],
   "source": [
    "dataToKibana"
   ]
  },
  {
   "cell_type": "code",
   "execution_count": 14,
   "metadata": {
    "scrolled": false
   },
   "outputs": [
    {
     "name": "stdout",
     "output_type": "stream",
     "text": [
      "my whole life i’ve been scared to fully be me bc i always felt i had to be humble or that i had too big of a person… https://t.co/V2na5uK00V\n",
      "-------------\n",
      "@TheBat2019 @Tully_of_rivia I literally had a vcr in a closet for years and years and years until I finally threw it out maybe 5 years ago\n",
      "-------------\n",
      "RT @kenliedavis: nice teeth are (and i cannot stress this enough) EVERYTHING\n",
      "-------------\n",
      "RT @hyunjinphotos: 190109\n",
      "\n",
      "HE CUT HIS HAIR AND IT LOOKS SO GOOD\n",
      "\n",
      "©️in the flames https://t.co/j3inVXidM0\n",
      "-------------\n",
      "In #Doha today with @SafeToNet and our @ooredoo friends for the #OoredooInnovate roadshow. Here to keep @qatar chil… https://t.co/ut4mgyJVQB\n",
      "-------------\n",
      "my whole life i’ve been scared to fully be me bc i always felt i had to be humble or that i had too big of a person… https://t.co/V2na5uK00V\n",
      "-------------\n",
      "@TheBat2019 @Tully_of_rivia I literally had a vcr in a closet for years and years and years until I finally threw it out maybe 5 years ago\n",
      "-------------\n",
      "RT @kenliedavis: nice teeth are (and i cannot stress this enough) EVERYTHING\n",
      "-------------\n",
      "RT @hyunjinphotos: 190109\n",
      "\n",
      "HE CUT HIS HAIR AND IT LOOKS SO GOOD\n",
      "\n",
      "©️in the flames https://t.co/j3inVXidM0\n",
      "-------------\n",
      "In #Doha today with @SafeToNet and our @ooredoo friends for the #OoredooInnovate roadshow. Here to keep @qatar chil… https://t.co/ut4mgyJVQB\n",
      "-------------\n"
     ]
    },
    {
     "data": {
      "text/plain": [
       "(10, [])"
      ]
     },
     "execution_count": 14,
     "metadata": {},
     "output_type": "execute_result"
    }
   ],
   "source": [
    "es = Elasticsearch(hosts='http://localhost',port=9200)\n",
    "actions = []\n",
    "mappings = {\n",
    "    \"mappings\":{\n",
    "        \"tweet\": {\n",
    "            \"properties\": {\n",
    "                \"text\": { \"type\": \"text\"  },\n",
    "                \"timestamp\": { \"type\": \"date\" },\n",
    "                \"location\": {\"type\": \"geo_point\"},\n",
    "                \"prediction\": {\"type\": \"integer\"}\n",
    "                }\n",
    "            }\n",
    "    }\n",
    "}\n",
    "es.indices.create(index=\"loc10\", body=mappings)\n",
    "for msg in dataToKibana:\n",
    "    print(msg[\"text\"])\n",
    "    print(\"-------------\")\n",
    "    action = {\n",
    "            \"index\": \"loc6\",\n",
    "            \"type\": \"tweet\",\n",
    "            \"source\": {\n",
    "                'text' : msg[\"text\"],\n",
    "                'timestamp': msg[\"created_at\"],\n",
    "                'location': {\"lat\": msg[\"loc_long\"],\"lon\": msg[\"loc_lat\"]},\n",
    "                'prediction': msg[\"prediction\"]\n",
    "                }\n",
    "            }\n",
    "    actions.append(json.dumps(action))\n",
    "helpers.bulk(es, actions, index='loc10', doc_type='tweet')\n",
    "    "
   ]
  },
  {
   "cell_type": "code",
   "execution_count": null,
   "metadata": {},
   "outputs": [],
   "source": []
  },
  {
   "cell_type": "code",
   "execution_count": null,
   "metadata": {},
   "outputs": [],
   "source": []
  }
 ],
 "metadata": {
  "kernelspec": {
   "display_name": "Python 3",
   "language": "python",
   "name": "python3"
  },
  "language_info": {
   "codemirror_mode": {
    "name": "ipython",
    "version": 3
   },
   "file_extension": ".py",
   "mimetype": "text/x-python",
   "name": "python",
   "nbconvert_exporter": "python",
   "pygments_lexer": "ipython3",
   "version": "3.6.3"
  }
 },
 "nbformat": 4,
 "nbformat_minor": 2
}

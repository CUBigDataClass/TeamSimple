{
 "cells": [
  {
   "cell_type": "code",
   "execution_count": 6,
   "metadata": {
    "collapsed": true
   },
   "outputs": [],
   "source": [
    "from pyspark.sql.functions import udf, col,split\n",
    "from pyspark.ml.clustering import KMeans\n",
    "import json"
   ]
  },
  {
   "cell_type": "code",
   "execution_count": 7,
   "metadata": {},
   "outputs": [
    {
     "name": "stdout",
     "output_type": "stream",
     "text": [
      "root\n",
      " |-- _id: struct (nullable = true)\n",
      " |    |-- oid: string (nullable = true)\n",
      " |-- created_at: string (nullable = true)\n",
      " |-- loc_lat: double (nullable = true)\n",
      " |-- loc_long: double (nullable = true)\n",
      " |-- text: string (nullable = true)\n",
      "\n"
     ]
    }
   ],
   "source": [
    "from pyspark.sql import SparkSession\n",
    "my_spark = SparkSession \\\n",
    "    .builder \\\n",
    "    .appName(\"myApp\") \\\n",
    "    .config(\"spark.mongodb.input.uri\", \"mongodb://127.0.0.1/mydatabase.tweets_test\") \\\n",
    "    .config(\"spark.mongodb.output.uri\", \"mongodb://127.0.0.1/mydatabase.tweets_test\") \\\n",
    "    .config(\"spark.io.compression.codec\", \"snappy\").getOrCreate() #this line's config is for solving lz4 error\n",
    "dataFrame=my_spark.read.format(\"com.mongodb.spark.sql.DefaultSource\").load()\n",
    "dataFrame.printSchema()"
   ]
  },
  {
   "cell_type": "code",
   "execution_count": 8,
   "metadata": {
    "collapsed": true
   },
   "outputs": [],
   "source": [
    "#split = udf(lambda x: x.split(','))\n",
    "#df.withColumn(\"user_location\", split_udf(col(\"user_location\"))).show()\n",
    "#df=dataFrame.withColumn(\"user_location\",\n",
    "   # split(col(\"user_location\"), \",\\s*\").cast(\"array<float>\").alias(\"user_location\")\n",
    "#)\n",
    "#df_loc = df.select('user_location')"
   ]
  },
  {
   "cell_type": "code",
   "execution_count": 9,
   "metadata": {},
   "outputs": [
    {
     "name": "stdout",
     "output_type": "stream",
     "text": [
      "+--------------------+-------------------+-----------+-----------------+--------------------+--------------------+\n",
      "|                 _id|         created_at|    loc_lat|         loc_long|                text|            features|\n",
      "+--------------------+-------------------+-----------+-----------------+--------------------+--------------------+\n",
      "|[5c9b0359cb60753c...|2019-03-27 04:58:53| 40.7308619|      -73.9871558|RT @TimInHonolulu...|[40.7308619,-73.9...|\n",
      "|[5c9b0359cb60753c...|2019-03-27 04:58:53|  30.421309|      -87.2169149|RT @_alikingg: I ...|[30.421309,-87.21...|\n",
      "|[5c9b0359cb60753c...|2019-03-27 04:58:53| 33.9533546|     -117.3961623|I need gfs that l...|[33.9533546,-117....|\n",
      "|[5c9b0359cb60753c...|2019-03-27 04:58:53|  2.3923759|      112.8471939|RT @maddoooog: pl...|[2.3923759,112.84...|\n",
      "|[5c9b0359cb60753c...|2019-03-27 04:58:53|40.85048545|-73.8404035580209|RT @crushcuIture:...|[40.85048545,-73....|\n",
      "|[5c9b0359cb60753c...|2019-03-27 04:58:53|  1.1073992|      104.0803448|@MysticDreamer20 ...|[1.1073992,104.08...|\n",
      "|[5c9b0359cb60753c...|2019-03-27 04:58:53| 12.9791198|       77.5912997|@BookLuster order...|[12.9791198,77.59...|\n",
      "|[5c9b0359cb60753c...|2019-03-27 04:59:31| 32.7174209|     -117.1627714|someone wrote tsu...|[32.7174209,-117....|\n",
      "|[5c9b0359cb60753c...|2019-03-27 04:59:31| 32.7174209|     -117.1627714|RT @natvanlis: Fi...|[32.7174209,-117....|\n",
      "|[5c9b0359cb60753c...|2019-03-27 04:59:31| 60.0977304|       23.9197808|#TLD @thelongestd...|[60.0977304,23.91...|\n",
      "|[5c9b0359cb60753c...|2019-03-27 04:59:31| 47.3826903|     -122.2270272|RT @JayInslee: Ou...|[47.3826903,-122....|\n",
      "|[5c9b0359cb60753c...|2019-03-27 04:59:31| 32.7174209|     -117.1627714|someone wrote tsu...|[32.7174209,-117....|\n",
      "|[5c9b0359cb60753c...|2019-03-27 04:59:31| 32.7174209|     -117.1627714|RT @natvanlis: Fi...|[32.7174209,-117....|\n",
      "|[5c9b0359cb60753c...|2019-03-27 04:59:31| 60.0977304|       23.9197808|#TLD @thelongestd...|[60.0977304,23.91...|\n",
      "|[5c9b0359cb60753c...|2019-03-27 04:59:31| 47.3826903|     -122.2270272|RT @JayInslee: Ou...|[47.3826903,-122....|\n",
      "+--------------------+-------------------+-----------+-----------------+--------------------+--------------------+\n",
      "\n"
     ]
    }
   ],
   "source": [
    "from pyspark.ml.linalg import Vectors\n",
    "from pyspark.ml.feature import VectorAssembler\n",
    "assembler = VectorAssembler(\n",
    "    inputCols=['loc_lat','loc_long'],\n",
    "    outputCol='features')\n",
    "trainingData = assembler.transform(dataFrame)\n",
    "#trainingData.show()"
   ]
  },
  {
   "cell_type": "code",
   "execution_count": 10,
   "metadata": {},
   "outputs": [
    {
     "name": "stdout",
     "output_type": "stream",
     "text": [
      "Cluster Centers: \n",
      "[60.0977304 23.9197808]\n",
      "[  37.15910751 -106.55457766]\n",
      "[ 5.49296497 98.17294613]\n"
     ]
    }
   ],
   "source": [
    "kmeans = KMeans(k=3,seed=1)\n",
    "model = kmeans.fit(trainingData)\n",
    "# Shows the result.\n",
    "centers = model.clusterCenters()\n",
    "print(\"Cluster Centers: \")\n",
    "for center in centers:\n",
    "    print(center)"
   ]
  },
  {
   "cell_type": "code",
   "execution_count": 19,
   "metadata": {
    "collapsed": true,
    "scrolled": true
   },
   "outputs": [],
   "source": [
    "cluster_ind = model.transform(trainingData)\n",
    "dataToKibana=cluster_ind.toJSON().collect()"
   ]
  },
  {
   "cell_type": "code",
   "execution_count": 20,
   "metadata": {
    "scrolled": true
   },
   "outputs": [
    {
     "data": {
      "text/plain": [
       "['{\"_id\":{\"oid\":\"5c9b0359cb60753cd01f6593\"},\"created_at\":\"2019-03-27 04:58:53\",\"loc_lat\":40.7308619,\"loc_long\":-73.9871558,\"text\":\"RT @TimInHonolulu: 1. Barr\\'s usurpation of the Special Counsel authority, having already acted to give free legal advice to the President o…\",\"features\":{\"type\":1,\"values\":[40.7308619,-73.9871558]},\"prediction\":1}',\n",
       " '{\"_id\":{\"oid\":\"5c9b0359cb60753cd01f6594\"},\"created_at\":\"2019-03-27 04:58:53\",\"loc_lat\":30.421309,\"loc_long\":-87.2169149,\"text\":\"RT @_alikingg: I just need all my girls to know that this one time I thought I was getting the flu...and it turned out to be a human. Stay…\",\"features\":{\"type\":1,\"values\":[30.421309,-87.2169149]},\"prediction\":1}',\n",
       " '{\"_id\":{\"oid\":\"5c9b0359cb60753cd01f6595\"},\"created_at\":\"2019-03-27 04:58:53\",\"loc_lat\":33.9533546,\"loc_long\":-117.3961623,\"text\":\"I need gfs that like dressing cute and taking pics for no reason\",\"features\":{\"type\":1,\"values\":[33.9533546,-117.3961623]},\"prediction\":1}',\n",
       " '{\"_id\":{\"oid\":\"5c9b0359cb60753cd01f6596\"},\"created_at\":\"2019-03-27 04:58:53\",\"loc_lat\":2.3923759,\"loc_long\":112.8471939,\"text\":\"RT @maddoooog: please be careful with me. sometimes i just get sad and i don\\'t know why. i\\'m sorry.\",\"features\":{\"type\":1,\"values\":[2.3923759,112.8471939]},\"prediction\":2}',\n",
       " '{\"_id\":{\"oid\":\"5c9b0359cb60753cd01f6597\"},\"created_at\":\"2019-03-27 04:58:53\",\"loc_lat\":40.85048545,\"loc_long\":-73.8404035580209,\"text\":\"RT @crushcuIture: it’s scary knowing that i probably wont be alive to have kids or grow old together with someone because of the fact that…\",\"features\":{\"type\":1,\"values\":[40.85048545,-73.8404035580209]},\"prediction\":1}',\n",
       " '{\"_id\":{\"oid\":\"5c9b0359cb60753cd01f6598\"},\"created_at\":\"2019-03-27 04:58:53\",\"loc_lat\":1.1073992,\"loc_long\":104.0803448,\"text\":\"@MysticDreamer20 @EdBoscoVA I know right? He is the best!.\\\\n\\\\nAnd Edward, wherever you are. I love your voice of 18-Volt raps!\",\"features\":{\"type\":1,\"values\":[1.1073992,104.0803448]},\"prediction\":2}',\n",
       " '{\"_id\":{\"oid\":\"5c9b0359cb60753cd01f6599\"},\"created_at\":\"2019-03-27 04:58:53\",\"loc_lat\":12.9791198,\"loc_long\":77.5912997,\"text\":\"@BookLuster order in your favorite food and maybe call a close friend\",\"features\":{\"type\":1,\"values\":[12.9791198,77.5912997]},\"prediction\":2}',\n",
       " '{\"_id\":{\"oid\":\"5c9b0359cb60753cd01f659a\"},\"created_at\":\"2019-03-27 04:59:31\",\"loc_lat\":32.7174209,\"loc_long\":-117.1627714,\"text\":\"someone wrote tsukki and yamaguchi going to different schools in this fic and they wrote how it changed tsukki\\'s en… https://t.co/2B9idlLO86\",\"features\":{\"type\":1,\"values\":[32.7174209,-117.1627714]},\"prediction\":1}',\n",
       " '{\"_id\":{\"oid\":\"5c9b0359cb60753cd01f659b\"},\"created_at\":\"2019-03-27 04:59:31\",\"loc_lat\":32.7174209,\"loc_long\":-117.1627714,\"text\":\"RT @natvanlis: Finally picked up @Karamo’s book and absolutely love this quote from his grandmother:\\\\n\\\\n“Never be afraid of growing slowly, o…\",\"features\":{\"type\":1,\"values\":[32.7174209,-117.1627714]},\"prediction\":1}',\n",
       " '{\"_id\":{\"oid\":\"5c9b0359cb60753cd01f659c\"},\"created_at\":\"2019-03-27 04:59:31\",\"loc_lat\":60.0977304,\"loc_long\":23.9197808,\"text\":\"#TLD @thelongestdate @senzgp #thelongestdate @SABC3 \\\\ncan we please have a Longest Date rematch?\\\\nSenzo and Shalance\\\\nTamryn and Nathaneal\",\"features\":{\"type\":1,\"values\":[60.0977304,23.9197808]},\"prediction\":0}',\n",
       " '{\"_id\":{\"oid\":\"5c9b0359cb60753cd01f659d\"},\"created_at\":\"2019-03-27 04:59:31\",\"loc_lat\":47.3826903,\"loc_long\":-122.2270272,\"text\":\"RT @JayInslee: Our children and grandchildren\\'s future is worth more than millions in campaign cash from the fossil fuel industry https://t…\",\"features\":{\"type\":1,\"values\":[47.3826903,-122.2270272]},\"prediction\":1}',\n",
       " '{\"_id\":{\"oid\":\"5c9b0359cb60753cd01f659e\"},\"created_at\":\"2019-03-27 04:59:31\",\"loc_lat\":32.7174209,\"loc_long\":-117.1627714,\"text\":\"someone wrote tsukki and yamaguchi going to different schools in this fic and they wrote how it changed tsukki\\'s en… https://t.co/2B9idlLO86\",\"features\":{\"type\":1,\"values\":[32.7174209,-117.1627714]},\"prediction\":1}',\n",
       " '{\"_id\":{\"oid\":\"5c9b0359cb60753cd01f659f\"},\"created_at\":\"2019-03-27 04:59:31\",\"loc_lat\":32.7174209,\"loc_long\":-117.1627714,\"text\":\"RT @natvanlis: Finally picked up @Karamo’s book and absolutely love this quote from his grandmother:\\\\n\\\\n“Never be afraid of growing slowly, o…\",\"features\":{\"type\":1,\"values\":[32.7174209,-117.1627714]},\"prediction\":1}',\n",
       " '{\"_id\":{\"oid\":\"5c9b0359cb60753cd01f65a0\"},\"created_at\":\"2019-03-27 04:59:31\",\"loc_lat\":60.0977304,\"loc_long\":23.9197808,\"text\":\"#TLD @thelongestdate @senzgp #thelongestdate @SABC3 \\\\ncan we please have a Longest Date rematch?\\\\nSenzo and Shalance\\\\nTamryn and Nathaneal\",\"features\":{\"type\":1,\"values\":[60.0977304,23.9197808]},\"prediction\":0}',\n",
       " '{\"_id\":{\"oid\":\"5c9b0359cb60753cd01f65a1\"},\"created_at\":\"2019-03-27 04:59:31\",\"loc_lat\":47.3826903,\"loc_long\":-122.2270272,\"text\":\"RT @JayInslee: Our children and grandchildren\\'s future is worth more than millions in campaign cash from the fossil fuel industry https://t…\",\"features\":{\"type\":1,\"values\":[47.3826903,-122.2270272]},\"prediction\":1}']"
      ]
     },
     "execution_count": 20,
     "metadata": {},
     "output_type": "execute_result"
    }
   ],
   "source": [
    "dataToKibana"
   ]
  },
  {
   "cell_type": "code",
   "execution_count": 97,
   "metadata": {
    "collapsed": true
   },
   "outputs": [],
   "source": []
  },
  {
   "cell_type": "code",
   "execution_count": null,
   "metadata": {
    "collapsed": true
   },
   "outputs": [],
   "source": []
  }
 ],
 "metadata": {
  "kernelspec": {
   "display_name": "Python 3",
   "language": "python",
   "name": "python3"
  },
  "language_info": {
   "codemirror_mode": {
    "name": "ipython",
    "version": 3
   },
   "file_extension": ".py",
   "mimetype": "text/x-python",
   "name": "python",
   "nbconvert_exporter": "python",
   "pygments_lexer": "ipython3",
   "version": "3.6.3"
  }
 },
 "nbformat": 4,
 "nbformat_minor": 2
}

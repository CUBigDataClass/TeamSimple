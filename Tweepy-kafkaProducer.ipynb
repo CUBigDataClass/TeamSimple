{
 "cells": [
  {
   "cell_type": "markdown",
   "metadata": {},
   "source": [
    "# Ingesting realtime tweets using Apache Kafka, Tweepy and Python\n",
    "\n",
    "### Purpose:\n",
    "- main data source for the lambda architecture pipeline\n",
    "- uses twitter streaming API to simulate new events coming in every minute\n",
    "- Kafka Producer sends the tweets as records to the Kafka Broker\n",
    "\n",
    "### Contents: \n",
    "- [Twitter setup](#1)\n",
    "- [Defining the Kafka producer](#2)\n",
    "- [Producing and sending records to the Kafka Broker](#3)\n",
    "- [Deployment](#4)"
   ]
  },
  {
   "cell_type": "markdown",
   "metadata": {},
   "source": [
    "### Required libraries"
   ]
  },
  {
   "cell_type": "code",
   "execution_count": 1,
   "metadata": {},
   "outputs": [],
   "source": [
    "import tweepy\n",
    "import time\n",
    "from kafka import KafkaConsumer, KafkaProducer\n",
    "from geopy.geocoders import Nominatim\n",
    "geolocator = Nominatim(user_agent=\"my-application\")\n"
   ]
  },
  {
   "cell_type": "markdown",
   "metadata": {},
   "source": [
    "<a id=\"1\"></a>\n",
    "### Twitter setup\n",
    "- getting the API object using authorization information\n",
    "- you can find more details on how to get the authorization here:\n",
    "https://developer.twitter.com/en/docs/basics/authentication/overview"
   ]
  },
  {
   "cell_type": "code",
   "execution_count": 2,
   "metadata": {},
   "outputs": [],
   "source": [
    "# twitter setup\n",
    "ACCESS_TOKEN = '799844067701977088-qrHMnTaYFUcqBbeG5yT3G8GTieLJt6N'\n",
    "ACCESS_SECRET = 'kRtA7MsTjvAqmft9BdtE7z2FtAouYsOY8OlAvByIy5m1l'\n",
    "CONSUMER_KEY = 'yZUmKJQxfGmpLtvVTmGTHPKiD'\n",
    "CONSUMER_SECRET = '1bwO3JIc664KkObN5LJYVpALDi63NBExoLSKsaMrJ7KPYKYiXM'\n",
    "# Setup tweepy to authenticate with Twitter credentials:\n",
    "auth = tweepy.OAuthHandler(CONSUMER_KEY, CONSUMER_SECRET)\n",
    "auth.set_access_token(ACCESS_TOKEN, ACCESS_SECRET)\n",
    "# Creating the API object by passing in auth information\n",
    "api = tweepy.API(auth) \n"
   ]
  },
  {
   "cell_type": "markdown",
   "metadata": {},
   "source": [
    "A helper function to normalize the time a tweet was created with the time of our system"
   ]
  },
  {
   "cell_type": "code",
   "execution_count": 3,
   "metadata": {},
   "outputs": [],
   "source": [
    "from datetime import datetime, timedelta\n",
    "\n",
    "def normalize_timestamp(time):\n",
    "    mytime = datetime.strptime(time, \"%Y-%m-%d %H:%M:%S\")\n",
    "    mytime += timedelta(hours=1)   # the tweets are timestamped in GMT timezone, while I am in +1 timezone\n",
    "    return (mytime.strftime(\"%Y-%m-%d %H:%M:%S\")) "
   ]
  },
  {
   "cell_type": "markdown",
   "metadata": {},
   "source": [
    "<a id=\"2\"></a>\n",
    "### Defining the Kafka producer\n",
    "- specify the Kafka Broker\n",
    "- specify the topic name\n",
    "- optional: specify partitioning strategy"
   ]
  },
  {
   "cell_type": "code",
   "execution_count": 4,
   "metadata": {},
   "outputs": [],
   "source": [
    "producer = KafkaProducer(bootstrap_servers='localhost:9092')\n",
    "topic_name = 'tweepy-kafka-test'"
   ]
  },
  {
   "cell_type": "markdown",
   "metadata": {},
   "source": [
    "<a id=\"3\"></a>\n",
    "### Producing and sending records to the Kafka Broker\n",
    "- querying the Twitter API Object\n",
    "- extracting relevant information from the response\n",
    "- formatting and sending the data to proper topic on the Kafka Broker\n",
    "- resulting tweets have following attributes:\n",
    "    - id \n",
    "    - created_at\n",
    "    - followers_count\n",
    "    - location\n",
    "    - favorite_count\n",
    "    - retweet_count"
   ]
  },
  {
   "cell_type": "code",
   "execution_count": 8,
   "metadata": {},
   "outputs": [],
   "source": [
    "import json\n",
    "def get_twitter_data():\n",
    "    res = api.search(\"and\")#,geocode = [\"105,30.132633,150mi\"])\n",
    "    j=0\n",
    "    for i in res:\n",
    "        location = geolocator.geocode(str(i.user.location)) \n",
    "        if i.user.location != \"\" and location != None:\n",
    "            record = '{'\n",
    "            record += \"\\\"created_at\\\":\" +  json.dumps(str(i.created_at))\n",
    "            record += ','\n",
    "            record += \"\\\"text\\\":\" +  json.dumps(str(i.text))\n",
    "            record += ','\n",
    "            record += \"\\\"user_id\\\":\" +  json.dumps(str(i.user.id_str))\n",
    "            record += ','\n",
    "            record += \"\\\"user_timezone\\\":\" +  json.dumps(str(i.user.time_zone))\n",
    "            record += ','\n",
    "            record += \"\\\"user_location\\\":\" +  json.dumps(str(location.latitude)+','+ str(location.longitude))\n",
    "            record += ','\n",
    "            record += \"\\\"loc_lat\\\":\" + json.dumps(location.latitude)\n",
    "            record += ','\n",
    "            record += \"\\\"loc_long\\\":\" + json.dumps(location.longitude)\n",
    "            record += ','\n",
    "            record += \"\\\"followers_count\\\":\" +  json.dumps(str(i.user.followers_count))\n",
    "            record += ','\n",
    "            record += \"\\\"language\\\":\" + json.dumps(str(i.lang))\n",
    "            record += '}'\n",
    "            #loc = \"\"\n",
    "            #loc += \"user_loc:\"+str(i.user.location) +', tweet_geo:'+ str(i.geo)+',coordinates:'+str(i.coordinates)+',place:'+str(i.place)\n",
    "            producer.send(topic_name, str.encode(record))\n",
    "            print(record)\n",
    "                       \n",
    "            #print(i.user.location)"
   ]
  },
  {
   "cell_type": "code",
   "execution_count": 9,
   "metadata": {},
   "outputs": [
    {
     "name": "stdout",
     "output_type": "stream",
     "text": [
      "{\"created_at\":\"2019-03-26 17:20:58\",\"text\":\"@eltonvillanuev6 @humanworkplace So you think that the effects of ageism can always be counteracted by grit, hard w\\u2026 https://t.co/X80VQzJfHf\",\"user_id\":\"809980977409835008\",\"user_timezone\":\"None\",\"user_location\":\"40.7308619,-73.9871558\",\"loc_lat\":40.7308619,\"loc_long\":-73.9871558,\"followers_count\":\"3565\",\"language\":\"en\"}\n",
      "{\"created_at\":\"2019-03-26 17:20:58\",\"text\":\"RT @decorartehogar: Retweet and Like if you want to gain more followers\\ud83d\\udc33\\n#Decorartehogar\",\"user_id\":\"901210368\",\"user_timezone\":\"None\",\"user_location\":\"41.0096334,28.9651646\",\"loc_lat\":41.0096334,\"loc_long\":28.9651646,\"followers_count\":\"232\",\"language\":\"en\"}\n",
      "{\"created_at\":\"2019-03-26 17:20:58\",\"text\":\"Exciting #news - I'm now represented by Charlotte Watts and the team \\n@WilliamsonHolme\\n #actor #actorslife #casting\\u2026 https://t.co/bOyndji9RA\",\"user_id\":\"120801635\",\"user_timezone\":\"None\",\"user_location\":\"51.5073219,-0.1276474\",\"loc_lat\":51.5073219,\"loc_long\":-0.1276474,\"followers_count\":\"1975\",\"language\":\"en\"}\n",
      "{\"created_at\":\"2019-03-26 17:20:58\",\"text\":\"The Supreme Court itself has said that 80% of the judges in the lower courts are corrupted. Its an\\u2026 https://t.co/kt5lj0KZMz\",\"user_id\":\"842344368321245184\",\"user_timezone\":\"None\",\"user_location\":\"28.6141793,77.2022662\",\"loc_lat\":28.6141793,\"loc_long\":77.2022662,\"followers_count\":\"10353\",\"language\":\"en\"}\n",
      "{\"created_at\":\"2019-03-26 17:20:58\",\"text\":\"@ITI_IDN @ITIUK You're not on holiday if you're watching your email all the time... I always tell regular clients i\\u2026 https://t.co/AgKtHhnnZt\",\"user_id\":\"116732770\",\"user_timezone\":\"None\",\"user_location\":\"47.3769434,8.5414061\",\"loc_lat\":47.3769434,\"loc_long\":8.5414061,\"followers_count\":\"403\",\"language\":\"en\"}\n",
      "{\"created_at\":\"2019-03-26 17:20:58\",\"text\":\"RT @RedWingGrips: Avenatti indicted on Federal charges.\\n\\nRussian Collusion fairytale is over.\\n\\nPentagon allocates $1 billion for our Wall.\\u2026\",\"user_id\":\"745425522\",\"user_timezone\":\"None\",\"user_location\":\"39.6350312,-121.3909613\",\"loc_lat\":39.6350312,\"loc_long\":-121.3909613,\"followers_count\":\"1428\",\"language\":\"en\"}\n",
      "{\"created_at\":\"2019-03-26 17:20:58\",\"text\":\"\\u2018Dumbo\\u2019 is too gosh darn cute, and that\\u2019s (somehow) a\\u00a0complaint https://t.co/Lw36gKP7FA https://t.co/BQ2WG5Wvtv\",\"user_id\":\"204959977\",\"user_timezone\":\"None\",\"user_location\":\"40.7308619,-73.9871558\",\"loc_lat\":40.7308619,\"loc_long\":-73.9871558,\"followers_count\":\"917\",\"language\":\"en\"}\n",
      "{\"created_at\":\"2019-03-26 17:20:58\",\"text\":\"It's gardening season, and that means the bugs are coming out too. Goo news - there are plants that help to repel m\\u2026 https://t.co/8xdUJ0GHqc\",\"user_id\":\"39296847\",\"user_timezone\":\"None\",\"user_location\":\"43.0349931,-87.922497\",\"loc_lat\":43.0349931,\"loc_long\":-87.922497,\"followers_count\":\"42090\",\"language\":\"en\"}\n",
      "{\"created_at\":\"2019-03-26 17:20:58\",\"text\":\"RT @kwilli1046: This video is worth 25 seconds of your time and you'll smile too.\\n https://t.co/DIBuCO0525\",\"user_id\":\"1917196152\",\"user_timezone\":\"None\",\"user_location\":\"42.3315509,-83.0466403\",\"loc_lat\":42.3315509,\"loc_long\":-83.0466403,\"followers_count\":\"475\",\"language\":\"en\"}\n",
      "{\"created_at\":\"2019-03-26 17:20:58\",\"text\":\"RT @IanColdwater: RIP, @clappymonkey. You were very loved, and you will be missed.\",\"user_id\":\"791608972465868801\",\"user_timezone\":\"None\",\"user_location\":\"34.0536834,-118.2427669\",\"loc_lat\":34.0536834,\"loc_long\":-118.2427669,\"followers_count\":\"1328\",\"language\":\"en\"}\n"
     ]
    }
   ],
   "source": [
    "get_twitter_data()"
   ]
  },
  {
   "cell_type": "markdown",
   "metadata": {},
   "source": [
    "<a id=\"4\"></a>\n",
    "### Deployment \n",
    "- perform the task every couple of minutes and wait in between"
   ]
  },
  {
   "cell_type": "code",
   "execution_count": 10,
   "metadata": {},
   "outputs": [],
   "source": [
    "def periodic_work(interval):\n",
    "    while True:\n",
    "        get_twitter_data()\n",
    "        #interval should be an integer, the number of seconds to wait\n",
    "        time.sleep(interval)\n"
   ]
  },
  {
   "cell_type": "code",
   "execution_count": 11,
   "metadata": {
    "scrolled": true
   },
   "outputs": [
    {
     "name": "stdout",
     "output_type": "stream",
     "text": [
      "{\"created_at\":\"2019-03-26 17:22:09\",\"text\":\"RT @ftrickxHP: How many followers you want ?\\n\\ud83c\\udf41\\ud83c\\udf41\\ud83c\\udf41\\ud83c\\udf41\\ud83c\\udf41\\ud83c\\udf41\\ud83c\\udf41\\ud83c\\udf41\\ud83c\\udf41\\n5k\\n10k\\n20k\\n30k\\n40k\\n50k\\n100k\\n\\ud83c\\udf41\\ud83c\\udf41\\ud83c\\udf41\\ud83c\\udf41\\nREPLY With '' \\ud83c\\udf41  '' Follow Whoever Likes ur Reply!\\u2026\",\"user_id\":\"14923564\",\"user_timezone\":\"None\",\"user_location\":\"19.4326009,-99.1333416\",\"loc_lat\":19.4326009,\"loc_long\":-99.1333416,\"followers_count\":\"44611\",\"language\":\"en\"}\n",
      "{\"created_at\":\"2019-03-26 17:22:09\",\"text\":\"RT @WakandaSensei: #IKOKAZIKE A lady Friend is looking for a Job.She has a degree in Geography and is experienced In Geography, Surveying,\\u2026\",\"user_id\":\"350940354\",\"user_timezone\":\"None\",\"user_location\":\"-1.2832533,36.8172449\",\"loc_lat\":-1.2832533,\"loc_long\":36.8172449,\"followers_count\":\"395\",\"language\":\"en\"}\n",
      "{\"created_at\":\"2019-03-26 17:22:09\",\"text\":\"Indonesia: Hivos EoI : In-Country Researcher: Creating Spaces for Engagement between Citizens and the State - https://t.co/UJ0Xx1KQhq\",\"user_id\":\"3535576593\",\"user_timezone\":\"None\",\"user_location\":\"13.2904027,108.4265113\",\"loc_lat\":13.2904027,\"loc_long\":108.4265113,\"followers_count\":\"904\",\"language\":\"en\"}\n",
      "{\"created_at\":\"2019-03-26 17:22:09\",\"text\":\"Just called @SenatorRomney and @SenMikeLee to let them know I support Red Flag laws to prevent suicide, domestic vi\\u2026 https://t.co/6wFmt6KXTv\",\"user_id\":\"48204988\",\"user_timezone\":\"None\",\"user_location\":\"33.3841541,-111.8540448\",\"loc_lat\":33.3841541,\"loc_long\":-111.8540448,\"followers_count\":\"2091\",\"language\":\"en\"}\n",
      "{\"created_at\":\"2019-03-26 17:22:09\",\"text\":\"RT @insolategogh: THIS IS THE CUTEST THING EVER OJ MY GOD SEUNGKWAN SURPRISING DK WITH FOOD AND HIS REACTION WAS THE PUREST THING EVER IM A\\u2026\",\"user_id\":\"2789069246\",\"user_timezone\":\"None\",\"user_location\":\"61.0666922,-107.9917071\",\"loc_lat\":61.0666922,\"loc_long\":-107.9917071,\"followers_count\":\"108\",\"language\":\"en\"}\n",
      "{\"created_at\":\"2019-03-26 17:22:09\",\"text\":\"@KymGrosso come back and we\\u2019ll ride together ;-)\",\"user_id\":\"20274779\",\"user_timezone\":\"None\",\"user_location\":\"39.9524152,-75.1635755\",\"loc_lat\":39.9524152,\"loc_long\":-75.1635755,\"followers_count\":\"896\",\"language\":\"en\"}\n",
      "{\"created_at\":\"2019-03-26 17:22:09\",\"text\":\"RT @OnTruck: RIP: Bill MacKinnon, 90 - a true industry pioneer and key builder in the success and growth of @OnTruck for over 50 years. htt\\u2026\",\"user_id\":\"1012472807903592454\",\"user_timezone\":\"None\",\"user_location\":\"50.000678,-86.000977\",\"loc_lat\":50.000678,\"loc_long\":-86.000977,\"followers_count\":\"215\",\"language\":\"en\"}\n",
      "{\"created_at\":\"2019-03-26 17:22:09\",\"text\":\"RT @a_h_reaume: Congrats to @WordsandGuitar on launching her book today! So exciting. This book is amazing and you should read it. Here\\u2019s s\\u2026\",\"user_id\":\"1065662669997264896\",\"user_timezone\":\"None\",\"user_location\":\"64.4989922,-165.398799443163\",\"loc_lat\":64.4989922,\"loc_long\":-165.398799443163,\"followers_count\":\"3345\",\"language\":\"en\"}\n",
      "{\"created_at\":\"2019-03-26 17:22:09\",\"text\":\"RT @ftrickxHP: How many followers you want ?\\n\\ud83c\\udf41\\ud83c\\udf41\\ud83c\\udf41\\ud83c\\udf41\\ud83c\\udf41\\ud83c\\udf41\\ud83c\\udf41\\ud83c\\udf41\\ud83c\\udf41\\n5k\\n10k\\n20k\\n30k\\n40k\\n50k\\n100k\\n\\ud83c\\udf41\\ud83c\\udf41\\ud83c\\udf41\\ud83c\\udf41\\nREPLY With '' \\ud83c\\udf41  '' Follow Whoever Likes ur Reply!\\u2026\",\"user_id\":\"14923564\",\"user_timezone\":\"None\",\"user_location\":\"19.4326009,-99.1333416\",\"loc_lat\":19.4326009,\"loc_long\":-99.1333416,\"followers_count\":\"44612\",\"language\":\"en\"}\n",
      "{\"created_at\":\"2019-03-26 17:22:09\",\"text\":\"RT @WakandaSensei: #IKOKAZIKE A lady Friend is looking for a Job.She has a degree in Geography and is experienced In Geography, Surveying,\\u2026\",\"user_id\":\"350940354\",\"user_timezone\":\"None\",\"user_location\":\"-1.2832533,36.8172449\",\"loc_lat\":-1.2832533,\"loc_long\":36.8172449,\"followers_count\":\"395\",\"language\":\"en\"}\n",
      "{\"created_at\":\"2019-03-26 17:22:09\",\"text\":\"Indonesia: Hivos EoI : In-Country Researcher: Creating Spaces for Engagement between Citizens and the State - https://t.co/UJ0Xx1KQhq\",\"user_id\":\"3535576593\",\"user_timezone\":\"None\",\"user_location\":\"13.2904027,108.4265113\",\"loc_lat\":13.2904027,\"loc_long\":108.4265113,\"followers_count\":\"904\",\"language\":\"en\"}\n",
      "{\"created_at\":\"2019-03-26 17:22:09\",\"text\":\"Just called @SenatorRomney and @SenMikeLee to let them know I support Red Flag laws to prevent suicide, domestic vi\\u2026 https://t.co/6wFmt6KXTv\",\"user_id\":\"48204988\",\"user_timezone\":\"None\",\"user_location\":\"33.3841541,-111.8540448\",\"loc_lat\":33.3841541,\"loc_long\":-111.8540448,\"followers_count\":\"2091\",\"language\":\"en\"}\n",
      "{\"created_at\":\"2019-03-26 17:22:09\",\"text\":\"RT @insolategogh: THIS IS THE CUTEST THING EVER OJ MY GOD SEUNGKWAN SURPRISING DK WITH FOOD AND HIS REACTION WAS THE PUREST THING EVER IM A\\u2026\",\"user_id\":\"2789069246\",\"user_timezone\":\"None\",\"user_location\":\"61.0666922,-107.9917071\",\"loc_lat\":61.0666922,\"loc_long\":-107.9917071,\"followers_count\":\"108\",\"language\":\"en\"}\n",
      "{\"created_at\":\"2019-03-26 17:22:09\",\"text\":\"@KymGrosso come back and we\\u2019ll ride together ;-)\",\"user_id\":\"20274779\",\"user_timezone\":\"None\",\"user_location\":\"39.9524152,-75.1635755\",\"loc_lat\":39.9524152,\"loc_long\":-75.1635755,\"followers_count\":\"896\",\"language\":\"en\"}\n",
      "{\"created_at\":\"2019-03-26 17:22:09\",\"text\":\"RT @OnTruck: RIP: Bill MacKinnon, 90 - a true industry pioneer and key builder in the success and growth of @OnTruck for over 50 years. htt\\u2026\",\"user_id\":\"1012472807903592454\",\"user_timezone\":\"None\",\"user_location\":\"50.000678,-86.000977\",\"loc_lat\":50.000678,\"loc_long\":-86.000977,\"followers_count\":\"215\",\"language\":\"en\"}\n",
      "{\"created_at\":\"2019-03-26 17:22:09\",\"text\":\"RT @a_h_reaume: Congrats to @WordsandGuitar on launching her book today! So exciting. This book is amazing and you should read it. Here\\u2019s s\\u2026\",\"user_id\":\"1065662669997264896\",\"user_timezone\":\"None\",\"user_location\":\"64.4989922,-165.398799443163\",\"loc_lat\":64.4989922,\"loc_long\":-165.398799443163,\"followers_count\":\"3345\",\"language\":\"en\"}\n",
      "{\"created_at\":\"2019-03-26 17:22:35\",\"text\":\"RT @papers_we_love: `mov` is Turing-complete - Stephen Dolan https://t.co/QBBycV4Zcf\\n\\nIt is well-known that the #x86 instruction set is ove\\u2026\",\"user_id\":\"66358123\",\"user_timezone\":\"None\",\"user_location\":\"12.9791198,77.5912997\",\"loc_lat\":12.9791198,\"loc_long\":77.5912997,\"followers_count\":\"79\",\"language\":\"en\"}\n",
      "{\"created_at\":\"2019-03-26 17:22:35\",\"text\":\"@itbejonathan LMFAOO I CANT GROW HAIR??? Then what is this??? Ik I don\\u2019t have to prove shit bc just bc I made the d\\u2026 https://t.co/FKAeN9Es4B\",\"user_id\":\"887135798415380480\",\"user_timezone\":\"None\",\"user_location\":\"36.7014631,-118.7559974\",\"loc_lat\":36.7014631,\"loc_long\":-118.7559974,\"followers_count\":\"473\",\"language\":\"en\"}\n",
      "{\"created_at\":\"2019-03-26 17:22:35\",\"text\":\"RT @uk_domain_names: So basically the UK is putting Ireland into an impossible rock-and-a-hard-place position.\\n\\nHere's the official guidanc\\u2026\",\"user_id\":\"104329090\",\"user_timezone\":\"None\",\"user_location\":\"-24.6423816,25.9131082\",\"loc_lat\":-24.6423816,\"loc_long\":25.9131082,\"followers_count\":\"352\",\"language\":\"en\"}\n",
      "{\"created_at\":\"2019-03-26 17:22:35\",\"text\":\"RT @taroncochrane: Watch my chat with Jason Plumb of @studioonercrdng on the @CBCSask @CBCSaskatoon &amp; @CBCMusic Facebook pages and want to\\u2026\",\"user_id\":\"1110526657478213633\",\"user_timezone\":\"None\",\"user_location\":\"50.285829,-107.800598\",\"loc_lat\":50.285829,\"loc_long\":-107.800598,\"followers_count\":\"0\",\"language\":\"en\"}\n",
      "{\"created_at\":\"2019-03-26 17:22:35\",\"text\":\"Debaters tonight take to the podium, from left to right; MCP's Sidik Mia, UDF's Frank Mwenifumbo and UTM's Dr. Mich\\u2026 https://t.co/05H2SDBehh\",\"user_id\":\"449663977\",\"user_timezone\":\"None\",\"user_location\":\"-13.2687204,33.9301963\",\"loc_lat\":-13.2687204,\"loc_long\":33.9301963,\"followers_count\":\"56082\",\"language\":\"en\"}\n",
      "{\"created_at\":\"2019-03-26 17:22:35\",\"text\":\"RT @yvonnethebird12: My dad has been really depressed ever since our family dog passed away and today I surprised him with a new puppy \\ud83d\\ude0a\\ud83d\\ude2d h\\u2026\",\"user_id\":\"195642232\",\"user_timezone\":\"None\",\"user_location\":\"27.7567667,-81.4639835\",\"loc_lat\":27.7567667,\"loc_long\":-81.4639835,\"followers_count\":\"230\",\"language\":\"en\"}\n"
     ]
    },
    {
     "name": "stdout",
     "output_type": "stream",
     "text": [
      "{\"created_at\":\"2019-03-26 17:22:35\",\"text\":\"RT @Mark__Porter: As a High School football player, if I could do something all over again.\\n\\nI would ask the track coach to \\\"let\\\" me on the\\u2026\",\"user_id\":\"2351990517\",\"user_timezone\":\"None\",\"user_location\":\"40.0757384,-74.4041622\",\"loc_lat\":40.0757384,\"loc_long\":-74.4041622,\"followers_count\":\"1791\",\"language\":\"en\"}\n",
      "{\"created_at\":\"2019-03-26 17:22:35\",\"text\":\"RT @toothicktexas: I\\u2019m kind of sad that I\\u2019m turning 22 this year. I\\u2019m still in college, living wit my momma &amp; daddy. Got a boo boo job and\\u2026\",\"user_id\":\"521050576\",\"user_timezone\":\"None\",\"user_location\":\"34.0536834,-118.2427669\",\"loc_lat\":34.0536834,\"loc_long\":-118.2427669,\"followers_count\":\"1244\",\"language\":\"en\"}\n",
      "{\"created_at\":\"2019-03-26 17:22:35\",\"text\":\"RT @istockhistory: Check out Geraniums and cats by Pierre-Auguste Renoir Giclee Print Repro on Canvas https://t.co/lkEkIB4REg #art #fineart\\u2026\",\"user_id\":\"960756196457070592\",\"user_timezone\":\"None\",\"user_location\":\"32.7174209,-117.1627714\",\"loc_lat\":32.7174209,\"loc_long\":-117.1627714,\"followers_count\":\"41238\",\"language\":\"en\"}\n",
      "{\"created_at\":\"2019-03-26 17:22:35\",\"text\":\"\\ud83d\\udc85\\ud83c\\udffdAriah LOVES fashion, nail polish, and getting her hair done, all at the age of 3. When I was sick with pneumonia\\u2026 https://t.co/CF0UkaD4Vj\",\"user_id\":\"2490487997\",\"user_timezone\":\"None\",\"user_location\":\"34.0536834,-118.2427669\",\"loc_lat\":34.0536834,\"loc_long\":-118.2427669,\"followers_count\":\"1893\",\"language\":\"en\"}\n",
      "{\"created_at\":\"2019-03-26 17:22:35\",\"text\":\"RT @papers_we_love: `mov` is Turing-complete - Stephen Dolan https://t.co/QBBycV4Zcf\\n\\nIt is well-known that the #x86 instruction set is ove\\u2026\",\"user_id\":\"66358123\",\"user_timezone\":\"None\",\"user_location\":\"12.9791198,77.5912997\",\"loc_lat\":12.9791198,\"loc_long\":77.5912997,\"followers_count\":\"79\",\"language\":\"en\"}\n",
      "{\"created_at\":\"2019-03-26 17:22:35\",\"text\":\"@itbejonathan LMFAOO I CANT GROW HAIR??? Then what is this??? Ik I don\\u2019t have to prove shit bc just bc I made the d\\u2026 https://t.co/FKAeN9Es4B\",\"user_id\":\"887135798415380480\",\"user_timezone\":\"None\",\"user_location\":\"36.7014631,-118.7559974\",\"loc_lat\":36.7014631,\"loc_long\":-118.7559974,\"followers_count\":\"473\",\"language\":\"en\"}\n",
      "{\"created_at\":\"2019-03-26 17:22:35\",\"text\":\"RT @uk_domain_names: So basically the UK is putting Ireland into an impossible rock-and-a-hard-place position.\\n\\nHere's the official guidanc\\u2026\",\"user_id\":\"104329090\",\"user_timezone\":\"None\",\"user_location\":\"-24.6423816,25.9131082\",\"loc_lat\":-24.6423816,\"loc_long\":25.9131082,\"followers_count\":\"352\",\"language\":\"en\"}\n",
      "{\"created_at\":\"2019-03-26 17:22:35\",\"text\":\"RT @taroncochrane: Watch my chat with Jason Plumb of @studioonercrdng on the @CBCSask @CBCSaskatoon &amp; @CBCMusic Facebook pages and want to\\u2026\",\"user_id\":\"1110526657478213633\",\"user_timezone\":\"None\",\"user_location\":\"50.285829,-107.800598\",\"loc_lat\":50.285829,\"loc_long\":-107.800598,\"followers_count\":\"0\",\"language\":\"en\"}\n",
      "{\"created_at\":\"2019-03-26 17:22:35\",\"text\":\"Debaters tonight take to the podium, from left to right; MCP's Sidik Mia, UDF's Frank Mwenifumbo and UTM's Dr. Mich\\u2026 https://t.co/05H2SDBehh\",\"user_id\":\"449663977\",\"user_timezone\":\"None\",\"user_location\":\"-13.2687204,33.9301963\",\"loc_lat\":-13.2687204,\"loc_long\":33.9301963,\"followers_count\":\"56082\",\"language\":\"en\"}\n",
      "{\"created_at\":\"2019-03-26 17:22:35\",\"text\":\"RT @yvonnethebird12: My dad has been really depressed ever since our family dog passed away and today I surprised him with a new puppy \\ud83d\\ude0a\\ud83d\\ude2d h\\u2026\",\"user_id\":\"195642232\",\"user_timezone\":\"None\",\"user_location\":\"27.7567667,-81.4639835\",\"loc_lat\":27.7567667,\"loc_long\":-81.4639835,\"followers_count\":\"230\",\"language\":\"en\"}\n",
      "{\"created_at\":\"2019-03-26 17:22:35\",\"text\":\"RT @Mark__Porter: As a High School football player, if I could do something all over again.\\n\\nI would ask the track coach to \\\"let\\\" me on the\\u2026\",\"user_id\":\"2351990517\",\"user_timezone\":\"None\",\"user_location\":\"40.0757384,-74.4041622\",\"loc_lat\":40.0757384,\"loc_long\":-74.4041622,\"followers_count\":\"1791\",\"language\":\"en\"}\n",
      "{\"created_at\":\"2019-03-26 17:22:35\",\"text\":\"RT @toothicktexas: I\\u2019m kind of sad that I\\u2019m turning 22 this year. I\\u2019m still in college, living wit my momma &amp; daddy. Got a boo boo job and\\u2026\",\"user_id\":\"521050576\",\"user_timezone\":\"None\",\"user_location\":\"34.0536834,-118.2427669\",\"loc_lat\":34.0536834,\"loc_long\":-118.2427669,\"followers_count\":\"1244\",\"language\":\"en\"}\n",
      "{\"created_at\":\"2019-03-26 17:22:35\",\"text\":\"RT @istockhistory: Check out Geraniums and cats by Pierre-Auguste Renoir Giclee Print Repro on Canvas https://t.co/lkEkIB4REg #art #fineart\\u2026\",\"user_id\":\"960756196457070592\",\"user_timezone\":\"None\",\"user_location\":\"32.7174209,-117.1627714\",\"loc_lat\":32.7174209,\"loc_long\":-117.1627714,\"followers_count\":\"41238\",\"language\":\"en\"}\n",
      "{\"created_at\":\"2019-03-26 17:22:35\",\"text\":\"\\ud83d\\udc85\\ud83c\\udffdAriah LOVES fashion, nail polish, and getting her hair done, all at the age of 3. When I was sick with pneumonia\\u2026 https://t.co/CF0UkaD4Vj\",\"user_id\":\"2490487997\",\"user_timezone\":\"None\",\"user_location\":\"34.0536834,-118.2427669\",\"loc_lat\":34.0536834,\"loc_long\":-118.2427669,\"followers_count\":\"1893\",\"language\":\"en\"}\n",
      "{\"created_at\":\"2019-03-26 17:23:05\",\"text\":\"RT @_NewSlang: New episode of the podcast is out. It\\u2019s w/ @ColterWall. Listen and subscribe here. \\n\\n\\ud83d\\udcf8:@TimCastleman \\nhttps://t.co/NM9zhMA1M\\u2026\",\"user_id\":\"1110526657478213633\",\"user_timezone\":\"None\",\"user_location\":\"50.285829,-107.800598\",\"loc_lat\":50.285829,\"loc_long\":-107.800598,\"followers_count\":\"0\",\"language\":\"en\"}\n",
      "{\"created_at\":\"2019-03-26 17:23:05\",\"text\":\"RT @drathax: @ryanjespersen , are you going to have any open line on the UCP education platform today?  I've seen @LukaszukAB and @kdlang c\\u2026\",\"user_id\":\"810689153260224513\",\"user_timezone\":\"None\",\"user_location\":\"53.622532,-113.126440120549\",\"loc_lat\":53.622532,\"loc_long\":-113.126440120549,\"followers_count\":\"110\",\"language\":\"en\"}\n",
      "{\"created_at\":\"2019-03-26 17:23:05\",\"text\":\"How many players do you remember watching? And what is the best line from this? https://t.co/weFExd3NA2\",\"user_id\":\"2288826498\",\"user_timezone\":\"None\",\"user_location\":\"45.5202471,-122.6741949\",\"loc_lat\":45.5202471,\"loc_long\":-122.6741949,\"followers_count\":\"1497\",\"language\":\"en\"}\n",
      "{\"created_at\":\"2019-03-26 17:23:05\",\"text\":\"Win a copy of Sunwise and a corn dolly made with my own fair (ahem) hands... https://t.co/DOjQzraEYy\",\"user_id\":\"3290818128\",\"user_timezone\":\"None\",\"user_location\":\"52.7954791,-0.540240286617432\",\"loc_lat\":52.7954791,\"loc_long\":-0.540240286617432,\"followers_count\":\"654\",\"language\":\"en\"}\n",
      "{\"created_at\":\"2019-03-26 17:23:05\",\"text\":\"@MoBrexit_ It's happening to you and me. Not The 1% they'll be fine. Money abroad.\",\"user_id\":\"153724077\",\"user_timezone\":\"None\",\"user_location\":\"54.7023545,-3.2765753\",\"loc_lat\":54.7023545,\"loc_long\":-3.2765753,\"followers_count\":\"1639\",\"language\":\"en\"}\n",
      "{\"created_at\":\"2019-03-26 17:23:05\",\"text\":\"RT @khhlov: me and my friends meeting in jail for posting memes #Article13 https://t.co/AHMpATjDcJ\",\"user_id\":\"4927699103\",\"user_timezone\":\"None\",\"user_location\":\"26.3044273,50.1694132\",\"loc_lat\":26.3044273,\"loc_long\":50.1694132,\"followers_count\":\"52\",\"language\":\"en\"}\n",
      "{\"created_at\":\"2019-03-26 17:23:05\",\"text\":\"RT @ADUK2019: @HarryTheOwl @Humberbeat https://t.co/X4328r5acA Just read this for some inspiration on how to deal with enemies of reason th\\u2026\",\"user_id\":\"316548183\",\"user_timezone\":\"None\",\"user_location\":\"53.9137776,-6.72329060703846\",\"loc_lat\":53.9137776,\"loc_long\":-6.72329060703846,\"followers_count\":\"1302\",\"language\":\"en\"}\n",
      "{\"created_at\":\"2019-03-26 17:23:05\",\"text\":\"RT @_NewSlang: New episode of the podcast is out. It\\u2019s w/ @ColterWall. Listen and subscribe here. \\n\\n\\ud83d\\udcf8:@TimCastleman \\nhttps://t.co/NM9zhMA1M\\u2026\",\"user_id\":\"1110526657478213633\",\"user_timezone\":\"None\",\"user_location\":\"50.285829,-107.800598\",\"loc_lat\":50.285829,\"loc_long\":-107.800598,\"followers_count\":\"0\",\"language\":\"en\"}\n",
      "{\"created_at\":\"2019-03-26 17:23:05\",\"text\":\"RT @drathax: @ryanjespersen , are you going to have any open line on the UCP education platform today?  I've seen @LukaszukAB and @kdlang c\\u2026\",\"user_id\":\"810689153260224513\",\"user_timezone\":\"None\",\"user_location\":\"53.622532,-113.126440120549\",\"loc_lat\":53.622532,\"loc_long\":-113.126440120549,\"followers_count\":\"110\",\"language\":\"en\"}\n"
     ]
    },
    {
     "name": "stdout",
     "output_type": "stream",
     "text": [
      "{\"created_at\":\"2019-03-26 17:23:05\",\"text\":\"How many players do you remember watching? And what is the best line from this? https://t.co/weFExd3NA2\",\"user_id\":\"2288826498\",\"user_timezone\":\"None\",\"user_location\":\"45.5202471,-122.6741949\",\"loc_lat\":45.5202471,\"loc_long\":-122.6741949,\"followers_count\":\"1497\",\"language\":\"en\"}\n",
      "{\"created_at\":\"2019-03-26 17:23:05\",\"text\":\"Win a copy of Sunwise and a corn dolly made with my own fair (ahem) hands... https://t.co/DOjQzraEYy\",\"user_id\":\"3290818128\",\"user_timezone\":\"None\",\"user_location\":\"52.7954791,-0.540240286617432\",\"loc_lat\":52.7954791,\"loc_long\":-0.540240286617432,\"followers_count\":\"654\",\"language\":\"en\"}\n",
      "{\"created_at\":\"2019-03-26 17:23:05\",\"text\":\"@MoBrexit_ It's happening to you and me. Not The 1% they'll be fine. Money abroad.\",\"user_id\":\"153724077\",\"user_timezone\":\"None\",\"user_location\":\"54.7023545,-3.2765753\",\"loc_lat\":54.7023545,\"loc_long\":-3.2765753,\"followers_count\":\"1639\",\"language\":\"en\"}\n",
      "{\"created_at\":\"2019-03-26 17:23:05\",\"text\":\"RT @khhlov: me and my friends meeting in jail for posting memes #Article13 https://t.co/AHMpATjDcJ\",\"user_id\":\"4927699103\",\"user_timezone\":\"None\",\"user_location\":\"26.3044273,50.1694132\",\"loc_lat\":26.3044273,\"loc_long\":50.1694132,\"followers_count\":\"52\",\"language\":\"en\"}\n"
     ]
    },
    {
     "ename": "KeyboardInterrupt",
     "evalue": "",
     "output_type": "error",
     "traceback": [
      "\u001b[0;31m---------------------------------------------------------------------------\u001b[0m",
      "\u001b[0;31mKeyboardInterrupt\u001b[0m                         Traceback (most recent call last)",
      "\u001b[0;32m<ipython-input-11-809bd0f7972b>\u001b[0m in \u001b[0;36m<module>\u001b[0;34m()\u001b[0m\n\u001b[0;32m----> 1\u001b[0;31m \u001b[0mperiodic_work\u001b[0m\u001b[0;34m(\u001b[0m\u001b[0;36m60\u001b[0m \u001b[0;34m*\u001b[0m \u001b[0;36m0.1\u001b[0m\u001b[0;34m)\u001b[0m  \u001b[0;31m# get data every couple of minutes\u001b[0m\u001b[0;34m\u001b[0m\u001b[0m\n\u001b[0m",
      "\u001b[0;32m<ipython-input-10-5443c491c3b7>\u001b[0m in \u001b[0;36mperiodic_work\u001b[0;34m(interval)\u001b[0m\n\u001b[1;32m      1\u001b[0m \u001b[0;32mdef\u001b[0m \u001b[0mperiodic_work\u001b[0m\u001b[0;34m(\u001b[0m\u001b[0minterval\u001b[0m\u001b[0;34m)\u001b[0m\u001b[0;34m:\u001b[0m\u001b[0;34m\u001b[0m\u001b[0m\n\u001b[1;32m      2\u001b[0m     \u001b[0;32mwhile\u001b[0m \u001b[0;32mTrue\u001b[0m\u001b[0;34m:\u001b[0m\u001b[0;34m\u001b[0m\u001b[0m\n\u001b[0;32m----> 3\u001b[0;31m         \u001b[0mget_twitter_data\u001b[0m\u001b[0;34m(\u001b[0m\u001b[0;34m)\u001b[0m\u001b[0;34m\u001b[0m\u001b[0m\n\u001b[0m\u001b[1;32m      4\u001b[0m         \u001b[0;31m#interval should be an integer, the number of seconds to wait\u001b[0m\u001b[0;34m\u001b[0m\u001b[0;34m\u001b[0m\u001b[0m\n\u001b[1;32m      5\u001b[0m         \u001b[0mtime\u001b[0m\u001b[0;34m.\u001b[0m\u001b[0msleep\u001b[0m\u001b[0;34m(\u001b[0m\u001b[0minterval\u001b[0m\u001b[0;34m)\u001b[0m\u001b[0;34m\u001b[0m\u001b[0m\n",
      "\u001b[0;32m<ipython-input-8-f6901f47e1f6>\u001b[0m in \u001b[0;36mget_twitter_data\u001b[0;34m()\u001b[0m\n\u001b[1;32m      4\u001b[0m     \u001b[0mj\u001b[0m\u001b[0;34m=\u001b[0m\u001b[0;36m0\u001b[0m\u001b[0;34m\u001b[0m\u001b[0m\n\u001b[1;32m      5\u001b[0m     \u001b[0;32mfor\u001b[0m \u001b[0mi\u001b[0m \u001b[0;32min\u001b[0m \u001b[0mres\u001b[0m\u001b[0;34m:\u001b[0m\u001b[0;34m\u001b[0m\u001b[0m\n\u001b[0;32m----> 6\u001b[0;31m         \u001b[0mlocation\u001b[0m \u001b[0;34m=\u001b[0m \u001b[0mgeolocator\u001b[0m\u001b[0;34m.\u001b[0m\u001b[0mgeocode\u001b[0m\u001b[0;34m(\u001b[0m\u001b[0mstr\u001b[0m\u001b[0;34m(\u001b[0m\u001b[0mi\u001b[0m\u001b[0;34m.\u001b[0m\u001b[0muser\u001b[0m\u001b[0;34m.\u001b[0m\u001b[0mlocation\u001b[0m\u001b[0;34m)\u001b[0m\u001b[0;34m)\u001b[0m\u001b[0;34m\u001b[0m\u001b[0m\n\u001b[0m\u001b[1;32m      7\u001b[0m         \u001b[0;32mif\u001b[0m \u001b[0mi\u001b[0m\u001b[0;34m.\u001b[0m\u001b[0muser\u001b[0m\u001b[0;34m.\u001b[0m\u001b[0mlocation\u001b[0m \u001b[0;34m!=\u001b[0m \u001b[0;34m\"\"\u001b[0m \u001b[0;32mand\u001b[0m \u001b[0mlocation\u001b[0m \u001b[0;34m!=\u001b[0m \u001b[0;32mNone\u001b[0m\u001b[0;34m:\u001b[0m\u001b[0;34m\u001b[0m\u001b[0m\n\u001b[1;32m      8\u001b[0m             \u001b[0mrecord\u001b[0m \u001b[0;34m=\u001b[0m \u001b[0;34m'{'\u001b[0m\u001b[0;34m\u001b[0m\u001b[0m\n",
      "\u001b[0;32m~/anaconda3/lib/python3.6/site-packages/geopy/geocoders/osm.py\u001b[0m in \u001b[0;36mgeocode\u001b[0;34m(self, query, exactly_one, timeout, limit, addressdetails, language, geometry, extratags)\u001b[0m\n\u001b[1;32m    307\u001b[0m \u001b[0;34m\u001b[0m\u001b[0m\n\u001b[1;32m    308\u001b[0m         return self._parse_json(\n\u001b[0;32m--> 309\u001b[0;31m             \u001b[0mself\u001b[0m\u001b[0;34m.\u001b[0m\u001b[0m_call_geocoder\u001b[0m\u001b[0;34m(\u001b[0m\u001b[0murl\u001b[0m\u001b[0;34m,\u001b[0m \u001b[0mtimeout\u001b[0m\u001b[0;34m=\u001b[0m\u001b[0mtimeout\u001b[0m\u001b[0;34m)\u001b[0m\u001b[0;34m,\u001b[0m \u001b[0mexactly_one\u001b[0m\u001b[0;34m\u001b[0m\u001b[0m\n\u001b[0m\u001b[1;32m    310\u001b[0m         )\n\u001b[1;32m    311\u001b[0m \u001b[0;34m\u001b[0m\u001b[0m\n",
      "\u001b[0;32m~/anaconda3/lib/python3.6/site-packages/geopy/geocoders/base.py\u001b[0m in \u001b[0;36m_call_geocoder\u001b[0;34m(self, url, timeout, raw, requester, deserializer, **kwargs)\u001b[0m\n\u001b[1;32m    342\u001b[0m \u001b[0;34m\u001b[0m\u001b[0m\n\u001b[1;32m    343\u001b[0m         \u001b[0;32mtry\u001b[0m\u001b[0;34m:\u001b[0m\u001b[0;34m\u001b[0m\u001b[0m\n\u001b[0;32m--> 344\u001b[0;31m             \u001b[0mpage\u001b[0m \u001b[0;34m=\u001b[0m \u001b[0mrequester\u001b[0m\u001b[0;34m(\u001b[0m\u001b[0mreq\u001b[0m\u001b[0;34m,\u001b[0m \u001b[0mtimeout\u001b[0m\u001b[0;34m=\u001b[0m\u001b[0mtimeout\u001b[0m\u001b[0;34m,\u001b[0m \u001b[0;34m**\u001b[0m\u001b[0mkwargs\u001b[0m\u001b[0;34m)\u001b[0m\u001b[0;34m\u001b[0m\u001b[0m\n\u001b[0m\u001b[1;32m    345\u001b[0m         \u001b[0;32mexcept\u001b[0m \u001b[0mException\u001b[0m \u001b[0;32mas\u001b[0m \u001b[0merror\u001b[0m\u001b[0;34m:\u001b[0m\u001b[0;34m\u001b[0m\u001b[0m\n\u001b[1;32m    346\u001b[0m             message = (\n",
      "\u001b[0;32m~/anaconda3/lib/python3.6/urllib/request.py\u001b[0m in \u001b[0;36mopen\u001b[0;34m(self, fullurl, data, timeout)\u001b[0m\n\u001b[1;32m    524\u001b[0m             \u001b[0mreq\u001b[0m \u001b[0;34m=\u001b[0m \u001b[0mmeth\u001b[0m\u001b[0;34m(\u001b[0m\u001b[0mreq\u001b[0m\u001b[0;34m)\u001b[0m\u001b[0;34m\u001b[0m\u001b[0m\n\u001b[1;32m    525\u001b[0m \u001b[0;34m\u001b[0m\u001b[0m\n\u001b[0;32m--> 526\u001b[0;31m         \u001b[0mresponse\u001b[0m \u001b[0;34m=\u001b[0m \u001b[0mself\u001b[0m\u001b[0;34m.\u001b[0m\u001b[0m_open\u001b[0m\u001b[0;34m(\u001b[0m\u001b[0mreq\u001b[0m\u001b[0;34m,\u001b[0m \u001b[0mdata\u001b[0m\u001b[0;34m)\u001b[0m\u001b[0;34m\u001b[0m\u001b[0m\n\u001b[0m\u001b[1;32m    527\u001b[0m \u001b[0;34m\u001b[0m\u001b[0m\n\u001b[1;32m    528\u001b[0m         \u001b[0;31m# post-process response\u001b[0m\u001b[0;34m\u001b[0m\u001b[0;34m\u001b[0m\u001b[0m\n",
      "\u001b[0;32m~/anaconda3/lib/python3.6/urllib/request.py\u001b[0m in \u001b[0;36m_open\u001b[0;34m(self, req, data)\u001b[0m\n\u001b[1;32m    542\u001b[0m         \u001b[0mprotocol\u001b[0m \u001b[0;34m=\u001b[0m \u001b[0mreq\u001b[0m\u001b[0;34m.\u001b[0m\u001b[0mtype\u001b[0m\u001b[0;34m\u001b[0m\u001b[0m\n\u001b[1;32m    543\u001b[0m         result = self._call_chain(self.handle_open, protocol, protocol +\n\u001b[0;32m--> 544\u001b[0;31m                                   '_open', req)\n\u001b[0m\u001b[1;32m    545\u001b[0m         \u001b[0;32mif\u001b[0m \u001b[0mresult\u001b[0m\u001b[0;34m:\u001b[0m\u001b[0;34m\u001b[0m\u001b[0m\n\u001b[1;32m    546\u001b[0m             \u001b[0;32mreturn\u001b[0m \u001b[0mresult\u001b[0m\u001b[0;34m\u001b[0m\u001b[0m\n",
      "\u001b[0;32m~/anaconda3/lib/python3.6/urllib/request.py\u001b[0m in \u001b[0;36m_call_chain\u001b[0;34m(self, chain, kind, meth_name, *args)\u001b[0m\n\u001b[1;32m    502\u001b[0m         \u001b[0;32mfor\u001b[0m \u001b[0mhandler\u001b[0m \u001b[0;32min\u001b[0m \u001b[0mhandlers\u001b[0m\u001b[0;34m:\u001b[0m\u001b[0;34m\u001b[0m\u001b[0m\n\u001b[1;32m    503\u001b[0m             \u001b[0mfunc\u001b[0m \u001b[0;34m=\u001b[0m \u001b[0mgetattr\u001b[0m\u001b[0;34m(\u001b[0m\u001b[0mhandler\u001b[0m\u001b[0;34m,\u001b[0m \u001b[0mmeth_name\u001b[0m\u001b[0;34m)\u001b[0m\u001b[0;34m\u001b[0m\u001b[0m\n\u001b[0;32m--> 504\u001b[0;31m             \u001b[0mresult\u001b[0m \u001b[0;34m=\u001b[0m \u001b[0mfunc\u001b[0m\u001b[0;34m(\u001b[0m\u001b[0;34m*\u001b[0m\u001b[0margs\u001b[0m\u001b[0;34m)\u001b[0m\u001b[0;34m\u001b[0m\u001b[0m\n\u001b[0m\u001b[1;32m    505\u001b[0m             \u001b[0;32mif\u001b[0m \u001b[0mresult\u001b[0m \u001b[0;32mis\u001b[0m \u001b[0;32mnot\u001b[0m \u001b[0;32mNone\u001b[0m\u001b[0;34m:\u001b[0m\u001b[0;34m\u001b[0m\u001b[0m\n\u001b[1;32m    506\u001b[0m                 \u001b[0;32mreturn\u001b[0m \u001b[0mresult\u001b[0m\u001b[0;34m\u001b[0m\u001b[0m\n",
      "\u001b[0;32m~/anaconda3/lib/python3.6/urllib/request.py\u001b[0m in \u001b[0;36mhttps_open\u001b[0;34m(self, req)\u001b[0m\n\u001b[1;32m   1359\u001b[0m         \u001b[0;32mdef\u001b[0m \u001b[0mhttps_open\u001b[0m\u001b[0;34m(\u001b[0m\u001b[0mself\u001b[0m\u001b[0;34m,\u001b[0m \u001b[0mreq\u001b[0m\u001b[0;34m)\u001b[0m\u001b[0;34m:\u001b[0m\u001b[0;34m\u001b[0m\u001b[0m\n\u001b[1;32m   1360\u001b[0m             return self.do_open(http.client.HTTPSConnection, req,\n\u001b[0;32m-> 1361\u001b[0;31m                 context=self._context, check_hostname=self._check_hostname)\n\u001b[0m\u001b[1;32m   1362\u001b[0m \u001b[0;34m\u001b[0m\u001b[0m\n\u001b[1;32m   1363\u001b[0m         \u001b[0mhttps_request\u001b[0m \u001b[0;34m=\u001b[0m \u001b[0mAbstractHTTPHandler\u001b[0m\u001b[0;34m.\u001b[0m\u001b[0mdo_request_\u001b[0m\u001b[0;34m\u001b[0m\u001b[0m\n",
      "\u001b[0;32m~/anaconda3/lib/python3.6/urllib/request.py\u001b[0m in \u001b[0;36mdo_open\u001b[0;34m(self, http_class, req, **http_conn_args)\u001b[0m\n\u001b[1;32m   1316\u001b[0m             \u001b[0;32mtry\u001b[0m\u001b[0;34m:\u001b[0m\u001b[0;34m\u001b[0m\u001b[0m\n\u001b[1;32m   1317\u001b[0m                 h.request(req.get_method(), req.selector, req.data, headers,\n\u001b[0;32m-> 1318\u001b[0;31m                           encode_chunked=req.has_header('Transfer-encoding'))\n\u001b[0m\u001b[1;32m   1319\u001b[0m             \u001b[0;32mexcept\u001b[0m \u001b[0mOSError\u001b[0m \u001b[0;32mas\u001b[0m \u001b[0merr\u001b[0m\u001b[0;34m:\u001b[0m \u001b[0;31m# timeout error\u001b[0m\u001b[0;34m\u001b[0m\u001b[0m\n\u001b[1;32m   1320\u001b[0m                 \u001b[0;32mraise\u001b[0m \u001b[0mURLError\u001b[0m\u001b[0;34m(\u001b[0m\u001b[0merr\u001b[0m\u001b[0;34m)\u001b[0m\u001b[0;34m\u001b[0m\u001b[0m\n",
      "\u001b[0;32m~/anaconda3/lib/python3.6/http/client.py\u001b[0m in \u001b[0;36mrequest\u001b[0;34m(self, method, url, body, headers, encode_chunked)\u001b[0m\n\u001b[1;32m   1237\u001b[0m                 encode_chunked=False):\n\u001b[1;32m   1238\u001b[0m         \u001b[0;34m\"\"\"Send a complete request to the server.\"\"\"\u001b[0m\u001b[0;34m\u001b[0m\u001b[0m\n\u001b[0;32m-> 1239\u001b[0;31m         \u001b[0mself\u001b[0m\u001b[0;34m.\u001b[0m\u001b[0m_send_request\u001b[0m\u001b[0;34m(\u001b[0m\u001b[0mmethod\u001b[0m\u001b[0;34m,\u001b[0m \u001b[0murl\u001b[0m\u001b[0;34m,\u001b[0m \u001b[0mbody\u001b[0m\u001b[0;34m,\u001b[0m \u001b[0mheaders\u001b[0m\u001b[0;34m,\u001b[0m \u001b[0mencode_chunked\u001b[0m\u001b[0;34m)\u001b[0m\u001b[0;34m\u001b[0m\u001b[0m\n\u001b[0m\u001b[1;32m   1240\u001b[0m \u001b[0;34m\u001b[0m\u001b[0m\n\u001b[1;32m   1241\u001b[0m     \u001b[0;32mdef\u001b[0m \u001b[0m_send_request\u001b[0m\u001b[0;34m(\u001b[0m\u001b[0mself\u001b[0m\u001b[0;34m,\u001b[0m \u001b[0mmethod\u001b[0m\u001b[0;34m,\u001b[0m \u001b[0murl\u001b[0m\u001b[0;34m,\u001b[0m \u001b[0mbody\u001b[0m\u001b[0;34m,\u001b[0m \u001b[0mheaders\u001b[0m\u001b[0;34m,\u001b[0m \u001b[0mencode_chunked\u001b[0m\u001b[0;34m)\u001b[0m\u001b[0;34m:\u001b[0m\u001b[0;34m\u001b[0m\u001b[0m\n",
      "\u001b[0;32m~/anaconda3/lib/python3.6/http/client.py\u001b[0m in \u001b[0;36m_send_request\u001b[0;34m(self, method, url, body, headers, encode_chunked)\u001b[0m\n\u001b[1;32m   1283\u001b[0m             \u001b[0;31m# default charset of iso-8859-1.\u001b[0m\u001b[0;34m\u001b[0m\u001b[0;34m\u001b[0m\u001b[0m\n\u001b[1;32m   1284\u001b[0m             \u001b[0mbody\u001b[0m \u001b[0;34m=\u001b[0m \u001b[0m_encode\u001b[0m\u001b[0;34m(\u001b[0m\u001b[0mbody\u001b[0m\u001b[0;34m,\u001b[0m \u001b[0;34m'body'\u001b[0m\u001b[0;34m)\u001b[0m\u001b[0;34m\u001b[0m\u001b[0m\n\u001b[0;32m-> 1285\u001b[0;31m         \u001b[0mself\u001b[0m\u001b[0;34m.\u001b[0m\u001b[0mendheaders\u001b[0m\u001b[0;34m(\u001b[0m\u001b[0mbody\u001b[0m\u001b[0;34m,\u001b[0m \u001b[0mencode_chunked\u001b[0m\u001b[0;34m=\u001b[0m\u001b[0mencode_chunked\u001b[0m\u001b[0;34m)\u001b[0m\u001b[0;34m\u001b[0m\u001b[0m\n\u001b[0m\u001b[1;32m   1286\u001b[0m \u001b[0;34m\u001b[0m\u001b[0m\n\u001b[1;32m   1287\u001b[0m     \u001b[0;32mdef\u001b[0m \u001b[0mgetresponse\u001b[0m\u001b[0;34m(\u001b[0m\u001b[0mself\u001b[0m\u001b[0;34m)\u001b[0m\u001b[0;34m:\u001b[0m\u001b[0;34m\u001b[0m\u001b[0m\n",
      "\u001b[0;32m~/anaconda3/lib/python3.6/http/client.py\u001b[0m in \u001b[0;36mendheaders\u001b[0;34m(self, message_body, encode_chunked)\u001b[0m\n\u001b[1;32m   1232\u001b[0m         \u001b[0;32melse\u001b[0m\u001b[0;34m:\u001b[0m\u001b[0;34m\u001b[0m\u001b[0m\n\u001b[1;32m   1233\u001b[0m             \u001b[0;32mraise\u001b[0m \u001b[0mCannotSendHeader\u001b[0m\u001b[0;34m(\u001b[0m\u001b[0;34m)\u001b[0m\u001b[0;34m\u001b[0m\u001b[0m\n\u001b[0;32m-> 1234\u001b[0;31m         \u001b[0mself\u001b[0m\u001b[0;34m.\u001b[0m\u001b[0m_send_output\u001b[0m\u001b[0;34m(\u001b[0m\u001b[0mmessage_body\u001b[0m\u001b[0;34m,\u001b[0m \u001b[0mencode_chunked\u001b[0m\u001b[0;34m=\u001b[0m\u001b[0mencode_chunked\u001b[0m\u001b[0;34m)\u001b[0m\u001b[0;34m\u001b[0m\u001b[0m\n\u001b[0m\u001b[1;32m   1235\u001b[0m \u001b[0;34m\u001b[0m\u001b[0m\n\u001b[1;32m   1236\u001b[0m     def request(self, method, url, body=None, headers={}, *,\n",
      "\u001b[0;32m~/anaconda3/lib/python3.6/http/client.py\u001b[0m in \u001b[0;36m_send_output\u001b[0;34m(self, message_body, encode_chunked)\u001b[0m\n\u001b[1;32m   1024\u001b[0m         \u001b[0mmsg\u001b[0m \u001b[0;34m=\u001b[0m \u001b[0;34mb\"\\r\\n\"\u001b[0m\u001b[0;34m.\u001b[0m\u001b[0mjoin\u001b[0m\u001b[0;34m(\u001b[0m\u001b[0mself\u001b[0m\u001b[0;34m.\u001b[0m\u001b[0m_buffer\u001b[0m\u001b[0;34m)\u001b[0m\u001b[0;34m\u001b[0m\u001b[0m\n\u001b[1;32m   1025\u001b[0m         \u001b[0;32mdel\u001b[0m \u001b[0mself\u001b[0m\u001b[0;34m.\u001b[0m\u001b[0m_buffer\u001b[0m\u001b[0;34m[\u001b[0m\u001b[0;34m:\u001b[0m\u001b[0;34m]\u001b[0m\u001b[0;34m\u001b[0m\u001b[0m\n\u001b[0;32m-> 1026\u001b[0;31m         \u001b[0mself\u001b[0m\u001b[0;34m.\u001b[0m\u001b[0msend\u001b[0m\u001b[0;34m(\u001b[0m\u001b[0mmsg\u001b[0m\u001b[0;34m)\u001b[0m\u001b[0;34m\u001b[0m\u001b[0m\n\u001b[0m\u001b[1;32m   1027\u001b[0m \u001b[0;34m\u001b[0m\u001b[0m\n\u001b[1;32m   1028\u001b[0m         \u001b[0;32mif\u001b[0m \u001b[0mmessage_body\u001b[0m \u001b[0;32mis\u001b[0m \u001b[0;32mnot\u001b[0m \u001b[0;32mNone\u001b[0m\u001b[0;34m:\u001b[0m\u001b[0;34m\u001b[0m\u001b[0m\n",
      "\u001b[0;32m~/anaconda3/lib/python3.6/http/client.py\u001b[0m in \u001b[0;36msend\u001b[0;34m(self, data)\u001b[0m\n\u001b[1;32m    962\u001b[0m         \u001b[0;32mif\u001b[0m \u001b[0mself\u001b[0m\u001b[0;34m.\u001b[0m\u001b[0msock\u001b[0m \u001b[0;32mis\u001b[0m \u001b[0;32mNone\u001b[0m\u001b[0;34m:\u001b[0m\u001b[0;34m\u001b[0m\u001b[0m\n\u001b[1;32m    963\u001b[0m             \u001b[0;32mif\u001b[0m \u001b[0mself\u001b[0m\u001b[0;34m.\u001b[0m\u001b[0mauto_open\u001b[0m\u001b[0;34m:\u001b[0m\u001b[0;34m\u001b[0m\u001b[0m\n\u001b[0;32m--> 964\u001b[0;31m                 \u001b[0mself\u001b[0m\u001b[0;34m.\u001b[0m\u001b[0mconnect\u001b[0m\u001b[0;34m(\u001b[0m\u001b[0;34m)\u001b[0m\u001b[0;34m\u001b[0m\u001b[0m\n\u001b[0m\u001b[1;32m    965\u001b[0m             \u001b[0;32melse\u001b[0m\u001b[0;34m:\u001b[0m\u001b[0;34m\u001b[0m\u001b[0m\n\u001b[1;32m    966\u001b[0m                 \u001b[0;32mraise\u001b[0m \u001b[0mNotConnected\u001b[0m\u001b[0;34m(\u001b[0m\u001b[0;34m)\u001b[0m\u001b[0;34m\u001b[0m\u001b[0m\n",
      "\u001b[0;32m~/anaconda3/lib/python3.6/http/client.py\u001b[0m in \u001b[0;36mconnect\u001b[0;34m(self)\u001b[0m\n\u001b[1;32m   1398\u001b[0m \u001b[0;34m\u001b[0m\u001b[0m\n\u001b[1;32m   1399\u001b[0m             self.sock = self._context.wrap_socket(self.sock,\n\u001b[0;32m-> 1400\u001b[0;31m                                                   server_hostname=server_hostname)\n\u001b[0m\u001b[1;32m   1401\u001b[0m             \u001b[0;32mif\u001b[0m \u001b[0;32mnot\u001b[0m \u001b[0mself\u001b[0m\u001b[0;34m.\u001b[0m\u001b[0m_context\u001b[0m\u001b[0;34m.\u001b[0m\u001b[0mcheck_hostname\u001b[0m \u001b[0;32mand\u001b[0m \u001b[0mself\u001b[0m\u001b[0;34m.\u001b[0m\u001b[0m_check_hostname\u001b[0m\u001b[0;34m:\u001b[0m\u001b[0;34m\u001b[0m\u001b[0m\n\u001b[1;32m   1402\u001b[0m                 \u001b[0;32mtry\u001b[0m\u001b[0;34m:\u001b[0m\u001b[0;34m\u001b[0m\u001b[0m\n",
      "\u001b[0;32m~/anaconda3/lib/python3.6/ssl.py\u001b[0m in \u001b[0;36mwrap_socket\u001b[0;34m(self, sock, server_side, do_handshake_on_connect, suppress_ragged_eofs, server_hostname, session)\u001b[0m\n\u001b[1;32m    405\u001b[0m                          \u001b[0msuppress_ragged_eofs\u001b[0m\u001b[0;34m=\u001b[0m\u001b[0msuppress_ragged_eofs\u001b[0m\u001b[0;34m,\u001b[0m\u001b[0;34m\u001b[0m\u001b[0m\n\u001b[1;32m    406\u001b[0m                          \u001b[0mserver_hostname\u001b[0m\u001b[0;34m=\u001b[0m\u001b[0mserver_hostname\u001b[0m\u001b[0;34m,\u001b[0m\u001b[0;34m\u001b[0m\u001b[0m\n\u001b[0;32m--> 407\u001b[0;31m                          _context=self, _session=session)\n\u001b[0m\u001b[1;32m    408\u001b[0m \u001b[0;34m\u001b[0m\u001b[0m\n\u001b[1;32m    409\u001b[0m     def wrap_bio(self, incoming, outgoing, server_side=False,\n",
      "\u001b[0;32m~/anaconda3/lib/python3.6/ssl.py\u001b[0m in \u001b[0;36m__init__\u001b[0;34m(self, sock, keyfile, certfile, server_side, cert_reqs, ssl_version, ca_certs, do_handshake_on_connect, family, type, proto, fileno, suppress_ragged_eofs, npn_protocols, ciphers, server_hostname, _context, _session)\u001b[0m\n\u001b[1;32m    812\u001b[0m                         \u001b[0;31m# non-blocking\u001b[0m\u001b[0;34m\u001b[0m\u001b[0;34m\u001b[0m\u001b[0m\n\u001b[1;32m    813\u001b[0m                         \u001b[0;32mraise\u001b[0m \u001b[0mValueError\u001b[0m\u001b[0;34m(\u001b[0m\u001b[0;34m\"do_handshake_on_connect should not be specified for non-blocking sockets\"\u001b[0m\u001b[0;34m)\u001b[0m\u001b[0;34m\u001b[0m\u001b[0m\n\u001b[0;32m--> 814\u001b[0;31m                     \u001b[0mself\u001b[0m\u001b[0;34m.\u001b[0m\u001b[0mdo_handshake\u001b[0m\u001b[0;34m(\u001b[0m\u001b[0;34m)\u001b[0m\u001b[0;34m\u001b[0m\u001b[0m\n\u001b[0m\u001b[1;32m    815\u001b[0m \u001b[0;34m\u001b[0m\u001b[0m\n\u001b[1;32m    816\u001b[0m             \u001b[0;32mexcept\u001b[0m \u001b[0;34m(\u001b[0m\u001b[0mOSError\u001b[0m\u001b[0;34m,\u001b[0m \u001b[0mValueError\u001b[0m\u001b[0;34m)\u001b[0m\u001b[0;34m:\u001b[0m\u001b[0;34m\u001b[0m\u001b[0m\n",
      "\u001b[0;32m~/anaconda3/lib/python3.6/ssl.py\u001b[0m in \u001b[0;36mdo_handshake\u001b[0;34m(self, block)\u001b[0m\n\u001b[1;32m   1066\u001b[0m             \u001b[0;32mif\u001b[0m \u001b[0mtimeout\u001b[0m \u001b[0;34m==\u001b[0m \u001b[0;36m0.0\u001b[0m \u001b[0;32mand\u001b[0m \u001b[0mblock\u001b[0m\u001b[0;34m:\u001b[0m\u001b[0;34m\u001b[0m\u001b[0m\n\u001b[1;32m   1067\u001b[0m                 \u001b[0mself\u001b[0m\u001b[0;34m.\u001b[0m\u001b[0msettimeout\u001b[0m\u001b[0;34m(\u001b[0m\u001b[0;32mNone\u001b[0m\u001b[0;34m)\u001b[0m\u001b[0;34m\u001b[0m\u001b[0m\n\u001b[0;32m-> 1068\u001b[0;31m             \u001b[0mself\u001b[0m\u001b[0;34m.\u001b[0m\u001b[0m_sslobj\u001b[0m\u001b[0;34m.\u001b[0m\u001b[0mdo_handshake\u001b[0m\u001b[0;34m(\u001b[0m\u001b[0;34m)\u001b[0m\u001b[0;34m\u001b[0m\u001b[0m\n\u001b[0m\u001b[1;32m   1069\u001b[0m         \u001b[0;32mfinally\u001b[0m\u001b[0;34m:\u001b[0m\u001b[0;34m\u001b[0m\u001b[0m\n\u001b[1;32m   1070\u001b[0m             \u001b[0mself\u001b[0m\u001b[0;34m.\u001b[0m\u001b[0msettimeout\u001b[0m\u001b[0;34m(\u001b[0m\u001b[0mtimeout\u001b[0m\u001b[0;34m)\u001b[0m\u001b[0;34m\u001b[0m\u001b[0m\n",
      "\u001b[0;32m~/anaconda3/lib/python3.6/ssl.py\u001b[0m in \u001b[0;36mdo_handshake\u001b[0;34m(self)\u001b[0m\n\u001b[1;32m    687\u001b[0m     \u001b[0;32mdef\u001b[0m \u001b[0mdo_handshake\u001b[0m\u001b[0;34m(\u001b[0m\u001b[0mself\u001b[0m\u001b[0;34m)\u001b[0m\u001b[0;34m:\u001b[0m\u001b[0;34m\u001b[0m\u001b[0m\n\u001b[1;32m    688\u001b[0m         \u001b[0;34m\"\"\"Start the SSL/TLS handshake.\"\"\"\u001b[0m\u001b[0;34m\u001b[0m\u001b[0m\n\u001b[0;32m--> 689\u001b[0;31m         \u001b[0mself\u001b[0m\u001b[0;34m.\u001b[0m\u001b[0m_sslobj\u001b[0m\u001b[0;34m.\u001b[0m\u001b[0mdo_handshake\u001b[0m\u001b[0;34m(\u001b[0m\u001b[0;34m)\u001b[0m\u001b[0;34m\u001b[0m\u001b[0m\n\u001b[0m\u001b[1;32m    690\u001b[0m         \u001b[0;32mif\u001b[0m \u001b[0mself\u001b[0m\u001b[0;34m.\u001b[0m\u001b[0mcontext\u001b[0m\u001b[0;34m.\u001b[0m\u001b[0mcheck_hostname\u001b[0m\u001b[0;34m:\u001b[0m\u001b[0;34m\u001b[0m\u001b[0m\n\u001b[1;32m    691\u001b[0m             \u001b[0;32mif\u001b[0m \u001b[0;32mnot\u001b[0m \u001b[0mself\u001b[0m\u001b[0;34m.\u001b[0m\u001b[0mserver_hostname\u001b[0m\u001b[0;34m:\u001b[0m\u001b[0;34m\u001b[0m\u001b[0m\n",
      "\u001b[0;31mKeyboardInterrupt\u001b[0m: "
     ]
    }
   ],
   "source": [
    "periodic_work(60 * 0.1)  # get data every couple of minutes"
   ]
  },
  {
   "cell_type": "code",
   "execution_count": null,
   "metadata": {},
   "outputs": [],
   "source": []
  },
  {
   "cell_type": "code",
   "execution_count": null,
   "metadata": {},
   "outputs": [],
   "source": []
  }
 ],
 "metadata": {
  "kernelspec": {
   "display_name": "Python 3",
   "language": "python",
   "name": "python3"
  },
  "language_info": {
   "codemirror_mode": {
    "name": "ipython",
    "version": 3
   },
   "file_extension": ".py",
   "mimetype": "text/x-python",
   "name": "python",
   "nbconvert_exporter": "python",
   "pygments_lexer": "ipython3",
   "version": "3.6.5"
  }
 },
 "nbformat": 4,
 "nbformat_minor": 2
}

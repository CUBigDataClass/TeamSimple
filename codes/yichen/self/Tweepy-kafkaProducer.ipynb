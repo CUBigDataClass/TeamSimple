{
 "cells": [
  {
   "cell_type": "markdown",
   "metadata": {},
   "source": [
    "# Ingesting realtime tweets using Apache Kafka, Tweepy and Python\n",
    "\n",
    "### Purpose:\n",
    "- main data source for the lambda architecture pipeline\n",
    "- uses twitter streaming API to simulate new events coming in every minute\n",
    "- Kafka Producer sends the tweets as records to the Kafka Broker\n",
    "\n",
    "### Contents: \n",
    "- [Twitter setup](#1)\n",
    "- [Defining the Kafka producer](#2)\n",
    "- [Producing and sending records to the Kafka Broker](#3)\n",
    "- [Deployment](#4)"
   ]
  },
  {
   "cell_type": "markdown",
   "metadata": {},
   "source": [
    "### Required libraries"
   ]
  },
  {
   "cell_type": "code",
   "execution_count": 1,
   "metadata": {},
   "outputs": [],
   "source": [
    "import tweepy\n",
    "import time\n",
    "from kafka import KafkaConsumer, KafkaProducer"
   ]
  },
  {
   "cell_type": "markdown",
   "metadata": {},
   "source": [
    "<a id=\"1\"></a>\n",
    "### Twitter setup\n",
    "- getting the API object using authorization information\n",
    "- you can find more details on how to get the authorization here:\n",
    "https://developer.twitter.com/en/docs/basics/authentication/overview"
   ]
  },
  {
   "cell_type": "code",
   "execution_count": 2,
   "metadata": {},
   "outputs": [],
   "source": [
    "# twitter setup\n",
    "ACCESS_TOKEN = '799844067701977088-qrHMnTaYFUcqBbeG5yT3G8GTieLJt6N'\n",
    "ACCESS_SECRET = 'kRtA7MsTjvAqmft9BdtE7z2FtAouYsOY8OlAvByIy5m1l'\n",
    "CONSUMER_KEY = 'yZUmKJQxfGmpLtvVTmGTHPKiD'\n",
    "CONSUMER_SECRET = '1bwO3JIc664KkObN5LJYVpALDi63NBExoLSKsaMrJ7KPYKYiXM'\n",
    "# Setup tweepy to authenticate with Twitter credentials:\n",
    "auth = tweepy.OAuthHandler(CONSUMER_KEY, CONSUMER_SECRET)\n",
    "auth.set_access_token(ACCESS_TOKEN, ACCESS_SECRET)\n",
    "# Creating the API object by passing in auth information\n",
    "api = tweepy.API(auth) \n"
   ]
  },
  {
   "cell_type": "markdown",
   "metadata": {},
   "source": [
    "A helper function to normalize the time a tweet was created with the time of our system"
   ]
  },
  {
   "cell_type": "code",
   "execution_count": 3,
   "metadata": {},
   "outputs": [],
   "source": [
    "from datetime import datetime, timedelta\n",
    "\n",
    "def normalize_timestamp(time):\n",
    "    mytime = datetime.strptime(time, \"%Y-%m-%d %H:%M:%S\")\n",
    "    mytime += timedelta(hours=1)   # the tweets are timestamped in GMT timezone, while I am in +1 timezone\n",
    "    return (mytime.strftime(\"%Y-%m-%d %H:%M:%S\")) "
   ]
  },
  {
   "cell_type": "markdown",
   "metadata": {},
   "source": [
    "<a id=\"2\"></a>\n",
    "### Defining the Kafka producer\n",
    "- specify the Kafka Broker\n",
    "- specify the topic name\n",
    "- optional: specify partitioning strategy"
   ]
  },
  {
   "cell_type": "code",
   "execution_count": 4,
   "metadata": {},
   "outputs": [],
   "source": [
    "producer = KafkaProducer(bootstrap_servers='localhost:9092')\n",
    "topic_name = 'tweets-kafka-test'"
   ]
  },
  {
   "cell_type": "markdown",
   "metadata": {},
   "source": [
    "<a id=\"3\"></a>\n",
    "### Producing and sending records to the Kafka Broker\n",
    "- querying the Twitter API Object\n",
    "- extracting relevant information from the response\n",
    "- formatting and sending the data to proper topic on the Kafka Broker\n",
    "- resulting tweets have following attributes:\n",
    "    - id \n",
    "    - created_at\n",
    "    - followers_count\n",
    "    - location\n",
    "    - favorite_count\n",
    "    - retweet_count"
   ]
  },
  {
   "cell_type": "code",
   "execution_count": 5,
   "metadata": {},
   "outputs": [],
   "source": [
    "def get_twitter_data():\n",
    "    res = api.search(\"Apple OR iphone OR iPhone\")\n",
    "    j=0\n",
    "    for i in res:\n",
    "        record = ''\n",
    "        record += str(i.user.id_str)\n",
    "        record += ';'\n",
    "        record += str(normalize_timestamp(str(i.created_at)))\n",
    "        record += ';'\n",
    "        record += str(i.user.followers_count)\n",
    "        record += ';'\n",
    "        record += str(i.user.location)\n",
    "        record += ';'\n",
    "        record += str(i.favorite_count)\n",
    "        record += ';'\n",
    "        record += str(i.retweet_count)\n",
    "        record += ';'\n",
    "        producer.send(topic_name, str.encode(record))\n",
    "        #if j==0:\n",
    "            #print(record)\n",
    "        j+=1\n",
    "        \n",
    "    print (j)"
   ]
  },
  {
   "cell_type": "code",
   "execution_count": 6,
   "metadata": {},
   "outputs": [
    {
     "name": "stdout",
     "output_type": "stream",
     "text": [
      "10\n"
     ]
    }
   ],
   "source": [
    "get_twitter_data()"
   ]
  },
  {
   "cell_type": "markdown",
   "metadata": {},
   "source": [
    "<a id=\"4\"></a>\n",
    "### Deployment \n",
    "- perform the task every couple of minutes and wait in between"
   ]
  },
  {
   "cell_type": "code",
   "execution_count": 7,
   "metadata": {},
   "outputs": [],
   "source": [
    "def periodic_work(interval):\n",
    "    while True:\n",
    "        get_twitter_data()\n",
    "        #interval should be an integer, the number of seconds to wait\n",
    "        time.sleep(interval)\n"
   ]
  },
  {
   "cell_type": "code",
   "execution_count": 8,
   "metadata": {},
   "outputs": [
    {
     "name": "stdout",
     "output_type": "stream",
     "text": [
      "10\n",
      "10\n",
      "12\n",
      "12\n",
      "12\n",
      "14\n",
      "14\n",
      "14\n",
      "15\n",
      "15\n",
      "15\n"
     ]
    },
    {
     "ename": "KeyboardInterrupt",
     "evalue": "",
     "output_type": "error",
     "traceback": [
      "\u001b[0;31m---------------------------------------------------------------------------\u001b[0m",
      "\u001b[0;31mKeyboardInterrupt\u001b[0m                         Traceback (most recent call last)",
      "\u001b[0;32m<ipython-input-8-809bd0f7972b>\u001b[0m in \u001b[0;36m<module>\u001b[0;34m()\u001b[0m\n\u001b[0;32m----> 1\u001b[0;31m \u001b[0mperiodic_work\u001b[0m\u001b[0;34m(\u001b[0m\u001b[0;36m60\u001b[0m \u001b[0;34m*\u001b[0m \u001b[0;36m0.1\u001b[0m\u001b[0;34m)\u001b[0m  \u001b[0;31m# get data every couple of minutes\u001b[0m\u001b[0;34m\u001b[0m\u001b[0m\n\u001b[0m",
      "\u001b[0;32m<ipython-input-7-5443c491c3b7>\u001b[0m in \u001b[0;36mperiodic_work\u001b[0;34m(interval)\u001b[0m\n\u001b[1;32m      3\u001b[0m         \u001b[0mget_twitter_data\u001b[0m\u001b[0;34m(\u001b[0m\u001b[0;34m)\u001b[0m\u001b[0;34m\u001b[0m\u001b[0m\n\u001b[1;32m      4\u001b[0m         \u001b[0;31m#interval should be an integer, the number of seconds to wait\u001b[0m\u001b[0;34m\u001b[0m\u001b[0;34m\u001b[0m\u001b[0m\n\u001b[0;32m----> 5\u001b[0;31m         \u001b[0mtime\u001b[0m\u001b[0;34m.\u001b[0m\u001b[0msleep\u001b[0m\u001b[0;34m(\u001b[0m\u001b[0minterval\u001b[0m\u001b[0;34m)\u001b[0m\u001b[0;34m\u001b[0m\u001b[0m\n\u001b[0m",
      "\u001b[0;31mKeyboardInterrupt\u001b[0m: "
     ]
    }
   ],
   "source": [
    "periodic_work(60 * 0.1)  # get data every couple of minutes"
   ]
  },
  {
   "cell_type": "code",
   "execution_count": null,
   "metadata": {},
   "outputs": [],
   "source": []
  }
 ],
 "metadata": {
  "kernelspec": {
   "display_name": "Python 3",
   "language": "python",
   "name": "python3"
  },
  "language_info": {
   "codemirror_mode": {
    "name": "ipython",
    "version": 3
   },
   "file_extension": ".py",
   "mimetype": "text/x-python",
   "name": "python",
   "nbconvert_exporter": "python",
   "pygments_lexer": "ipython3",
   "version": "3.6.3"
  }
 },
 "nbformat": 4,
 "nbformat_minor": 2
}

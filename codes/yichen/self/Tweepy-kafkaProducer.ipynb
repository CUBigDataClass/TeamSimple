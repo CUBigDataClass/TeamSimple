{
 "cells": [
  {
   "cell_type": "markdown",
   "metadata": {},
   "source": [
    "# Ingesting realtime tweets using Apache Kafka, Tweepy and Python\n",
    "\n",
    "### Purpose:\n",
    "- main data source for the lambda architecture pipeline\n",
    "- uses twitter streaming API to simulate new events coming in every minute\n",
    "- Kafka Producer sends the tweets as records to the Kafka Broker\n",
    "\n",
    "### Contents: \n",
    "- [Twitter setup](#1)\n",
    "- [Defining the Kafka producer](#2)\n",
    "- [Producing and sending records to the Kafka Broker](#3)\n",
    "- [Deployment](#4)"
   ]
  },
  {
   "cell_type": "markdown",
   "metadata": {},
   "source": [
    "### Required libraries"
   ]
  },
  {
   "cell_type": "code",
   "execution_count": 1,
   "metadata": {},
   "outputs": [],
   "source": [
    "import tweepy\n",
    "import time\n",
    "from kafka import KafkaConsumer, KafkaProducer"
   ]
  },
  {
   "cell_type": "markdown",
   "metadata": {},
   "source": [
    "<a id=\"1\"></a>\n",
    "### Twitter setup\n",
    "- getting the API object using authorization information\n",
    "- you can find more details on how to get the authorization here:\n",
    "https://developer.twitter.com/en/docs/basics/authentication/overview"
   ]
  },
  {
   "cell_type": "code",
   "execution_count": 2,
   "metadata": {},
   "outputs": [],
   "source": [
    "# twitter setup\n",
    "ACCESS_TOKEN = '799844067701977088-qrHMnTaYFUcqBbeG5yT3G8GTieLJt6N'\n",
    "ACCESS_SECRET = 'kRtA7MsTjvAqmft9BdtE7z2FtAouYsOY8OlAvByIy5m1l'\n",
    "CONSUMER_KEY = 'yZUmKJQxfGmpLtvVTmGTHPKiD'\n",
    "CONSUMER_SECRET = '1bwO3JIc664KkObN5LJYVpALDi63NBExoLSKsaMrJ7KPYKYiXM'\n",
    "# Setup tweepy to authenticate with Twitter credentials:\n",
    "auth = tweepy.OAuthHandler(CONSUMER_KEY, CONSUMER_SECRET)\n",
    "auth.set_access_token(ACCESS_TOKEN, ACCESS_SECRET)\n",
    "# Creating the API object by passing in auth information\n",
    "api = tweepy.API(auth) \n"
   ]
  },
  {
   "cell_type": "markdown",
   "metadata": {},
   "source": [
    "A helper function to normalize the time a tweet was created with the time of our system"
   ]
  },
  {
   "cell_type": "code",
   "execution_count": 3,
   "metadata": {},
   "outputs": [],
   "source": [
    "from datetime import datetime, timedelta\n",
    "\n",
    "def normalize_timestamp(time):\n",
    "    mytime = datetime.strptime(time, \"%Y-%m-%d %H:%M:%S\")\n",
    "    mytime += timedelta(hours=1)   # the tweets are timestamped in GMT timezone, while I am in +1 timezone\n",
    "    return (mytime.strftime(\"%Y-%m-%d %H:%M:%S\")) "
   ]
  },
  {
   "cell_type": "markdown",
   "metadata": {},
   "source": [
    "<a id=\"2\"></a>\n",
    "### Defining the Kafka producer\n",
    "- specify the Kafka Broker\n",
    "- specify the topic name\n",
    "- optional: specify partitioning strategy"
   ]
  },
  {
   "cell_type": "code",
   "execution_count": 4,
   "metadata": {},
   "outputs": [],
   "source": [
    "producer = KafkaProducer(bootstrap_servers='localhost:9092')\n",
    "topic_name = 'tweets-kafka-test'"
   ]
  },
  {
   "cell_type": "markdown",
   "metadata": {},
   "source": [
    "<a id=\"3\"></a>\n",
    "### Producing and sending records to the Kafka Broker\n",
    "- querying the Twitter API Object\n",
    "- extracting relevant information from the response\n",
    "- formatting and sending the data to proper topic on the Kafka Broker\n",
    "- resulting tweets have following attributes:\n",
    "    - id \n",
    "    - created_at\n",
    "    - followers_count\n",
    "    - location\n",
    "    - favorite_count\n",
    "    - retweet_count"
   ]
  },
  {
   "cell_type": "code",
   "execution_count": 5,
   "metadata": {},
   "outputs": [],
   "source": [
    "def get_twitter_data():\n",
    "    res = api.search(\"Apple OR iphone OR iPhone\")\n",
    "    j=0\n",
    "    for i in res:\n",
    "        record = ''\n",
    "        record += str(i.user.id_str)\n",
    "        record += ';'\n",
    "        record += str(normalize_timestamp(str(i.created_at)))\n",
    "        record += ';'\n",
    "        record += str(i.user.followers_count)\n",
    "        record += ';'\n",
    "        record += str(i.user.location)\n",
    "        record += ';'\n",
    "        record += str(i.favorite_count)\n",
    "        record += ';'\n",
    "        record += str(i.retweet_count)\n",
    "        record += ';'\n",
    "        producer.send(topic_name, str.encode(record))\n",
    "        if j==0:\n",
    "            print(record)\n",
    "            j+=1"
   ]
  },
  {
   "cell_type": "code",
   "execution_count": 6,
   "metadata": {},
   "outputs": [
    {
     "name": "stdout",
     "output_type": "stream",
     "text": [
      "1096497182;2019-03-25 01:08:11;161;;0;0;\n"
     ]
    }
   ],
   "source": [
    "get_twitter_data()"
   ]
  },
  {
   "cell_type": "markdown",
   "metadata": {},
   "source": [
    "<a id=\"4\"></a>\n",
    "### Deployment \n",
    "- perform the task every couple of minutes and wait in between"
   ]
  },
  {
   "cell_type": "code",
   "execution_count": 7,
   "metadata": {},
   "outputs": [],
   "source": [
    "def periodic_work(interval):\n",
    "    while True:\n",
    "        get_twitter_data()\n",
    "        #interval should be an integer, the number of seconds to wait\n",
    "        time.sleep(interval)\n"
   ]
  },
  {
   "cell_type": "code",
   "execution_count": 8,
   "metadata": {},
   "outputs": [
    {
     "name": "stdout",
     "output_type": "stream",
     "text": [
      "1096497182;2019-03-25 01:08:11;161;;0;0;\n",
      "1096497182;2019-03-25 01:08:11;161;;0;0;\n",
      "1096497182;2019-03-25 01:08:11;161;;0;0;\n",
      "810077802267426816;2019-03-25 01:08:34;428;;0;0;\n",
      "810077802267426816;2019-03-25 01:08:34;428;;0;0;\n",
      "810077802267426816;2019-03-25 01:08:34;428;;0;0;\n",
      "2457401078;2019-03-25 01:08:54;2480;City Boy College;0;0;\n",
      "2457401078;2019-03-25 01:08:54;2480;City Boy College;0;0;\n",
      "2457401078;2019-03-25 01:08:54;2480;City Boy College;0;0;\n",
      "1506364140;2019-03-25 01:09:14;8;;0;17292;\n",
      "1506364140;2019-03-25 01:09:14;8;;0;17293;\n",
      "1506364140;2019-03-25 01:09:14;8;;0;17293;\n",
      "2302591195;2019-03-25 01:09:35;472;;0;307;\n",
      "2302591195;2019-03-25 01:09:35;472;;0;307;\n",
      "2302591195;2019-03-25 01:09:35;472;;0;307;\n",
      "2302591195;2019-03-25 01:09:35;472;;0;307;\n",
      "30093231;2019-03-25 01:09:58;6734;lalaland;0;2341;\n",
      "30093231;2019-03-25 01:09:58;6734;lalaland;0;2341;\n",
      "30093231;2019-03-25 01:09:58;6734;lalaland;0;2341;\n",
      "984479643590971392;2019-03-25 01:10:20;40;;0;0;\n",
      "984479643590971392;2019-03-25 01:10:20;40;;0;0;\n",
      "984479643590971392;2019-03-25 01:10:20;40;;0;0;\n",
      "636778818;2019-03-25 01:10:41;1467;;0;0;\n",
      "636778818;2019-03-25 01:10:41;1467;;0;0;\n",
      "636778818;2019-03-25 01:10:41;1467;;0;0;\n",
      "375634182;2019-03-25 01:11:01;275;York, PA;0;6;\n",
      "375634182;2019-03-25 01:11:01;275;York, PA;0;6;\n",
      "375634182;2019-03-25 01:11:01;275;York, PA;0;6;\n",
      "1023078574281109504;2019-03-25 01:11:22;97;Boston, MA;0;3;\n",
      "1023078574281109504;2019-03-25 01:11:22;97;Boston, MA;0;3;\n",
      "1023078574281109504;2019-03-25 01:11:22;97;Boston, MA;0;3;\n",
      "228137035;2019-03-25 01:11:42;18551;Pageland, SC;0;452;\n",
      "228137035;2019-03-25 01:11:42;18551;Pageland, SC;0;452;\n",
      "228137035;2019-03-25 01:11:42;18551;Pageland, SC;0;452;\n",
      "480443637;2019-03-25 01:12:02;1479;;0;0;\n",
      "480443637;2019-03-25 01:12:02;1479;;0;0;\n",
      "480443637;2019-03-25 01:12:02;1479;;0;0;\n",
      "841316053;2019-03-25 01:12:22;326;Age Factoryという国🏯;0;0;\n",
      "841316053;2019-03-25 01:12:22;326;Age Factoryという国🏯;0;0;\n",
      "841316053;2019-03-25 01:12:22;326;Age Factoryという国🏯;0;0;\n",
      "19469459;2019-03-25 01:12:42;238;Las Vegas, NV;0;0;\n",
      "19469459;2019-03-25 01:12:42;238;Las Vegas, NV;0;0;\n",
      "19469459;2019-03-25 01:12:42;238;Las Vegas, NV;0;0;\n",
      "14134204;2019-03-25 01:13:02;435554;Los Angeles;0;0;\n",
      "14134204;2019-03-25 01:13:02;435554;Los Angeles;0;0;\n",
      "14134204;2019-03-25 01:13:02;435554;Los Angeles;0;0;\n",
      "2940281245;2019-03-25 01:13:22;77;;0;0;\n",
      "2940281245;2019-03-25 01:13:22;77;;0;0;\n",
      "2940281245;2019-03-25 01:13:22;77;;0;0;\n",
      "520055324;2019-03-25 01:13:42;372;;0;13;\n",
      "520055324;2019-03-25 01:13:42;372;;0;13;\n",
      "520055324;2019-03-25 01:13:42;372;;0;13;\n",
      "930608572035149825;2019-03-25 01:14:02;196;Accra, Ghana ;0;25;\n",
      "930608572035149825;2019-03-25 01:14:02;196;Accra, Ghana ;0;25;\n",
      "930608572035149825;2019-03-25 01:14:02;196;Accra, Ghana ;0;25;\n",
      "436336439;2019-03-25 01:14:23;344;Cipinang, Indonesia;0;3389;\n",
      "436336439;2019-03-25 01:14:23;344;Cipinang, Indonesia;0;3389;\n",
      "436336439;2019-03-25 01:14:23;344;Cipinang, Indonesia;0;3389;\n",
      "944570750949871617;2019-03-25 01:14:43;3084;🇵🇹┊jjk + pjm;0;1464;\n",
      "944570750949871617;2019-03-25 01:14:43;3084;🇵🇹┊jjk + pjm;0;1464;\n",
      "944570750949871617;2019-03-25 01:14:43;3084;🇵🇹┊jjk + pjm;0;1464;\n",
      "1084701838304194560;2019-03-25 01:15:03;58;;0;0;\n",
      "1084701838304194560;2019-03-25 01:15:03;58;;0;0;\n",
      "1084701838304194560;2019-03-25 01:15:03;58;;0;0;\n",
      "1013021484699115520;2019-03-25 01:15:23;171;;0;0;\n",
      "1013021484699115520;2019-03-25 01:15:23;171;;0;0;\n",
      "1013021484699115520;2019-03-25 01:15:23;171;;0;0;\n",
      "360784529;2019-03-25 01:15:43;715;Central, Paraguay;0;117;\n",
      "360784529;2019-03-25 01:15:43;715;Central, Paraguay;0;117;\n",
      "360784529;2019-03-25 01:15:43;715;Central, Paraguay;0;117;\n",
      "139203034;2019-03-25 01:16:03;249;england;0;11;\n",
      "139203034;2019-03-25 01:16:03;249;england;0;11;\n",
      "139203034;2019-03-25 01:16:03;249;england;0;11;\n",
      "139203034;2019-03-25 01:16:03;249;england;0;11;\n",
      "859122849486782465;2019-03-25 01:16:29;291;Hope World;0;0;\n",
      "859122849486782465;2019-03-25 01:16:29;291;Hope World;0;0;\n",
      "859122849486782465;2019-03-25 01:16:29;291;Hope World;0;0;\n",
      "287824732;2019-03-25 01:16:49;254;Cuernavaca, Morelos;0;717;\n",
      "287824732;2019-03-25 01:16:49;254;Cuernavaca, Morelos;0;717;\n",
      "287824732;2019-03-25 01:16:49;254;Cuernavaca, Morelos;0;717;\n",
      "287824732;2019-03-25 01:16:49;254;Cuernavaca, Morelos;0;718;\n",
      "2730560946;2019-03-25 01:17:16;1217;MO USA;0;0;\n",
      "2730560946;2019-03-25 01:17:16;1217;MO USA;0;0;\n",
      "2730560946;2019-03-25 01:17:16;1217;MO USA;0;0;\n",
      "3683204232;2019-03-25 01:17:36;362;pluto;0;0;\n",
      "3683204232;2019-03-25 01:17:36;362;pluto;0;0;\n",
      "3683204232;2019-03-25 01:17:36;362;pluto;0;0;\n",
      "88297268;2019-03-25 01:17:56;1259;Kingston, Jamaica.;0;0;\n",
      "88297268;2019-03-25 01:17:56;1259;Kingston, Jamaica.;0;0;\n",
      "88297268;2019-03-25 01:17:56;1259;Kingston, Jamaica.;0;0;\n",
      "963804745277329408;2019-03-25 01:18:16;275;;0;1;\n",
      "963804745277329408;2019-03-25 01:18:16;275;;0;1;\n",
      "963804745277329408;2019-03-25 01:18:16;275;;0;1;\n",
      "1106995498903179264;2019-03-25 01:18:36;20;フォロバお気づかいなく！;0;11;\n",
      "1106995498903179264;2019-03-25 01:18:36;20;フォロバお気づかいなく！;0;11;\n",
      "1106995498903179264;2019-03-25 01:18:36;20;フォロバお気づかいなく！;0;11;\n",
      "305652633;2019-03-25 01:18:57;496;heaven is a place on earth;0;0;\n",
      "305652633;2019-03-25 01:18:57;496;heaven is a place on earth;0;0;\n",
      "305652633;2019-03-25 01:18:57;496;heaven is a place on earth;0;0;\n",
      "3283115284;2019-03-25 01:19:18;230;;0;0;\n",
      "3283115284;2019-03-25 01:19:18;230;;0;0;\n",
      "3283115284;2019-03-25 01:19:18;230;;0;0;\n",
      "196689781;2019-03-25 01:19:38;207;;0;0;\n",
      "196689781;2019-03-25 01:19:38;207;;0;0;\n",
      "196689781;2019-03-25 01:19:38;207;;0;0;\n",
      "790213034576719872;2019-03-25 01:19:58;589;;0;0;\n",
      "790213034576719872;2019-03-25 01:19:58;589;;0;0;\n",
      "790213034576719872;2019-03-25 01:19:58;589;;0;0;\n",
      "835910695149449217;2019-03-25 01:20:18;141;日本;0;0;\n",
      "835910695149449217;2019-03-25 01:20:18;141;日本;0;0;\n",
      "835910695149449217;2019-03-25 01:20:18;141;日本;0;0;\n",
      "848806327044276224;2019-03-25 01:20:38;175;;0;0;\n",
      "848806327044276224;2019-03-25 01:20:38;175;;0;0;\n",
      "848806327044276224;2019-03-25 01:20:38;175;;0;0;\n",
      "474722650;2019-03-25 01:20:59;87;;0;592;\n",
      "474722650;2019-03-25 01:20:59;87;;0;593;\n",
      "474722650;2019-03-25 01:20:59;87;;0;593;\n",
      "263065258;2019-03-25 01:21:19;263;Thailand;0;243;\n",
      "263065258;2019-03-25 01:21:19;263;Thailand;0;243;\n",
      "263065258;2019-03-25 01:21:19;263;Thailand;0;243;\n",
      "263065258;2019-03-25 01:21:19;263;Thailand;0;243;\n",
      "999931713428975616;2019-03-25 01:21:45;295;;0;51;\n",
      "999931713428975616;2019-03-25 01:21:45;295;;0;51;\n"
     ]
    },
    {
     "ename": "RateLimitError",
     "evalue": "[{'message': 'Rate limit exceeded', 'code': 88}]",
     "output_type": "error",
     "traceback": [
      "\u001b[0;31m---------------------------------------------------------------------------\u001b[0m",
      "\u001b[0;31mRateLimitError\u001b[0m                            Traceback (most recent call last)",
      "\u001b[0;32m<ipython-input-8-809bd0f7972b>\u001b[0m in \u001b[0;36m<module>\u001b[0;34m()\u001b[0m\n\u001b[0;32m----> 1\u001b[0;31m \u001b[0mperiodic_work\u001b[0m\u001b[0;34m(\u001b[0m\u001b[0;36m60\u001b[0m \u001b[0;34m*\u001b[0m \u001b[0;36m0.1\u001b[0m\u001b[0;34m)\u001b[0m  \u001b[0;31m# get data every couple of minutes\u001b[0m\u001b[0;34m\u001b[0m\u001b[0m\n\u001b[0m",
      "\u001b[0;32m<ipython-input-7-5443c491c3b7>\u001b[0m in \u001b[0;36mperiodic_work\u001b[0;34m(interval)\u001b[0m\n\u001b[1;32m      1\u001b[0m \u001b[0;32mdef\u001b[0m \u001b[0mperiodic_work\u001b[0m\u001b[0;34m(\u001b[0m\u001b[0minterval\u001b[0m\u001b[0;34m)\u001b[0m\u001b[0;34m:\u001b[0m\u001b[0;34m\u001b[0m\u001b[0m\n\u001b[1;32m      2\u001b[0m     \u001b[0;32mwhile\u001b[0m \u001b[0;32mTrue\u001b[0m\u001b[0;34m:\u001b[0m\u001b[0;34m\u001b[0m\u001b[0m\n\u001b[0;32m----> 3\u001b[0;31m         \u001b[0mget_twitter_data\u001b[0m\u001b[0;34m(\u001b[0m\u001b[0;34m)\u001b[0m\u001b[0;34m\u001b[0m\u001b[0m\n\u001b[0m\u001b[1;32m      4\u001b[0m         \u001b[0;31m#interval should be an integer, the number of seconds to wait\u001b[0m\u001b[0;34m\u001b[0m\u001b[0;34m\u001b[0m\u001b[0m\n\u001b[1;32m      5\u001b[0m         \u001b[0mtime\u001b[0m\u001b[0;34m.\u001b[0m\u001b[0msleep\u001b[0m\u001b[0;34m(\u001b[0m\u001b[0minterval\u001b[0m\u001b[0;34m)\u001b[0m\u001b[0;34m\u001b[0m\u001b[0m\n",
      "\u001b[0;32m<ipython-input-5-3b78408c0a08>\u001b[0m in \u001b[0;36mget_twitter_data\u001b[0;34m()\u001b[0m\n\u001b[1;32m      1\u001b[0m \u001b[0;32mdef\u001b[0m \u001b[0mget_twitter_data\u001b[0m\u001b[0;34m(\u001b[0m\u001b[0;34m)\u001b[0m\u001b[0;34m:\u001b[0m\u001b[0;34m\u001b[0m\u001b[0m\n\u001b[0;32m----> 2\u001b[0;31m     \u001b[0mres\u001b[0m \u001b[0;34m=\u001b[0m \u001b[0mapi\u001b[0m\u001b[0;34m.\u001b[0m\u001b[0msearch\u001b[0m\u001b[0;34m(\u001b[0m\u001b[0;34m\"Apple OR iphone OR iPhone\"\u001b[0m\u001b[0;34m)\u001b[0m\u001b[0;34m\u001b[0m\u001b[0m\n\u001b[0m\u001b[1;32m      3\u001b[0m     \u001b[0mj\u001b[0m\u001b[0;34m=\u001b[0m\u001b[0;36m0\u001b[0m\u001b[0;34m\u001b[0m\u001b[0m\n\u001b[1;32m      4\u001b[0m     \u001b[0;32mfor\u001b[0m \u001b[0mi\u001b[0m \u001b[0;32min\u001b[0m \u001b[0mres\u001b[0m\u001b[0;34m:\u001b[0m\u001b[0;34m\u001b[0m\u001b[0m\n\u001b[1;32m      5\u001b[0m         \u001b[0mrecord\u001b[0m \u001b[0;34m=\u001b[0m \u001b[0;34m''\u001b[0m\u001b[0;34m\u001b[0m\u001b[0m\n",
      "\u001b[0;32m~/miniconda3/lib/python3.6/site-packages/tweepy/binder.py\u001b[0m in \u001b[0;36m_call\u001b[0;34m(*args, **kwargs)\u001b[0m\n\u001b[1;32m    248\u001b[0m             \u001b[0;32mreturn\u001b[0m \u001b[0mmethod\u001b[0m\u001b[0;34m\u001b[0m\u001b[0m\n\u001b[1;32m    249\u001b[0m         \u001b[0;32melse\u001b[0m\u001b[0;34m:\u001b[0m\u001b[0;34m\u001b[0m\u001b[0m\n\u001b[0;32m--> 250\u001b[0;31m             \u001b[0;32mreturn\u001b[0m \u001b[0mmethod\u001b[0m\u001b[0;34m.\u001b[0m\u001b[0mexecute\u001b[0m\u001b[0;34m(\u001b[0m\u001b[0;34m)\u001b[0m\u001b[0;34m\u001b[0m\u001b[0m\n\u001b[0m\u001b[1;32m    251\u001b[0m \u001b[0;34m\u001b[0m\u001b[0m\n\u001b[1;32m    252\u001b[0m     \u001b[0;31m# Set pagination mode\u001b[0m\u001b[0;34m\u001b[0m\u001b[0;34m\u001b[0m\u001b[0m\n",
      "\u001b[0;32m~/miniconda3/lib/python3.6/site-packages/tweepy/binder.py\u001b[0m in \u001b[0;36mexecute\u001b[0;34m(self)\u001b[0m\n\u001b[1;32m    230\u001b[0m \u001b[0;34m\u001b[0m\u001b[0m\n\u001b[1;32m    231\u001b[0m                 \u001b[0;32mif\u001b[0m \u001b[0mis_rate_limit_error_message\u001b[0m\u001b[0;34m(\u001b[0m\u001b[0merror_msg\u001b[0m\u001b[0;34m)\u001b[0m\u001b[0;34m:\u001b[0m\u001b[0;34m\u001b[0m\u001b[0m\n\u001b[0;32m--> 232\u001b[0;31m                     \u001b[0;32mraise\u001b[0m \u001b[0mRateLimitError\u001b[0m\u001b[0;34m(\u001b[0m\u001b[0merror_msg\u001b[0m\u001b[0;34m,\u001b[0m \u001b[0mresp\u001b[0m\u001b[0;34m)\u001b[0m\u001b[0;34m\u001b[0m\u001b[0m\n\u001b[0m\u001b[1;32m    233\u001b[0m                 \u001b[0;32melse\u001b[0m\u001b[0;34m:\u001b[0m\u001b[0;34m\u001b[0m\u001b[0m\n\u001b[1;32m    234\u001b[0m                     \u001b[0;32mraise\u001b[0m \u001b[0mTweepError\u001b[0m\u001b[0;34m(\u001b[0m\u001b[0merror_msg\u001b[0m\u001b[0;34m,\u001b[0m \u001b[0mresp\u001b[0m\u001b[0;34m,\u001b[0m \u001b[0mapi_code\u001b[0m\u001b[0;34m=\u001b[0m\u001b[0mapi_error_code\u001b[0m\u001b[0;34m)\u001b[0m\u001b[0;34m\u001b[0m\u001b[0m\n",
      "\u001b[0;31mRateLimitError\u001b[0m: [{'message': 'Rate limit exceeded', 'code': 88}]"
     ]
    }
   ],
   "source": [
    "periodic_work(60 * 0.1)  # get data every couple of minutes"
   ]
  },
  {
   "cell_type": "code",
   "execution_count": null,
   "metadata": {},
   "outputs": [],
   "source": []
  },
  {
   "cell_type": "code",
   "execution_count": null,
   "metadata": {},
   "outputs": [],
   "source": []
  }
 ],
 "metadata": {
  "kernelspec": {
   "display_name": "Python 3",
   "language": "python",
   "name": "python3"
  },
  "language_info": {
   "codemirror_mode": {
    "name": "ipython",
    "version": 3
   },
   "file_extension": ".py",
   "mimetype": "text/x-python",
   "name": "python",
   "nbconvert_exporter": "python",
   "pygments_lexer": "ipython3",
   "version": "3.6.3"
  }
 },
 "nbformat": 4,
 "nbformat_minor": 2
}

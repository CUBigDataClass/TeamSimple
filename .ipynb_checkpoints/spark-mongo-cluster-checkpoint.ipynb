{
 "cells": [
  {
   "cell_type": "code",
   "execution_count": 15,
   "metadata": {},
   "outputs": [],
   "source": [
    "from pyspark.sql.functions import udf, col,split\n",
    "from pyspark.ml.clustering import KMeans\n",
    "import json\n",
    "import elasticsearch\n",
    "from elasticsearch import Elasticsearch\n",
    "from elasticsearch import helpers"
   ]
  },
  {
   "cell_type": "code",
   "execution_count": 9,
   "metadata": {},
   "outputs": [
    {
     "name": "stdout",
     "output_type": "stream",
     "text": [
      "root\n",
      " |-- _id: struct (nullable = true)\n",
      " |    |-- oid: string (nullable = true)\n",
      " |-- created_at: string (nullable = true)\n",
      " |-- loc_lat: double (nullable = true)\n",
      " |-- loc_long: double (nullable = true)\n",
      " |-- text: string (nullable = true)\n",
      "\n"
     ]
    }
   ],
   "source": [
    "from pyspark.sql import SparkSession\n",
    "my_spark = SparkSession \\\n",
    "    .builder \\\n",
    "    .appName(\"myApp\") \\\n",
    "    .config(\"spark.mongodb.input.uri\", \"mongodb://127.0.0.1/mydatabase.tweets_test\") \\\n",
    "    .config(\"spark.mongodb.output.uri\", \"mongodb://127.0.0.1/mydatabase.tweets_test\") \\\n",
    "    .config(\"spark.io.compression.codec\", \"snappy\").getOrCreate() #this line's config is for solving lz4 error\n",
    "dataFrame=my_spark.read.format(\"com.mongodb.spark.sql.DefaultSource\").load()\n",
    "dataFrame.printSchema()"
   ]
  },
  {
   "cell_type": "code",
   "execution_count": 10,
   "metadata": {},
   "outputs": [],
   "source": [
    "#split = udf(lambda x: x.split(','))\n",
    "#df.withColumn(\"user_location\", split_udf(col(\"user_location\"))).show()\n",
    "#df=dataFrame.withColumn(\"user_location\",\n",
    "   # split(col(\"user_location\"), \",\\s*\").cast(\"array<float>\").alias(\"user_location\")\n",
    "#)\n",
    "#df_loc = df.select('user_location')"
   ]
  },
  {
   "cell_type": "code",
   "execution_count": 11,
   "metadata": {},
   "outputs": [],
   "source": [
    "from pyspark.ml.linalg import Vectors\n",
    "from pyspark.ml.feature import VectorAssembler\n",
    "assembler = VectorAssembler(\n",
    "    inputCols=['loc_lat','loc_long'],\n",
    "    outputCol='features')\n",
    "trainingData = assembler.transform(dataFrame)\n",
    "#trainingData.show()"
   ]
  },
  {
   "cell_type": "code",
   "execution_count": 12,
   "metadata": {},
   "outputs": [
    {
     "name": "stdout",
     "output_type": "stream",
     "text": [
      "Cluster Centers: \n",
      "[54.7023545 -3.2765753]\n",
      "[43.4773251 65.9795093]\n",
      "[ 34.86553795 -85.3075054 ]\n"
     ]
    }
   ],
   "source": [
    "kmeans = KMeans(k=3,seed=1)\n",
    "model = kmeans.fit(trainingData)\n",
    "# Shows the result.\n",
    "centers = model.clusterCenters()\n",
    "print(\"Cluster Centers: \")\n",
    "for center in centers:\n",
    "    print(center)"
   ]
  },
  {
   "cell_type": "code",
   "execution_count": 53,
   "metadata": {
    "scrolled": true
   },
   "outputs": [],
   "source": [
    "cluster_ind = model.transform(trainingData)\n",
    "dataToKibana = cluster_ind.toPandas().to_dict('record')\n",
    "for item in dataToKibana:\n",
    "    item['created_at'] =item['created_at'][:10]+'T'+item['created_at'][11:]+'Z'\n",
    "    \n",
    "for item in dataToKibana:\n",
    "    item['loc_lat'] =round(item['loc_lat'],2)\n",
    "    item['loc_long'] =round(item['loc_long'],2)"
   ]
  },
  {
   "cell_type": "code",
   "execution_count": 54,
   "metadata": {
    "scrolled": false
   },
   "outputs": [
    {
     "data": {
      "text/plain": [
       "[{'_id': Row(oid='5c9b0b44566b181e0f151227'),\n",
       "  'created_at': '2019-03-27T05:33:33Z',\n",
       "  'features': DenseVector([57.255, 59.4294]),\n",
       "  'loc_lat': 57.25,\n",
       "  'loc_long': 59.43,\n",
       "  'prediction': 1,\n",
       "  'text': 'my whole life i’ve been scared to fully be me bc i always felt i had to be humble or that i had too big of a person… https://t.co/V2na5uK00V'},\n",
       " {'_id': Row(oid='5c9b0b44566b181e0f151228'),\n",
       "  'created_at': '2019-03-27T05:33:33Z',\n",
       "  'features': DenseVector([40.1353, -79.8955]),\n",
       "  'loc_lat': 40.14,\n",
       "  'loc_long': -79.9,\n",
       "  'prediction': 2,\n",
       "  'text': '@TheBat2019 @Tully_of_rivia I literally had a vcr in a closet for years and years and years until I finally threw it out maybe 5 years ago'},\n",
       " {'_id': Row(oid='5c9b0b44566b181e0f151229'),\n",
       "  'created_at': '2019-03-27T05:33:33Z',\n",
       "  'features': DenseVector([29.5958, -90.7195]),\n",
       "  'loc_lat': 29.6,\n",
       "  'loc_long': -90.72,\n",
       "  'prediction': 2,\n",
       "  'text': 'RT @kenliedavis: nice teeth are (and i cannot stress this enough) EVERYTHING'},\n",
       " {'_id': Row(oid='5c9b0b44566b181e0f15122a'),\n",
       "  'created_at': '2019-03-27T05:33:33Z',\n",
       "  'features': DenseVector([29.6997, 72.5297]),\n",
       "  'loc_lat': 29.7,\n",
       "  'loc_long': 72.53,\n",
       "  'prediction': 1,\n",
       "  'text': 'RT @hyunjinphotos: 190109\\n\\nHE CUT HIS HAIR AND IT LOOKS SO GOOD\\n\\n©️in the flames https://t.co/j3inVXidM0'},\n",
       " {'_id': Row(oid='5c9b0b44566b181e0f15122b'),\n",
       "  'created_at': '2019-03-27T05:33:33Z',\n",
       "  'features': DenseVector([54.7024, -3.2766]),\n",
       "  'loc_lat': 54.7,\n",
       "  'loc_long': -3.28,\n",
       "  'prediction': 0,\n",
       "  'text': 'In #Doha today with @SafeToNet and our @ooredoo friends for the #OoredooInnovate roadshow. Here to keep @qatar chil… https://t.co/ut4mgyJVQB'},\n",
       " {'_id': Row(oid='5c9b0b4d566b181e0f15122c'),\n",
       "  'created_at': '2019-03-27T05:33:33Z',\n",
       "  'features': DenseVector([57.255, 59.4294]),\n",
       "  'loc_lat': 57.25,\n",
       "  'loc_long': 59.43,\n",
       "  'prediction': 1,\n",
       "  'text': 'my whole life i’ve been scared to fully be me bc i always felt i had to be humble or that i had too big of a person… https://t.co/V2na5uK00V'},\n",
       " {'_id': Row(oid='5c9b0b4e566b181e0f15122d'),\n",
       "  'created_at': '2019-03-27T05:33:33Z',\n",
       "  'features': DenseVector([40.1353, -79.8955]),\n",
       "  'loc_lat': 40.14,\n",
       "  'loc_long': -79.9,\n",
       "  'prediction': 2,\n",
       "  'text': '@TheBat2019 @Tully_of_rivia I literally had a vcr in a closet for years and years and years until I finally threw it out maybe 5 years ago'},\n",
       " {'_id': Row(oid='5c9b0b4e566b181e0f15122e'),\n",
       "  'created_at': '2019-03-27T05:33:33Z',\n",
       "  'features': DenseVector([29.5958, -90.7195]),\n",
       "  'loc_lat': 29.6,\n",
       "  'loc_long': -90.72,\n",
       "  'prediction': 2,\n",
       "  'text': 'RT @kenliedavis: nice teeth are (and i cannot stress this enough) EVERYTHING'},\n",
       " {'_id': Row(oid='5c9b0b4f566b181e0f15122f'),\n",
       "  'created_at': '2019-03-27T05:33:33Z',\n",
       "  'features': DenseVector([29.6997, 72.5297]),\n",
       "  'loc_lat': 29.7,\n",
       "  'loc_long': 72.53,\n",
       "  'prediction': 1,\n",
       "  'text': 'RT @hyunjinphotos: 190109\\n\\nHE CUT HIS HAIR AND IT LOOKS SO GOOD\\n\\n©️in the flames https://t.co/j3inVXidM0'},\n",
       " {'_id': Row(oid='5c9b0b51566b181e0f151230'),\n",
       "  'created_at': '2019-03-27T05:33:33Z',\n",
       "  'features': DenseVector([54.7024, -3.2766]),\n",
       "  'loc_lat': 54.7,\n",
       "  'loc_long': -3.28,\n",
       "  'prediction': 0,\n",
       "  'text': 'In #Doha today with @SafeToNet and our @ooredoo friends for the #OoredooInnovate roadshow. Here to keep @qatar chil… https://t.co/ut4mgyJVQB'}]"
      ]
     },
     "execution_count": 54,
     "metadata": {},
     "output_type": "execute_result"
    }
   ],
   "source": [
    "dataToKibana"
   ]
  },
  {
   "cell_type": "code",
   "execution_count": 63,
   "metadata": {
    "scrolled": false
   },
   "outputs": [
    {
     "name": "stderr",
     "output_type": "stream",
     "text": [
      "PUT http://localhost:9200/loc6/_mapping/tweet [status:404 request:0.008s]\n"
     ]
    },
    {
     "ename": "NotFoundError",
     "evalue": "NotFoundError(404, 'index_not_found_exception', 'no such index')",
     "output_type": "error",
     "traceback": [
      "\u001b[0;31m---------------------------------------------------------------------------\u001b[0m",
      "\u001b[0;31mNotFoundError\u001b[0m                             Traceback (most recent call last)",
      "\u001b[0;32m<ipython-input-63-1d05a004bd13>\u001b[0m in \u001b[0;36m<module>\u001b[0;34m()\u001b[0m\n\u001b[1;32m     11\u001b[0m         }\n\u001b[1;32m     12\u001b[0m }\n\u001b[0;32m---> 13\u001b[0;31m \u001b[0mes\u001b[0m\u001b[0;34m.\u001b[0m\u001b[0mindices\u001b[0m\u001b[0;34m.\u001b[0m\u001b[0mput_mapping\u001b[0m\u001b[0;34m(\u001b[0m\u001b[0mindex\u001b[0m \u001b[0;34m=\u001b[0m \u001b[0;34m\"loc6\"\u001b[0m\u001b[0;34m,\u001b[0m \u001b[0mdoc_type\u001b[0m \u001b[0;34m=\u001b[0m \u001b[0;34m\"tweet\"\u001b[0m\u001b[0;34m,\u001b[0m \u001b[0mbody\u001b[0m \u001b[0;34m=\u001b[0m \u001b[0mmappings\u001b[0m\u001b[0;34m)\u001b[0m\u001b[0;34m\u001b[0m\u001b[0m\n\u001b[0m\u001b[1;32m     14\u001b[0m \u001b[0;32mfor\u001b[0m \u001b[0mmsg\u001b[0m \u001b[0;32min\u001b[0m \u001b[0mdataToKibana\u001b[0m\u001b[0;34m:\u001b[0m\u001b[0;34m\u001b[0m\u001b[0m\n\u001b[1;32m     15\u001b[0m     \u001b[0mprint\u001b[0m\u001b[0;34m(\u001b[0m\u001b[0mmsg\u001b[0m\u001b[0;34m[\u001b[0m\u001b[0;34m\"text\"\u001b[0m\u001b[0;34m]\u001b[0m\u001b[0;34m)\u001b[0m\u001b[0;34m\u001b[0m\u001b[0m\n",
      "\u001b[0;32m~/miniconda3/lib/python3.6/site-packages/elasticsearch/client/utils.py\u001b[0m in \u001b[0;36m_wrapped\u001b[0;34m(*args, **kwargs)\u001b[0m\n\u001b[1;32m     74\u001b[0m                 \u001b[0;32mif\u001b[0m \u001b[0mp\u001b[0m \u001b[0;32min\u001b[0m \u001b[0mkwargs\u001b[0m\u001b[0;34m:\u001b[0m\u001b[0;34m\u001b[0m\u001b[0m\n\u001b[1;32m     75\u001b[0m                     \u001b[0mparams\u001b[0m\u001b[0;34m[\u001b[0m\u001b[0mp\u001b[0m\u001b[0;34m]\u001b[0m \u001b[0;34m=\u001b[0m \u001b[0mkwargs\u001b[0m\u001b[0;34m.\u001b[0m\u001b[0mpop\u001b[0m\u001b[0;34m(\u001b[0m\u001b[0mp\u001b[0m\u001b[0;34m)\u001b[0m\u001b[0;34m\u001b[0m\u001b[0m\n\u001b[0;32m---> 76\u001b[0;31m             \u001b[0;32mreturn\u001b[0m \u001b[0mfunc\u001b[0m\u001b[0;34m(\u001b[0m\u001b[0;34m*\u001b[0m\u001b[0margs\u001b[0m\u001b[0;34m,\u001b[0m \u001b[0mparams\u001b[0m\u001b[0;34m=\u001b[0m\u001b[0mparams\u001b[0m\u001b[0;34m,\u001b[0m \u001b[0;34m**\u001b[0m\u001b[0mkwargs\u001b[0m\u001b[0;34m)\u001b[0m\u001b[0;34m\u001b[0m\u001b[0m\n\u001b[0m\u001b[1;32m     77\u001b[0m         \u001b[0;32mreturn\u001b[0m \u001b[0m_wrapped\u001b[0m\u001b[0;34m\u001b[0m\u001b[0m\n\u001b[1;32m     78\u001b[0m     \u001b[0;32mreturn\u001b[0m \u001b[0m_wrapper\u001b[0m\u001b[0;34m\u001b[0m\u001b[0m\n",
      "\u001b[0;32m~/miniconda3/lib/python3.6/site-packages/elasticsearch/client/indices.py\u001b[0m in \u001b[0;36mput_mapping\u001b[0;34m(self, doc_type, body, index, params)\u001b[0m\n\u001b[1;32m    264\u001b[0m                 \u001b[0;32mraise\u001b[0m \u001b[0mValueError\u001b[0m\u001b[0;34m(\u001b[0m\u001b[0;34m\"Empty value passed for a required argument.\"\u001b[0m\u001b[0;34m)\u001b[0m\u001b[0;34m\u001b[0m\u001b[0m\n\u001b[1;32m    265\u001b[0m         return self.transport.perform_request('PUT', _make_path(index,\n\u001b[0;32m--> 266\u001b[0;31m             '_mapping', doc_type), params=params, body=body)\n\u001b[0m\u001b[1;32m    267\u001b[0m \u001b[0;34m\u001b[0m\u001b[0m\n\u001b[1;32m    268\u001b[0m     @query_params('allow_no_indices', 'expand_wildcards', 'ignore_unavailable',\n",
      "\u001b[0;32m~/miniconda3/lib/python3.6/site-packages/elasticsearch/transport.py\u001b[0m in \u001b[0;36mperform_request\u001b[0;34m(self, method, url, headers, params, body)\u001b[0m\n\u001b[1;32m    316\u001b[0m                 \u001b[0mdelay\u001b[0m \u001b[0;34m=\u001b[0m \u001b[0;36m2\u001b[0m\u001b[0;34m**\u001b[0m\u001b[0mattempt\u001b[0m \u001b[0;34m-\u001b[0m \u001b[0;36m1\u001b[0m\u001b[0;34m\u001b[0m\u001b[0m\n\u001b[1;32m    317\u001b[0m                 \u001b[0mtime\u001b[0m\u001b[0;34m.\u001b[0m\u001b[0msleep\u001b[0m\u001b[0;34m(\u001b[0m\u001b[0mdelay\u001b[0m\u001b[0;34m)\u001b[0m\u001b[0;34m\u001b[0m\u001b[0m\n\u001b[0;32m--> 318\u001b[0;31m                 \u001b[0mstatus\u001b[0m\u001b[0;34m,\u001b[0m \u001b[0mheaders_response\u001b[0m\u001b[0;34m,\u001b[0m \u001b[0mdata\u001b[0m \u001b[0;34m=\u001b[0m \u001b[0mconnection\u001b[0m\u001b[0;34m.\u001b[0m\u001b[0mperform_request\u001b[0m\u001b[0;34m(\u001b[0m\u001b[0mmethod\u001b[0m\u001b[0;34m,\u001b[0m \u001b[0murl\u001b[0m\u001b[0;34m,\u001b[0m \u001b[0mparams\u001b[0m\u001b[0;34m,\u001b[0m \u001b[0mbody\u001b[0m\u001b[0;34m,\u001b[0m \u001b[0mheaders\u001b[0m\u001b[0;34m=\u001b[0m\u001b[0mheaders\u001b[0m\u001b[0;34m,\u001b[0m \u001b[0mignore\u001b[0m\u001b[0;34m=\u001b[0m\u001b[0mignore\u001b[0m\u001b[0;34m,\u001b[0m \u001b[0mtimeout\u001b[0m\u001b[0;34m=\u001b[0m\u001b[0mtimeout\u001b[0m\u001b[0;34m)\u001b[0m\u001b[0;34m\u001b[0m\u001b[0m\n\u001b[0m\u001b[1;32m    319\u001b[0m \u001b[0;34m\u001b[0m\u001b[0m\n\u001b[1;32m    320\u001b[0m             \u001b[0;32mexcept\u001b[0m \u001b[0mTransportError\u001b[0m \u001b[0;32mas\u001b[0m \u001b[0me\u001b[0m\u001b[0;34m:\u001b[0m\u001b[0;34m\u001b[0m\u001b[0m\n",
      "\u001b[0;32m~/miniconda3/lib/python3.6/site-packages/elasticsearch/connection/http_urllib3.py\u001b[0m in \u001b[0;36mperform_request\u001b[0;34m(self, method, url, params, body, timeout, ignore, headers)\u001b[0m\n\u001b[1;32m    184\u001b[0m         \u001b[0;32mif\u001b[0m \u001b[0;32mnot\u001b[0m \u001b[0;34m(\u001b[0m\u001b[0;36m200\u001b[0m \u001b[0;34m<=\u001b[0m \u001b[0mresponse\u001b[0m\u001b[0;34m.\u001b[0m\u001b[0mstatus\u001b[0m \u001b[0;34m<\u001b[0m \u001b[0;36m300\u001b[0m\u001b[0;34m)\u001b[0m \u001b[0;32mand\u001b[0m \u001b[0mresponse\u001b[0m\u001b[0;34m.\u001b[0m\u001b[0mstatus\u001b[0m \u001b[0;32mnot\u001b[0m \u001b[0;32min\u001b[0m \u001b[0mignore\u001b[0m\u001b[0;34m:\u001b[0m\u001b[0;34m\u001b[0m\u001b[0m\n\u001b[1;32m    185\u001b[0m             \u001b[0mself\u001b[0m\u001b[0;34m.\u001b[0m\u001b[0mlog_request_fail\u001b[0m\u001b[0;34m(\u001b[0m\u001b[0mmethod\u001b[0m\u001b[0;34m,\u001b[0m \u001b[0mfull_url\u001b[0m\u001b[0;34m,\u001b[0m \u001b[0murl\u001b[0m\u001b[0;34m,\u001b[0m \u001b[0mbody\u001b[0m\u001b[0;34m,\u001b[0m \u001b[0mduration\u001b[0m\u001b[0;34m,\u001b[0m \u001b[0mresponse\u001b[0m\u001b[0;34m.\u001b[0m\u001b[0mstatus\u001b[0m\u001b[0;34m,\u001b[0m \u001b[0mraw_data\u001b[0m\u001b[0;34m)\u001b[0m\u001b[0;34m\u001b[0m\u001b[0m\n\u001b[0;32m--> 186\u001b[0;31m             \u001b[0mself\u001b[0m\u001b[0;34m.\u001b[0m\u001b[0m_raise_error\u001b[0m\u001b[0;34m(\u001b[0m\u001b[0mresponse\u001b[0m\u001b[0;34m.\u001b[0m\u001b[0mstatus\u001b[0m\u001b[0;34m,\u001b[0m \u001b[0mraw_data\u001b[0m\u001b[0;34m)\u001b[0m\u001b[0;34m\u001b[0m\u001b[0m\n\u001b[0m\u001b[1;32m    187\u001b[0m \u001b[0;34m\u001b[0m\u001b[0m\n\u001b[1;32m    188\u001b[0m         self.log_request_success(method, full_url, url, body, response.status,\n",
      "\u001b[0;32m~/miniconda3/lib/python3.6/site-packages/elasticsearch/connection/base.py\u001b[0m in \u001b[0;36m_raise_error\u001b[0;34m(self, status_code, raw_data)\u001b[0m\n\u001b[1;32m    123\u001b[0m             \u001b[0mlogger\u001b[0m\u001b[0;34m.\u001b[0m\u001b[0mwarning\u001b[0m\u001b[0;34m(\u001b[0m\u001b[0;34m'Undecodable raw error response from server: %s'\u001b[0m\u001b[0;34m,\u001b[0m \u001b[0merr\u001b[0m\u001b[0;34m)\u001b[0m\u001b[0;34m\u001b[0m\u001b[0m\n\u001b[1;32m    124\u001b[0m \u001b[0;34m\u001b[0m\u001b[0m\n\u001b[0;32m--> 125\u001b[0;31m         \u001b[0;32mraise\u001b[0m \u001b[0mHTTP_EXCEPTIONS\u001b[0m\u001b[0;34m.\u001b[0m\u001b[0mget\u001b[0m\u001b[0;34m(\u001b[0m\u001b[0mstatus_code\u001b[0m\u001b[0;34m,\u001b[0m \u001b[0mTransportError\u001b[0m\u001b[0;34m)\u001b[0m\u001b[0;34m(\u001b[0m\u001b[0mstatus_code\u001b[0m\u001b[0;34m,\u001b[0m \u001b[0merror_message\u001b[0m\u001b[0;34m,\u001b[0m \u001b[0madditional_info\u001b[0m\u001b[0;34m)\u001b[0m\u001b[0;34m\u001b[0m\u001b[0m\n\u001b[0m\u001b[1;32m    126\u001b[0m \u001b[0;34m\u001b[0m\u001b[0m\n\u001b[1;32m    127\u001b[0m \u001b[0;34m\u001b[0m\u001b[0m\n",
      "\u001b[0;31mNotFoundError\u001b[0m: NotFoundError(404, 'index_not_found_exception', 'no such index')"
     ]
    }
   ],
   "source": [
    "es = Elasticsearch(hosts='http://localhost',port=9200)\n",
    "actions = []\n",
    "mappings = {\n",
    "    \"tweet\": {\n",
    "        \"properties\": {\n",
    "            \"text\": { \"type\": \"text\"  },\n",
    "            \"timestamp\": { \"type\": \"date\" },\n",
    "            \"location\": {\"type\": \"geo_point\"},\n",
    "            \"prediction\": {\"type\": \"integer\"}\n",
    "            }\n",
    "        }\n",
    "}\n",
    "es.indices.create(index=index_name, body=mappings)\n",
    "for msg in dataToKibana:\n",
    "    print(msg[\"text\"])\n",
    "    print(\"-------------\")\n",
    "    action = {\n",
    "            \"index\": \"loc6\",\n",
    "            \"type\": \"tweet\",\n",
    "            \"source\": {\n",
    "                'text' : msg[\"text\"],\n",
    "                'timestamp': msg[\"created_at\"],\n",
    "                'location': [msg[\"loc_long\"],msg[\"loc_lat\"]],\n",
    "                'prediction': msg[\"prediction\"]\n",
    "                }\n",
    "            }\n",
    "    actions.append(json.dumps(action))\n",
    "helpers.bulk(es, actions, index='loc6', doc_type='tweet')\n",
    "    "
   ]
  },
  {
   "cell_type": "code",
   "execution_count": null,
   "metadata": {},
   "outputs": [],
   "source": []
  },
  {
   "cell_type": "code",
   "execution_count": null,
   "metadata": {},
   "outputs": [],
   "source": []
  }
 ],
 "metadata": {
  "kernelspec": {
   "display_name": "Python 3",
   "language": "python",
   "name": "python3"
  },
  "language_info": {
   "codemirror_mode": {
    "name": "ipython",
    "version": 3
   },
   "file_extension": ".py",
   "mimetype": "text/x-python",
   "name": "python",
   "nbconvert_exporter": "python",
   "pygments_lexer": "ipython3",
   "version": "3.6.3"
  }
 },
 "nbformat": 4,
 "nbformat_minor": 2
}
